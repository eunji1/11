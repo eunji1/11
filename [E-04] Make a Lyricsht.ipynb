{
 "cells": [
  {
   "cell_type": "markdown",
   "id": "3406d656",
   "metadata": {},
   "source": [
    "# [E-04] Make a Lyricsht\n",
    "### 멋진 작사가"
   ]
  },
  {
   "cell_type": "markdown",
   "id": "68b27d12",
   "metadata": {},
   "source": [
    "# Step 1. 데이터 다운로드"
   ]
  },
  {
   "cell_type": "markdown",
   "id": "37740e00",
   "metadata": {},
   "source": [
    "~/aiffel/lyricist/data/lyrics 폴더"
   ]
  },
  {
   "cell_type": "markdown",
   "id": "d2bafe47",
   "metadata": {},
   "source": [
    "# Step 2. 데이터 읽어오기"
   ]
  },
  {
   "cell_type": "code",
   "execution_count": 1,
   "id": "1552bbd5",
   "metadata": {},
   "outputs": [
    {
     "name": "stdout",
     "output_type": "stream",
     "text": [
      "데이터 크기: 187088\n",
      "Examples:\n",
      " [\"Now I've heard there was a secret chord\", 'That David played, and it pleased the Lord', \"But you don't really care for music, do you?\"]\n"
     ]
    }
   ],
   "source": [
    "import glob\n",
    "import numpy as np\n",
    "import tensorflow as tf\n",
    "import os, re\n",
    "\n",
    "txt_file_path = os.getenv('HOME')+'/aiffel/lyricist/data/lyrics/*'\n",
    "txt_list = glob.glob(txt_file_path)\n",
    "\n",
    "raw_corpus = []\n",
    "\n",
    "# 여러개의 txt 파일을 모두 읽어서 raw_corpus 에 담습니다.\n",
    "for txt_file in txt_list:\n",
    "    with open(txt_file, \"r\") as f:\n",
    "        raw = f.read().splitlines()\n",
    "        raw_corpus.extend(raw)\n",
    "\n",
    "print(\"데이터 크기:\", len(raw_corpus))\n",
    "print(\"Examples:\\n\", raw_corpus[:3])"
   ]
  },
  {
   "cell_type": "markdown",
   "id": "97efa326",
   "metadata": {},
   "source": [
    "# Step 3. 데이터 정제"
   ]
  },
  {
   "cell_type": "markdown",
   "id": "45837286",
   "metadata": {},
   "source": [
    "입력된 문장을 \n",
    "1. 소문자로 바꾸고, 양쪽 공백을 지웁니다\n",
    "2. 특수문자 양쪽에 공백을 넣고\n",
    "3. 여러개의 공백은 하나의 공백으로 바꿉니다\n",
    "4. a-zA-Z?.!,¿가 아닌 모든 문자를 하나의 공백으로 바꿉니다\n",
    "5. 다시 양쪽 공백을 지웁니다\n",
    "6. 문장 시작에는 start, 끝에는 end를 추가합니다"
   ]
  },
  {
   "cell_type": "code",
   "execution_count": 2,
   "id": "dfb41d54",
   "metadata": {},
   "outputs": [
    {
     "name": "stdout",
     "output_type": "stream",
     "text": [
      "<start> this is sample sentence . <end>\n"
     ]
    }
   ],
   "source": [
    "def preprocess_sentence(sentence):\n",
    "    sentence = sentence.lower().strip() # 1\n",
    "    sentence = re.sub(r\"([?.!,¿])\", r\" \\1 \", sentence) # 2\n",
    "    sentence = re.sub(r'[\" \"]+', \" \", sentence) # 3\n",
    "    sentence = re.sub(r\"[^a-zA-Z?.!,¿]+\", \" \", sentence) # 4\n",
    "    sentence = sentence.strip() # 5\n",
    "    sentence = '<start> ' + sentence + ' <end>' # 6\n",
    "    return sentence\n",
    "\n",
    "print(preprocess_sentence(\"This @_is ;;;sample        sentence.\"))"
   ]
  },
  {
   "cell_type": "code",
   "execution_count": 17,
   "id": "9260f813",
   "metadata": {},
   "outputs": [
    {
     "data": {
      "text/plain": [
       "['<start> now i ve heard there was a secret chord <end>',\n",
       " '<start> that david played , and it pleased the lord <end>',\n",
       " '<start> but you don t really care for music , do you ? <end>',\n",
       " '<start> it goes like this <end>',\n",
       " '<start> the fourth , the fifth <end>',\n",
       " '<start> the minor fall , the major lift <end>',\n",
       " '<start> the baffled king composing hallelujah hallelujah <end>',\n",
       " '<start> hallelujah your faith was strong but you needed proof <end>',\n",
       " '<start> you saw her bathing on the roof <end>',\n",
       " '<start> her beauty and the moonlight overthrew her <end>']"
      ]
     },
     "execution_count": 17,
     "metadata": {},
     "output_type": "execute_result"
    }
   ],
   "source": [
    "corpus = []\n",
    "\n",
    "for sentence in raw_corpus:\n",
    "    # 우리가 원하지 않는 문장은 건너뜁니다\n",
    "    if len(sentence) == 0: continue \n",
    "    if len(sentence.split())< 3: continue #oh oh 같은 반복되는 불필요한 부분 제거 하고 싶다\n",
    "\n",
    "    preprocessed_sentence = preprocess_sentence(sentence)\n",
    "    corpus.append(preprocessed_sentence)\n",
    "        \n",
    "corpus[:10]"
   ]
  },
  {
   "cell_type": "code",
   "execution_count": 18,
   "id": "a10169dc",
   "metadata": {},
   "outputs": [
    {
     "name": "stdout",
     "output_type": "stream",
     "text": [
      "[[   2   50    5 ...    0    0    0]\n",
      " [   2   17 2601 ...    0    0    0]\n",
      " [   2   35    7 ...   44    3    0]\n",
      " ...\n",
      " [   5   21   10 ...    9 1003    3]\n",
      " [  37   15 8893 ...  868  637    3]\n",
      " [   2    7   33 ...    0    0    0]] <keras_preprocessing.text.Tokenizer object at 0x7f768159c0a0>\n"
     ]
    },
    {
     "data": {
      "text/plain": [
       "(167650, 15)"
      ]
     },
     "execution_count": 18,
     "metadata": {},
     "output_type": "execute_result"
    }
   ],
   "source": [
    "# 토큰화 할 때 텐서플로우의 Tokenizer와 pad_sequences를 사용합니다\n",
    "\n",
    "def tokenize(corpus):\n",
    "\n",
    "    tokenizer = tf.keras.preprocessing.text.Tokenizer(\n",
    "        num_words=12000, #단어장 크기\n",
    "        filters=' ',\n",
    "        oov_token=\"<unk>\" #12000단어에 포함되지 못한 단어는 <unk>\n",
    "    )\n",
    "\n",
    "    tokenizer.fit_on_texts(corpus)\n",
    "    # 준비한 tokenizer를 이용해 corpus를 Tensor로 변환합니다\n",
    "    tensor = tokenizer.texts_to_sequences(corpus)   \n",
    "    # 입력 데이터의 시퀀스 길이를 일정하게 맞춰줍니다\n",
    "    # 만약 시퀀스가 짧다면 문장 뒤에 패딩을 붙여 길이를 맞춰줍니다.\n",
    "    tensor = tf.keras.preprocessing.sequence.pad_sequences(tensor, padding='post',maxlen=15)  \n",
    "        # 문장 길이를 15로 줄이기\n",
    "    \n",
    "    print(tensor,tokenizer)\n",
    "    return tensor, tokenizer\n",
    "\n",
    "tensor, tokenizer = tokenize(corpus)\n",
    "tensor.shape"
   ]
  },
  {
   "cell_type": "code",
   "execution_count": 19,
   "id": "ac65b727",
   "metadata": {},
   "outputs": [
    {
     "name": "stdout",
     "output_type": "stream",
     "text": [
      "[[   2   50    5   91  294   64   55   10  968 5924]\n",
      " [   2   17 2601  867    4    8   11 5925    6  332]\n",
      " [   2   35    7   37   15  164  281   28  298    4]]\n"
     ]
    }
   ],
   "source": [
    "print(tensor[:3, :10])"
   ]
  },
  {
   "cell_type": "code",
   "execution_count": 20,
   "id": "730ede3e",
   "metadata": {},
   "outputs": [
    {
     "name": "stdout",
     "output_type": "stream",
     "text": [
      "1 : <unk>\n",
      "2 : <start>\n",
      "3 : <end>\n",
      "4 : ,\n",
      "5 : i\n",
      "6 : the\n",
      "7 : you\n",
      "8 : and\n",
      "9 : to\n",
      "10 : a\n"
     ]
    }
   ],
   "source": [
    "for idx in tokenizer.index_word:\n",
    "    print(idx, \":\", tokenizer.index_word[idx])\n",
    "\n",
    "    if idx >= 10: break"
   ]
  },
  {
   "cell_type": "markdown",
   "id": "7054b736",
   "metadata": {},
   "source": [
    "# Step 4. 평가 데이터셋 분리"
   ]
  },
  {
   "cell_type": "markdown",
   "id": "fb2640cb",
   "metadata": {},
   "source": [
    "sklearn 모듈의 train_test_split() 함수를 사용해 훈련 데이터와 평가 데이터를 분리\n",
    "- 단어장 크기: 7000 \n",
    "- test_data 20%"
   ]
  },
  {
   "cell_type": "code",
   "execution_count": 21,
   "id": "6224cd52",
   "metadata": {},
   "outputs": [
    {
     "name": "stdout",
     "output_type": "stream",
     "text": [
      "[   2   50    5   91  294   64   55   10  968 5924    3    0    0    0]\n",
      "[  50    5   91  294   64   55   10  968 5924    3    0    0    0    0]\n",
      "167650\n"
     ]
    }
   ],
   "source": [
    "from sklearn.model_selection import train_test_split\n",
    "\n",
    "src_input = tensor[:, :-1]  \n",
    "tgt_input = tensor[:, 1:]    \n",
    "\n",
    "enc_train, enc_val, dec_train, dec_val = train_test_split(src_input, tgt_input, test_size=0.2, random_state=7)\n",
    "# src와 tgt\n",
    "print(src_input[0])\n",
    "print(tgt_input[0])\n",
    "\n",
    "print(len(src_input))"
   ]
  },
  {
   "cell_type": "code",
   "execution_count": 23,
   "id": "144e0aaf",
   "metadata": {},
   "outputs": [
    {
     "name": "stdout",
     "output_type": "stream",
     "text": [
      "Source Train: (134120, 14)\n",
      "Source Val: (33530, 14)\n",
      "Target Train: (134120, 14)\n",
      "Target Val: (33530, 14)\n"
     ]
    }
   ],
   "source": [
    "print(\"Source Train:\", enc_train.shape)\n",
    "print(\"Source Val:\", enc_val.shape)\n",
    "print(\"Target Train:\", dec_train.shape)\n",
    "print(\"Target Val:\", dec_val.shape)"
   ]
  },
  {
   "cell_type": "code",
   "execution_count": 24,
   "id": "519373a4",
   "metadata": {},
   "outputs": [
    {
     "data": {
      "text/plain": [
       "<BatchDataset shapes: ((256, 14), (256, 14)), types: (tf.int32, tf.int32)>"
      ]
     },
     "execution_count": 24,
     "metadata": {},
     "output_type": "execute_result"
    }
   ],
   "source": [
    "BUFFER_SIZE = len(src_input)\n",
    "BATCH_SIZE = 256\n",
    "steps_per_epoch = len(src_input) // BATCH_SIZE\n",
    "\n",
    " # tokenizer가 구축한 단어사전 내 12000개와, 여기 포함되지 않은 0:<pad>를 포함하여 12001개\n",
    "VOCAB_SIZE = tokenizer.num_words + 1   \n",
    "\n",
    "dataset = tf.data.Dataset.from_tensor_slices((enc_train, dec_train))\n",
    "dataset = tf.data.Dataset.from_tensor_slices((enc_val, dec_val))\n",
    "dataset = dataset.shuffle(BUFFER_SIZE)\n",
    "dataset = dataset.batch(BATCH_SIZE, drop_remainder=True)\n",
    "dataset"
   ]
  },
  {
   "cell_type": "markdown",
   "id": "5ed89ade",
   "metadata": {},
   "source": [
    "지금까지의 데이터셋을 생성하기 위해 텐서플로우에서의 데이터 전처리 과정\n",
    "\n",
    "- 정규표현식을 이용한 corpus 생성\n",
    "- tf.keras.preprocessing.text.Tokenizer를 이용해 corpus를 텐서로 변환\n",
    "- tf.data.Dataset.from_tensor_slices()를 이용해 corpus 텐서를 tf.data.Dataset객체로 변환\n",
    "- dataset 생성\n",
    "\n",
    "tf.data.Dataset에서 제공하는 shuffle(), batch() 등 다양한 데이터셋 관련 기능을 손쉽게 이용할 수 있게 되었군요."
   ]
  },
  {
   "cell_type": "code",
   "execution_count": 25,
   "id": "0b6ef5fa",
   "metadata": {},
   "outputs": [],
   "source": [
    "class TextGenerator(tf.keras.Model):\n",
    "    def __init__(self, vocab_size, embedding_size, hidden_size):\n",
    "        super().__init__()\n",
    "        \n",
    "        self.embedding = tf.keras.layers.Embedding(vocab_size, embedding_size)\n",
    "        self.rnn_1 = tf.keras.layers.LSTM(hidden_size, return_sequences=True)\n",
    "        self.rnn_2 = tf.keras.layers.LSTM(hidden_size, return_sequences=True)\n",
    "        self.linear = tf.keras.layers.Dense(vocab_size)\n",
    "        \n",
    "    def call(self, x):\n",
    "        out = self.embedding(x)\n",
    "        out = self.rnn_1(out)\n",
    "        out = self.rnn_2(out)\n",
    "        out = self.linear(out)\n",
    "        \n",
    "        return out\n",
    "    \n",
    "embedding_size = 256\n",
    "hidden_size = 2048\n",
    "model = TextGenerator(tokenizer.num_words + 1, embedding_size , hidden_size)"
   ]
  },
  {
   "cell_type": "markdown",
   "id": "fe7ec312",
   "metadata": {},
   "source": [
    "- embedding_size 는 워드 벡터의 차원수, 즉 단어가 추상적으로 표현되는 크기\n",
    "- hidden_size 는 모델에 얼마나 많은 일꾼을 둘 것인가?"
   ]
  },
  {
   "cell_type": "code",
   "execution_count": 26,
   "id": "3feb481b",
   "metadata": {},
   "outputs": [
    {
     "data": {
      "text/plain": [
       "<tf.Tensor: shape=(256, 14, 12001), dtype=float32, numpy=\n",
       "array([[[ 1.0470767e-05,  1.1893480e-04, -3.7375768e-05, ...,\n",
       "         -1.6645015e-04,  2.0513535e-04,  9.3048009e-05],\n",
       "        [-2.8775208e-05,  2.6061709e-04,  6.3643303e-05, ...,\n",
       "         -5.0798384e-04,  2.9017526e-04,  3.9747465e-05],\n",
       "        [ 2.1082172e-04,  3.0830229e-04,  1.1150116e-04, ...,\n",
       "         -7.5830135e-04,  3.3282969e-04,  9.6566859e-05],\n",
       "        ...,\n",
       "        [ 2.4711963e-04, -4.3889860e-04,  7.7391957e-04, ...,\n",
       "         -1.8966912e-03,  6.0240453e-04,  7.1113429e-04],\n",
       "        [ 6.8360096e-05, -6.9753540e-04,  8.9338422e-04, ...,\n",
       "         -1.9756514e-03,  5.9153530e-04,  9.8981475e-04],\n",
       "        [-1.2169771e-04, -9.6565415e-04,  9.7905006e-04, ...,\n",
       "         -2.0215425e-03,  5.5125490e-04,  1.2388235e-03]],\n",
       "\n",
       "       [[ 1.0470767e-05,  1.1893480e-04, -3.7375768e-05, ...,\n",
       "         -1.6645015e-04,  2.0513535e-04,  9.3048009e-05],\n",
       "        [-1.4622266e-04,  1.5582706e-04, -7.8119476e-05, ...,\n",
       "         -2.7786259e-04,  1.0007727e-04,  2.2557867e-04],\n",
       "        [-6.0087891e-04, -1.3875810e-05, -1.9896090e-04, ...,\n",
       "         -7.9920713e-04, -7.6006909e-05,  2.4013028e-04],\n",
       "        ...,\n",
       "        [-6.2856515e-04, -1.8079467e-04,  1.0494762e-03, ...,\n",
       "         -1.9739999e-03,  2.5438698e-04,  5.9108576e-04],\n",
       "        [-6.6689868e-04, -4.3346555e-04,  1.1976417e-03, ...,\n",
       "         -2.0612872e-03,  4.5902227e-04,  8.0871274e-04],\n",
       "        [-7.2365807e-04, -7.0386723e-04,  1.2919467e-03, ...,\n",
       "         -2.1131907e-03,  5.8880553e-04,  1.0150388e-03]],\n",
       "\n",
       "       [[ 1.0470767e-05,  1.1893480e-04, -3.7375768e-05, ...,\n",
       "         -1.6645015e-04,  2.0513535e-04,  9.3048009e-05],\n",
       "        [ 7.0363826e-06,  2.8471809e-04,  1.7331094e-04, ...,\n",
       "         -4.1269552e-04,  3.2297114e-04,  1.1130785e-04],\n",
       "        [-1.4617238e-05,  1.2561692e-04,  3.9444352e-04, ...,\n",
       "         -5.9422734e-04,  4.6951525e-04,  3.3506757e-04],\n",
       "        ...,\n",
       "        [ 2.1330296e-04, -1.6908755e-04,  6.9285202e-04, ...,\n",
       "         -1.8333043e-03,  1.0464499e-03,  9.5536379e-04],\n",
       "        [ 2.2285773e-05, -4.2269501e-04,  7.9122372e-04, ...,\n",
       "         -1.8901333e-03,  1.0500625e-03,  1.1277621e-03],\n",
       "        [-1.6709520e-04, -6.9350586e-04,  8.5720152e-04, ...,\n",
       "         -1.9233852e-03,  1.0166031e-03,  1.2945830e-03]],\n",
       "\n",
       "       ...,\n",
       "\n",
       "       [[ 1.0470767e-05,  1.1893480e-04, -3.7375768e-05, ...,\n",
       "         -1.6645015e-04,  2.0513535e-04,  9.3048009e-05],\n",
       "        [-1.8992666e-04,  8.8712535e-05, -1.1706131e-04, ...,\n",
       "         -2.9138513e-04,  4.4816491e-04,  1.6890989e-04],\n",
       "        [-3.2066426e-04,  2.4131594e-04, -1.4518977e-04, ...,\n",
       "         -5.8219547e-04,  5.4739980e-04,  9.4358811e-06],\n",
       "        ...,\n",
       "        [-3.7749580e-04, -9.4583177e-04,  1.0771628e-03, ...,\n",
       "         -2.4648423e-03,  8.2297350e-04,  1.1798295e-03],\n",
       "        [-5.2648952e-04, -1.1765406e-03,  1.1437088e-03, ...,\n",
       "         -2.4339000e-03,  7.9263252e-04,  1.4016741e-03],\n",
       "        [-6.8128330e-04, -1.3848793e-03,  1.1808687e-03, ...,\n",
       "         -2.3885423e-03,  7.3067425e-04,  1.5918839e-03]],\n",
       "\n",
       "       [[ 1.0470767e-05,  1.1893480e-04, -3.7375768e-05, ...,\n",
       "         -1.6645015e-04,  2.0513535e-04,  9.3048009e-05],\n",
       "        [ 2.4560059e-04,  1.4431249e-04, -6.0675236e-05, ...,\n",
       "         -3.6595415e-04,  3.4953890e-04,  2.2100964e-04],\n",
       "        [ 6.3106121e-04,  3.3136187e-04, -1.3705037e-04, ...,\n",
       "         -3.8179083e-04,  5.8363017e-04,  2.3545907e-04],\n",
       "        ...,\n",
       "        [-7.9686107e-04, -1.1699429e-04,  7.0740969e-04, ...,\n",
       "          7.3461304e-04,  3.9202190e-04,  7.6698634e-04],\n",
       "        [-7.9930900e-04, -1.0758748e-04,  8.7040337e-04, ...,\n",
       "          3.9360241e-04,  5.1695504e-04,  8.4083423e-04],\n",
       "        [-8.0582121e-04, -1.2810586e-04,  1.0740716e-03, ...,\n",
       "         -3.9377541e-05,  6.7139394e-04,  9.7251899e-04]],\n",
       "\n",
       "       [[ 1.0470767e-05,  1.1893480e-04, -3.7375768e-05, ...,\n",
       "         -1.6645015e-04,  2.0513535e-04,  9.3048009e-05],\n",
       "        [ 2.4560059e-04,  1.4431249e-04, -6.0675236e-05, ...,\n",
       "         -3.6595415e-04,  3.4953890e-04,  2.2100964e-04],\n",
       "        [ 4.9327564e-04,  1.0050880e-04, -3.0833506e-04, ...,\n",
       "         -7.2640961e-04,  6.2687031e-04,  3.4083318e-04],\n",
       "        ...,\n",
       "        [ 5.9939933e-04, -6.6056201e-04,  2.6670116e-04, ...,\n",
       "         -1.3746955e-03, -9.0351468e-04, -7.5405894e-04],\n",
       "        [ 5.0858589e-04, -4.5743209e-04,  2.8311633e-06, ...,\n",
       "         -1.2697788e-03, -1.0170620e-03, -7.1916077e-04],\n",
       "        [ 4.8001952e-04, -1.7427551e-04, -2.0526942e-04, ...,\n",
       "         -1.1875145e-03, -9.0000615e-04, -7.9045113e-04]]], dtype=float32)>"
      ]
     },
     "execution_count": 26,
     "metadata": {},
     "output_type": "execute_result"
    }
   ],
   "source": [
    "for src_input, tgt_input in dataset.take(1): break\n",
    "\n",
    "\n",
    "model(src_input)"
   ]
  },
  {
   "cell_type": "code",
   "execution_count": 27,
   "id": "c53711df",
   "metadata": {},
   "outputs": [
    {
     "name": "stdout",
     "output_type": "stream",
     "text": [
      "Model: \"text_generator_1\"\n",
      "_________________________________________________________________\n",
      "Layer (type)                 Output Shape              Param #   \n",
      "=================================================================\n",
      "embedding_1 (Embedding)      multiple                  3072256   \n",
      "_________________________________________________________________\n",
      "lstm_2 (LSTM)                multiple                  18882560  \n",
      "_________________________________________________________________\n",
      "lstm_3 (LSTM)                multiple                  33562624  \n",
      "_________________________________________________________________\n",
      "dense_1 (Dense)              multiple                  24590049  \n",
      "=================================================================\n",
      "Total params: 80,107,489\n",
      "Trainable params: 80,107,489\n",
      "Non-trainable params: 0\n",
      "_________________________________________________________________\n"
     ]
    }
   ],
   "source": [
    "model.summary()"
   ]
  },
  {
   "cell_type": "markdown",
   "id": "7260263e",
   "metadata": {},
   "source": [
    "# Step 5. 인공지능 만들기"
   ]
  },
  {
   "cell_type": "code",
   "execution_count": 28,
   "id": "1e9e7b5c",
   "metadata": {},
   "outputs": [
    {
     "name": "stdout",
     "output_type": "stream",
     "text": [
      "Epoch 1/10\n",
      "130/130 [==============================] - 66s 491ms/step - loss: 4.5263\n",
      "Epoch 2/10\n",
      "130/130 [==============================] - 64s 489ms/step - loss: 3.7868\n",
      "Epoch 3/10\n",
      "130/130 [==============================] - 63s 488ms/step - loss: 3.5702\n",
      "Epoch 4/10\n",
      "130/130 [==============================] - 64s 491ms/step - loss: 3.3709\n",
      "Epoch 5/10\n",
      "130/130 [==============================] - 63s 488ms/step - loss: 3.2301\n",
      "Epoch 6/10\n",
      "130/130 [==============================] - 63s 487ms/step - loss: 3.1183\n",
      "Epoch 7/10\n",
      "130/130 [==============================] - 63s 486ms/step - loss: 2.9885\n",
      "Epoch 8/10\n",
      "130/130 [==============================] - 63s 488ms/step - loss: 2.8581\n",
      "Epoch 9/10\n",
      "130/130 [==============================] - 64s 490ms/step - loss: 2.7259\n",
      "Epoch 10/10\n",
      "130/130 [==============================] - 64s 491ms/step - loss: 2.5906\n"
     ]
    },
    {
     "data": {
      "text/plain": [
       "<keras.callbacks.History at 0x7f7564337df0>"
      ]
     },
     "execution_count": 28,
     "metadata": {},
     "output_type": "execute_result"
    }
   ],
   "source": [
    "#Loss\n",
    "optimizer = tf.keras.optimizers.Adam()\n",
    "loss = tf.keras.losses.SparseCategoricalCrossentropy(\n",
    "    from_logits=True, reduction='none')\n",
    "\n",
    "model.compile(loss=loss, optimizer=optimizer)\n",
    "model.fit(dataset, epochs=10)"
   ]
  },
  {
   "cell_type": "markdown",
   "id": "ad0f9f04",
   "metadata": {},
   "source": [
    "# 문장생성 (I love~)"
   ]
  },
  {
   "cell_type": "code",
   "execution_count": 14,
   "id": "d1628d00",
   "metadata": {},
   "outputs": [],
   "source": [
    "def generate_text(model, tokenizer, init_sentence=\"<start> i love\", max_len=15):\n",
    "    # 테스트를 위해서 입력받은 init_sentence도 텐서로 변환합니다\n",
    "    test_input = tokenizer.texts_to_sequences([init_sentence])\n",
    "    test_tensor = tf.convert_to_tensor(test_input, dtype=tf.int64)\n",
    "    end_token = tokenizer.word_index[\"<end>\"]\n",
    "\n",
    "    # 단어 하나씩 예측해 문장을 만듭니다\n",
    "    #    1. 입력받은 문장의 텐서를 입력합니다\n",
    "    #    2. 예측된 값 중 가장 높은 확률인 word index를 뽑아냅니다\n",
    "    #    3. 2에서 예측된 word index를 문장 뒤에 붙입니다\n",
    "    #    4. 모델이 <end>를 예측했거나, max_len에 도달했다면 문장 생성을 마칩니다\n",
    "    while True:\n",
    "        # 1\n",
    "        predict = model(test_tensor) \n",
    "        # 2\n",
    "        predict_word = tf.argmax(tf.nn.softmax(predict, axis=-1), axis=-1)[:, -1] \n",
    "        # 3 \n",
    "        test_tensor = tf.concat([test_tensor, tf.expand_dims(predict_word, axis=0)], axis=-1)\n",
    "        # 4\n",
    "        if predict_word.numpy()[0] == end_token: break\n",
    "        if test_tensor.shape[1] >= max_len: break\n",
    "\n",
    "    generated = \"\"\n",
    "    # tokenizer를 이용해 word index를 단어로 하나씩 변환합니다 \n",
    "    for word_index in test_tensor[0].numpy():\n",
    "        generated += tokenizer.index_word[word_index] + \" \"\n",
    "\n",
    "    return generated"
   ]
  },
  {
   "cell_type": "code",
   "execution_count": 15,
   "id": "bb4153e6",
   "metadata": {},
   "outputs": [
    {
     "data": {
      "text/plain": [
       "'<start> i love you <end> '"
      ]
     },
     "execution_count": 15,
     "metadata": {},
     "output_type": "execute_result"
    }
   ],
   "source": [
    "generate_text(model, tokenizer, init_sentence=\"<start> i love\", max_len=15)"
   ]
  },
  {
   "cell_type": "markdown",
   "id": "d69f248e",
   "metadata": {},
   "source": [
    "# 회고\n",
    "\n",
    "멋진 모델이 생성한 가사 (i love~)뒤에 오는 가사가 고작 \n",
    "i love you를 만들기 위해 내가 모델을 설계했나하는 실망감이 든다.\n",
    "\n",
    "이것은 처음부터 준비한 데이터셋들이 기존의 가사들로 이루어져서\n",
    "간결한 문장을 만들어낸 것이란 예측이 든다.\n",
    "\n",
    "이것을 해결하려면 \n",
    "- 긴문장들로 이루어진 데이터셋을 준비하거나 \n",
    "- 데이터 전처리 과정에서 본인은 2단어 이하의 문장들을 제거했지만 3단어 이하의 문장을 제거하는 방법도 있다."
   ]
  }
 ],
 "metadata": {
  "kernelspec": {
   "display_name": "Python 3 (ipykernel)",
   "language": "python",
   "name": "python3"
  },
  "language_info": {
   "codemirror_mode": {
    "name": "ipython",
    "version": 3
   },
   "file_extension": ".py",
   "mimetype": "text/x-python",
   "name": "python",
   "nbconvert_exporter": "python",
   "pygments_lexer": "ipython3",
   "version": "3.9.7"
  }
 },
 "nbformat": 4,
 "nbformat_minor": 5
}
