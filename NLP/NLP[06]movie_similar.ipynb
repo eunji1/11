{
  "nbformat": 4,
  "nbformat_minor": 0,
  "metadata": {
    "colab": {
      "name": "NLP[06]_movie_similar.ipynb",
      "provenance": [],
      "collapsed_sections": [],
      "machine_shape": "hm"
    },
    "kernelspec": {
      "name": "python3",
      "display_name": "Python 3"
    },
    "language_info": {
      "name": "python"
    },
    "accelerator": "GPU"
  },
  "cells": [
    {
      "cell_type": "code",
      "source": [
        "from google.colab import drive\n",
        "drive.mount('/content/drive')"
      ],
      "metadata": {
        "colab": {
          "base_uri": "https://localhost:8080/"
        },
        "id": "5UdzWtdgliec",
        "outputId": "b45b5be1-4d12-487b-a5f1-386ddb160fc7"
      },
      "execution_count": null,
      "outputs": [
        {
          "output_type": "stream",
          "name": "stdout",
          "text": [
            "Drive already mounted at /content/drive; to attempt to forcibly remount, call drive.mount(\"/content/drive\", force_remount=True).\n"
          ]
        }
      ]
    },
    {
      "cell_type": "code",
      "source": [
        "#! wget https://aiffelstaticprd.blob.core.windows.net/media/documents/synopsis.zip\n",
        "#! mv synopsis.zip /content/drive/MyDrive/Colab/Going_Deeper(NLP)/Node.06/weat/\n",
        "#! cd /content/drive/MyDrive/Colab/Going_Deeper(NLP)/Node.06/weat && unzip synopsis.zip"
      ],
      "metadata": {
        "colab": {
          "base_uri": "https://localhost:8080/"
        },
        "id": "4GND6nOtlN4f",
        "outputId": "76293a9c-3fd2-4ec8-99f6-0971ea3fd7f6"
      },
      "execution_count": null,
      "outputs": [
        {
          "output_type": "stream",
          "name": "stdout",
          "text": [
            "--2022-04-03 13:39:43--  https://aiffelstaticprd.blob.core.windows.net/media/documents/synopsis.zip\n",
            "Resolving aiffelstaticprd.blob.core.windows.net (aiffelstaticprd.blob.core.windows.net)... 52.239.148.4\n",
            "Connecting to aiffelstaticprd.blob.core.windows.net (aiffelstaticprd.blob.core.windows.net)|52.239.148.4|:443... connected.\n",
            "HTTP request sent, awaiting response... 200 OK\n",
            "Length: 18399462 (18M) [application/x-zip-compressed]\n",
            "Saving to: ‘synopsis.zip.5’\n",
            "\n",
            "synopsis.zip.5      100%[===================>]  17.55M  4.46MB/s    in 5.0s    \n",
            "\n",
            "2022-04-03 13:39:49 (3.49 MB/s) - ‘synopsis.zip.5’ saved [18399462/18399462]\n",
            "\n",
            "/bin/bash: -c: line 0: syntax error near unexpected token `('\n",
            "/bin/bash: -c: line 0: ` mv synopsis.zip (/content/drive/MyDrive/Colab/Going_Deeper(NLP)/Node.06/weat)'\n",
            "/bin/bash: -c: line 0: syntax error near unexpected token `/content/drive/MyDrive/Colab/Going_Deeper'\n",
            "/bin/bash: -c: line 0: ` cd (/content/drive/MyDrive/Colab/Going_Deeper(NLP)/Node.06/weat) && unzip synopsis.zip'\n"
          ]
        }
      ]
    },
    {
      "cell_type": "code",
      "source": [
        "! pip install --upgrade gensim==4.1.2"
      ],
      "metadata": {
        "colab": {
          "base_uri": "https://localhost:8080/"
        },
        "id": "1Cw1PlnivHdi",
        "outputId": "bfacb19c-7292-4d3c-aeb1-d89f3f4489e1"
      },
      "execution_count": null,
      "outputs": [
        {
          "output_type": "stream",
          "name": "stdout",
          "text": [
            "Requirement already satisfied: gensim==4.1.2 in /usr/local/lib/python3.7/dist-packages (4.1.2)\n",
            "Requirement already satisfied: numpy>=1.17.0 in /usr/local/lib/python3.7/dist-packages (from gensim==4.1.2) (1.21.5)\n",
            "Requirement already satisfied: smart-open>=1.8.1 in /usr/local/lib/python3.7/dist-packages (from gensim==4.1.2) (5.2.1)\n",
            "Requirement already satisfied: scipy>=0.18.1 in /usr/local/lib/python3.7/dist-packages (from gensim==4.1.2) (1.4.1)\n"
          ]
        }
      ]
    },
    {
      "cell_type": "code",
      "source": [
        "! pip install konlpy"
      ],
      "metadata": {
        "colab": {
          "base_uri": "https://localhost:8080/"
        },
        "id": "jlVSeWb0raz5",
        "outputId": "cc61fdf9-ef96-43b1-b0d5-25d2acf977e5"
      },
      "execution_count": null,
      "outputs": [
        {
          "output_type": "stream",
          "name": "stdout",
          "text": [
            "Requirement already satisfied: konlpy in /usr/local/lib/python3.7/dist-packages (0.6.0)\n",
            "Requirement already satisfied: JPype1>=0.7.0 in /usr/local/lib/python3.7/dist-packages (from konlpy) (1.3.0)\n",
            "Requirement already satisfied: numpy>=1.6 in /usr/local/lib/python3.7/dist-packages (from konlpy) (1.21.5)\n",
            "Requirement already satisfied: lxml>=4.1.0 in /usr/local/lib/python3.7/dist-packages (from konlpy) (4.2.6)\n",
            "Requirement already satisfied: typing-extensions in /usr/local/lib/python3.7/dist-packages (from JPype1>=0.7.0->konlpy) (3.10.0.2)\n"
          ]
        }
      ]
    },
    {
      "cell_type": "code",
      "source": [
        "!sudo apt-get install -y fonts-nanum # 나눔 글꼴체\n",
        "!sudo fc-cache -fv\n",
        "!rm ~/.cache/matplotlib -rf"
      ],
      "metadata": {
        "colab": {
          "base_uri": "https://localhost:8080/"
        },
        "id": "64HglkW5MYMa",
        "outputId": "c17343dc-fe37-4bdf-ddc0-0f4eae124332"
      },
      "execution_count": null,
      "outputs": [
        {
          "output_type": "stream",
          "name": "stdout",
          "text": [
            "Reading package lists... Done\n",
            "Building dependency tree       \n",
            "Reading state information... Done\n",
            "fonts-nanum is already the newest version (20170925-1).\n",
            "0 upgraded, 0 newly installed, 0 to remove and 82 not upgraded.\n",
            "/usr/share/fonts: caching, new cache contents: 0 fonts, 1 dirs\n",
            "/usr/share/fonts/truetype: caching, new cache contents: 0 fonts, 3 dirs\n",
            "/usr/share/fonts/truetype/humor-sans: caching, new cache contents: 1 fonts, 0 dirs\n",
            "/usr/share/fonts/truetype/liberation: caching, new cache contents: 16 fonts, 0 dirs\n",
            "/usr/share/fonts/truetype/nanum: caching, new cache contents: 31 fonts, 0 dirs\n",
            "/usr/local/share/fonts: caching, new cache contents: 0 fonts, 0 dirs\n",
            "/root/.local/share/fonts: skipping, no such directory\n",
            "/root/.fonts: skipping, no such directory\n",
            "/var/cache/fontconfig: cleaning cache directory\n",
            "/root/.cache/fontconfig: not cleaning non-existent cache directory\n",
            "/root/.fontconfig: not cleaning non-existent cache directory\n",
            "fc-cache: succeeded\n"
          ]
        }
      ]
    },
    {
      "cell_type": "markdown",
      "source": [
        "## 6-프로젝트 : 모든 장르 간 편향성 측정해 보기\n",
        "지금까지 우리는 영화 시놉시스 코퍼스를 가지고 영화 구분과 영화 장르 간에 내재된 편향성을 측정하는 작업을 진행해 보았습니다. 어느 정도는 우리의 상식과 일치하는 편향성이 측정되었을 것입니다.\n",
        "\n",
        "이번에는 모든 장르에 대해 영화 구분과의 편향성 정도를 측정해 보겠습니다. \n",
        "\n",
        "---\n",
        "synopsis.txt(대략 17MB)에는 2001년부터 2019년 8월까지 제작된 영화들의 시놉시스 정보가 있습니다. (개봉된 영화 중 일부만 포함되어있습니다. 더 많은 영화 정보를 원하시면 KOBIS에서 확인하시기 바랍니다.) synopsis.txt의 일부를 읽어볼까요?\n"
      ],
      "metadata": {
        "id": "0anTFC6GrVJD"
      }
    },
    {
      "cell_type": "markdown",
      "source": [
        "STEP 1. 형태소 분석기를 이용하여 품사가 명사인 경우 해당 단어를 추출하기\n",
        "\n",
        "---"
      ],
      "metadata": {
        "id": "N8RXZ4s3MIKp"
      }
    },
    {
      "cell_type": "code",
      "source": [
        "import os\n",
        "\n",
        "with open('/content/drive/MyDrive/Colab/Going_Deeper(NLP)/Node.06/weat/synopsis.txt', 'r') as file:\n",
        "    for i in range(20):\n",
        "        print(file.readline(), end='')"
      ],
      "metadata": {
        "colab": {
          "base_uri": "https://localhost:8080/"
        },
        "id": "2jBOAgT0q8ZR",
        "outputId": "be6f85e0-95e6-42f0-9f1d-cdc3cecbca7c"
      },
      "execution_count": null,
      "outputs": [
        {
          "output_type": "stream",
          "name": "stdout",
          "text": [
            "사운드 엔지니어 상우(유지태 분)는 치매에 걸린 할머니(백성희 분)와\n",
            " 젊은 시절 상처한 한 아버지(박인환 분), 고모(신신애 분)와 함께 살고 있다.\n",
            " 어느 겨울 그는 지방 방송국 라디오 PD 은수(이영애 분)를 만난다.\n",
            " 자연의 소리를 채집해 틀어주는 라디오 프로그램을 준비하는 은수는 상우와 녹음 여행을 떠난다.\n",
            " 자연스레 가까워지는 두 사람은 어느 날, 은수의 아파트에서 밤을 보낸다.\n",
            " 너무 쉽게 사랑에 빠진 두 사람... 상우는 주체할 수 없을 정도로 그녀에게 빨려든다.\n",
            " 그러나 겨울에 만난 두 사람의 관계는 봄을 지나 여름을 맞이하면서 삐걱거린다.\n",
            " 이혼 경험이 있는 은수는 상우에게 결혼할 생각이 없다며 부담스러운 표정을 내비친다.\n",
            " \"어떻게 사랑이 변하니?...\"라고 묻는 상우에게 은수는 그저 \"헤어져\" 라고 단호하게 말한다.\n",
            " 영원히 변할 것 같지 않던 사랑이 변하고, 그 사실을 받아들이지 못하는 상우는 어찌 할 바를 모른다.\n",
            " 은수를 잊지 못하는 상우는 미련과 집착의 감정을 이기지 못하고 서울과 강릉을 오간다.\n",
            "유사 이래 연령, 성별, 빈부의 차이와 정치적인 입장을 불문하고 일거에 국민을 통합해 온 '애국심'이라는 성역에 일침을 가하는 다큐멘터리. 재작년 전국 민족민주 유가족협의회의 장기농성을 다룬 인상적인 다큐멘터리 <민들레>를 만들었던 독립영화집단 '빨간 눈사람'이 우리 사회 구석구석을 발빠르게 돌아다니며 애국심과 민족주의가 강요되는 현장을 발굴하여 카메라에 담았다. 박홍 서강대 명예총장, 이도형 '한국논단' 발행인, 축구해설자 신문선, 홍세화, 박노해 등 사회 각계의 '스타'들이 등장해 저마다의 확고한 신념을 성토한다. 감독 이경순과 최하동하는 이 작품을 위해 3년간 백여 명을 인터뷰했다고 한다. 2001 올해의 독립영화상 수상.\n",
            " 민족과 국가란 공동체에서 부단히 권력과 부를 얻는 자, 나아가 민족과 국가란 공동체에서 얻은 신분과 부귀를 영원히 그의 자손에게 대물림하려는 자, 그래서 민족과 국가란 공동체를 부단히 유지해야만 하는 자, 따라서 민족과 국가란 공동체의 당위성과 개인의 가치를 초월하는 그 존엄성을 끝도 없이 창조하고 되뇌어야 하는 자, 종국에는 민족과 국가란 공동체에 속해 있다고 태내에서부터 세뇌된 모든 이들의 삶과 행동에서 영원히 자기복제되는 순환의 고리, 영생하는 애국의 원동력은 그 순환의 골에서 온다.\n",
            "엽기적인 살인사건이 발생한 장소를 관광하는 투어팀. 그 팀에서 관광객들은 살인사건과 관련하여 히스테리컬한 반응을 보이는데 과연 이들의 정체는? (Tourists see whrer a murder take place. They respond hysterically to the murder…what are they?)\n",
            " 제46회 발라돌리드 국제영화제 (2001, 스페인)\n",
            "착하지만 엉뚱한 태희(배두나 분), 예쁜 깍쟁이 혜주(이요원 분), 그림을 잘 그리는 지영(옥지영 분), 명랑한 쌍둥이 비류(이은실 분)와 온조(이은주 분)는 단짝친구들. 늘 함께였던 그들이지만 스무 살이 되면서 길이 달라진다. 증권회사에 입사한 혜주는 성공한 커리어우먼의 야심을 키우고 미술에 재능이 있는 지영은 유학을 꿈꾼다. 한편 태희는 봉사활동에서 알게 된 뇌성마비 시인을 좋아하는데...\n",
            "  어느 날 지영이 길 잃은 새끼 고양이 티티를 만남면서 스무 살 그녀들의 삶에 고양이 한 마리가 끼어들게 된다. 혼자 있길 좋아하고, 쉽게 마음을 열지 않는 신비로운 동물 고양이. 고양이를 닮은 스무 살 그녀들. 고양이 티티와 함께 한 시간동안 삶은 예상못한 방향으로 흘러가지만 마침내 그녀들만의 해결책을 찾게 되는데... 사랑스런 몽상가 태희, 아름다운 야심가 혜주, 신비로운 아웃사이더 지영. 마지막으로 고양이를 부탁받은 사람은 누구일까?\n",
            "인도 등 아시아 식민지에 처음 발을 디딘 뒤 여행하고 “경영”한 이들은 과연 누구였을까? 과거의 이미지들은, 이민과 인종 문제, ‘오리엔탈리즘’이 격렬히 충돌하고 있는 현재와 강력하게 공명한다.\n",
            " [제19회 인디다큐페스티발]\n",
            "홀로 살아가는 미국 할머니와 한국 할머니의 이야기. 공원에서 가끔 마주치게 되는 그들은 비록 언어 소통의 어려움을 겪지만 시간이 흘러감에 따라 서로 가까워져 그들의 외로움과 우정을 공유하게 된다. 겨울이 지나고 봄이 왔을 때 길가의 민들레 홀씨는 삶의 이치를 말해주듯 한 할머니의 주위를 맴돈다. (Two elderly widows, an American and a Korean, frequent the same park in Philadelphia and attempt a friendship, though the Korean widow speaks no English. Driven by loneliness and a spark of hope, they persevere within the limits of body language, and the outcome poses a question of life as fundamental as a flower.)\n"
          ]
        }
      ]
    },
    {
      "cell_type": "code",
      "source": [
        "# 약 15분정도 걸립니다.\n",
        "from konlpy.tag import Okt\n",
        "okt = Okt()\n",
        "tokenized = []\n",
        "with open('/content/drive/MyDrive/Colab/Going_Deeper(NLP)/Node.06/weat/synopsis.txt', 'r') as file:\n",
        "    while True:\n",
        "        line = file.readline()\n",
        "        if not line: break\n",
        "        words = okt.pos(line, stem=True, norm=True)\n",
        "        res = []\n",
        "        for w in words:\n",
        "            if w[1] in [\"Noun\"]:      # \"Adjective\", \"Verb\" 등을 포함할 수도 있습니다.\n",
        "                res.append(w[0])    # 명사일 때만 tokenized 에 저장하게 됩니다. \n",
        "        tokenized.append(res)\n",
        "\n",
        "print(\"슝~\")"
      ],
      "metadata": {
        "colab": {
          "base_uri": "https://localhost:8080/"
        },
        "id": "jqANzk9LrfIH",
        "outputId": "8ec9fd1a-bf84-449a-fbb5-cf7b75dc2c0b"
      },
      "execution_count": null,
      "outputs": [
        {
          "output_type": "stream",
          "name": "stdout",
          "text": [
            "슝~\n"
          ]
        }
      ]
    },
    {
      "cell_type": "code",
      "source": [
        "print(len(tokenized))"
      ],
      "metadata": {
        "colab": {
          "base_uri": "https://localhost:8080/"
        },
        "id": "8uTbYU7RroAa",
        "outputId": "973a663d-4da3-493a-ab96-91215e27657c"
      },
      "execution_count": null,
      "outputs": [
        {
          "output_type": "stream",
          "name": "stdout",
          "text": [
            "71156\n"
          ]
        }
      ]
    },
    {
      "cell_type": "markdown",
      "source": [
        "\n",
        "STEP 2. 추출된 결과로 embedding model 만들기\n",
        "\n",
        "---"
      ],
      "metadata": {
        "id": "uiKAD5KfuQx0"
      }
    },
    {
      "cell_type": "code",
      "source": [
        "from gensim.models import Word2Vec\n",
        "\n",
        "# tokenized에 담긴 데이터를 가지고 나만의 Word2Vec을 생성합니다. (Gensim 4.0 기준)\n",
        "model = Word2Vec(tokenized, vector_size=100, window=5, min_count=3, sg=0)  \n",
        "model.wv.most_similar(positive=['영화'])\n",
        "\n",
        "# Gensim 3.X 에서는 아래와 같이 생성합니다. \n",
        "# model = Word2Vec(tokenized, size=100, window=5, min_count=3, sg=0)  \n",
        "# model.most_similar(positive=['영화'])"
      ],
      "metadata": {
        "colab": {
          "base_uri": "https://localhost:8080/"
        },
        "id": "_aUyLvCNuRs8",
        "outputId": "74d05d09-7a95-46b4-aae1-d44c0f64fb8f"
      },
      "execution_count": null,
      "outputs": [
        {
          "output_type": "execute_result",
          "data": {
            "text/plain": [
              "[('작품', 0.8869126439094543),\n",
              " ('다큐멘터리', 0.8480037450790405),\n",
              " ('에마데딘', 0.8395658135414124),\n",
              " ('드라마', 0.826117753982544),\n",
              " ('버자이너', 0.7933235168457031),\n",
              " ('영화로', 0.7925087213516235),\n",
              " ('코미디', 0.770386278629303),\n",
              " ('주제', 0.7695956230163574),\n",
              " ('형식', 0.7650187611579895),\n",
              " ('감동', 0.7613542675971985)]"
            ]
          },
          "metadata": {},
          "execution_count": 8
        }
      ]
    },
    {
      "cell_type": "code",
      "source": [
        "model.wv.most_similar(positive=['벚꽃'])"
      ],
      "metadata": {
        "colab": {
          "base_uri": "https://localhost:8080/"
        },
        "id": "ucDkGQ132qp3",
        "outputId": "42d44deb-04b7-4104-abd9-4790419971eb"
      },
      "execution_count": null,
      "outputs": [
        {
          "output_type": "execute_result",
          "data": {
            "text/plain": [
              "[('몽롱', 0.9577983021736145),\n",
              " ('달빛', 0.9569458365440369),\n",
              " ('깜깜', 0.9507089257240295),\n",
              " ('머리카락', 0.9503371715545654),\n",
              " ('골목길', 0.9502285122871399),\n",
              " ('봄바람', 0.9494246244430542),\n",
              " ('노란색', 0.9488708972930908),\n",
              " ('봄날', 0.9488177299499512),\n",
              " ('여름날', 0.9482690691947937),\n",
              " ('촉감', 0.948028028011322)]"
            ]
          },
          "metadata": {},
          "execution_count": 9
        }
      ]
    },
    {
      "cell_type": "markdown",
      "source": [
        "TF-IDF로 해당 데이터를 가장 잘 표현하는 단어 셋 만들기\n",
        "\n",
        "---\n",
        "WEAT score를 구할 때 단어 셋을 만들어주어야 합니다. targets_X, targets_Y, attribute_A, attribute_B를 만들어주었던 것이 기억나시죠? 이제 두 축을 어떤 기준으로 잡고, 해당 축의 어떤 항목을 사용할지 정해야 합니다.\n",
        "\n",
        "여기서는 두 축을 영화 장르, 영화 구분 정보를 이용하겠습니다.\n",
        "\n",
        "- 영화 구분\n",
        "  - ```synopsis_art.txt``` : ```예술영화```\n",
        "  - ```synopsis_gen.txt``` : ```일반영화(상업영화)```\n",
        "  - 그 외는 ```독립영화``` 등으로 분류됩니다.\n",
        "\n",
        "- 장르 구분\n",
        "  - ```synopsis_SF.txt```: ```SF```\n",
        "  - ```synopsis_가족.txt```: ```가족```\n",
        "  - ```synopsis_공연.txt```: ```공연```\n",
        "  - ```synopsis_공포(호러).txt```: ```공포(호러)```\n",
        "  - ```synopsis_기타.txt```: ```기타```\n",
        "  - ```synopsis_다큐멘터리.txt```: ```다큐멘터리```\n",
        "  - ```synopsis_드라마.txt```: ```드라마```\n",
        "  - ```synopsis_멜로로맨스.txt```: ```멜로로맨스```\n",
        "  - ```synopsis_뮤지컬.txt```: ```뮤지컬```\n",
        "  - ```synopsis_미스터리.txt```: ```미스터리```\n",
        "  - ```synopsis_범죄.txt```: ```범죄```\n",
        "  - ```synopsis_사극.txt```: ```사극```\n",
        "  - ```synopsis_서부극(웨스턴).txt```: ```서부극(웨스턴)```\n",
        "  - ```synopsis_성인물(에로).txt```: ```성인물(에로)```\n",
        "  - ```synopsis_스릴러.txt```: ```스릴러```\n",
        "  - ```synopsis_애니메이션.txt```: ```애니메이션```\n",
        "  - ```synopsis_액션.txt```: ```액션```\n",
        "  - ```synopsis_어드벤처.txt```: ```어드벤처```\n",
        "  - ```synopsis_전쟁.txt```: ```전쟁```\n",
        "  - ```synopsis_코미디.txt```: ```코미디```\n",
        "  - ```synopsis_판타지.txt```: ```판타지```\n",
        "\n",
        "예술영화와 일반영화(상업영화)라는 영화구분을 target으로 삼고, 드라마 장르와 액션 장르라는 장르구분을 attribute로 삼아 WEAT score를 계산해 보겠습니다. \n",
        "즉 드라마 장르에는 예술영화적 성격이 강하고, 액션 장르에는 일반(상업)영화적 성격이 강할 것이라는 편향성이 워드 임베딩 상에 얼마나 나타나고 있는지를 측정해 보겠다는 것입니다."
      ],
      "metadata": {
        "id": "rB_wrOat2130"
      }
    },
    {
      "cell_type": "code",
      "source": [
        "import os\n",
        "from sklearn.feature_extraction.text import TfidfVectorizer\n",
        "import numpy as np\n",
        "from konlpy.tag import Okt\n",
        "\n",
        "art_txt = 'synopsis_art.txt'\n",
        "gen_txt = 'synopsis_gen.txt'\n",
        "\n",
        "def read_token(file_name):\n",
        "    okt = Okt()\n",
        "    result = []\n",
        "    with open('/content/drive/MyDrive/Colab/Going_Deeper(NLP)/Node.06/weat/'+file_name, 'r') as fread: \n",
        "        print(file_name, '파일을 읽고 있습니다.')\n",
        "        while True:\n",
        "            line = fread.readline() \n",
        "            if not line: break \n",
        "            tokenlist = okt.pos(line, stem=True, norm=True) \n",
        "            for word in tokenlist:\n",
        "                if word[1] in [\"Noun\"]:#, \"Adjective\", \"Verb\"]:\n",
        "                    result.append((word[0])) \n",
        "    return ' '.join(result)\n",
        "\n",
        "print(\"슝~\")"
      ],
      "metadata": {
        "colab": {
          "base_uri": "https://localhost:8080/"
        },
        "id": "eJ2VcLXt5Vhb",
        "outputId": "126aa3d2-3116-4722-f18f-77fc12a84d80"
      },
      "execution_count": null,
      "outputs": [
        {
          "output_type": "stream",
          "name": "stdout",
          "text": [
            "슝~\n"
          ]
        }
      ]
    },
    {
      "cell_type": "code",
      "source": [
        "# 2개의 파일을 처리하는데 10분 가량 걸립니다. \n",
        "art = read_token(art_txt)\n",
        "gen = read_token(gen_txt)"
      ],
      "metadata": {
        "colab": {
          "base_uri": "https://localhost:8080/"
        },
        "id": "hLcyTSaW5VkR",
        "outputId": "f547a655-30b5-47f2-e114-6daf96851482"
      },
      "execution_count": null,
      "outputs": [
        {
          "output_type": "stream",
          "name": "stdout",
          "text": [
            "synopsis_art.txt 파일을 읽고 있습니다.\n",
            "synopsis_gen.txt 파일을 읽고 있습니다.\n"
          ]
        }
      ]
    },
    {
      "cell_type": "markdown",
      "source": [
        "코퍼스에서 자주 나타나는(TF가 높은) 단어이지만, 다른 코퍼스에까지 두루 걸쳐 나오지는 않는(IDF가 높은) 단어를 선정하고 싶은 것입니다. 이번에는 단어 셋 구성을 위해 TF-IDF방식을 사용하겠습니다.\n"
      ],
      "metadata": {
        "id": "yUhWORYB5lRI"
      }
    },
    {
      "cell_type": "code",
      "source": [
        "vectorizer = TfidfVectorizer()\n",
        "X = vectorizer.fit_transform([art, gen])\n",
        "\n",
        "print(X.shape)"
      ],
      "metadata": {
        "id": "OhIeZ-oO5nRT",
        "colab": {
          "base_uri": "https://localhost:8080/"
        },
        "outputId": "543143db-7cce-47d6-f855-206b1dcaede5"
      },
      "execution_count": null,
      "outputs": [
        {
          "output_type": "stream",
          "name": "stdout",
          "text": [
            "(2, 41082)\n"
          ]
        }
      ]
    },
    {
      "cell_type": "code",
      "source": [
        "print(vectorizer.vocabulary_['영화'])\n",
        "print(vectorizer.get_feature_names()[23976])"
      ],
      "metadata": {
        "id": "g1uFpX7521_h",
        "colab": {
          "base_uri": "https://localhost:8080/"
        },
        "outputId": "9473593d-a18e-4730-b0de-55d95b1fa0b2"
      },
      "execution_count": null,
      "outputs": [
        {
          "output_type": "stream",
          "name": "stdout",
          "text": [
            "23976\n",
            "영화\n"
          ]
        },
        {
          "output_type": "stream",
          "name": "stderr",
          "text": [
            "/usr/local/lib/python3.7/dist-packages/sklearn/utils/deprecation.py:87: FutureWarning: Function get_feature_names is deprecated; get_feature_names is deprecated in 1.0 and will be removed in 1.2. Please use get_feature_names_out instead.\n",
            "  warnings.warn(msg, category=FutureWarning)\n"
          ]
        }
      ]
    },
    {
      "cell_type": "code",
      "source": [
        "m1 = X[0].tocoo()   # art를 TF-IDF로 표현한 sparse matrix를 가져옵니다. \n",
        "m2 = X[1].tocoo()   # gen을 TF-IDF로 표현한 sparse matrix를 가져옵니다. \n",
        "\n",
        "w1 = [[i, j] for i, j in zip(m1.col, m1.data)]\n",
        "w2 = [[i, j] for i, j in zip(m2.col, m2.data)]\n",
        "\n",
        "w1.sort(key=lambda x: x[1], reverse=True)   #art를 구성하는 단어들을 TF-IDF가 높은 순으로 정렬합니다. \n",
        "w2.sort(key=lambda x: x[1], reverse=True)   #gen을 구성하는 단어들을 TF-IDF가 높은 순으로 정렬합니다. \n",
        "\n",
        "print('예술영화를 대표하는 단어들:')\n",
        "for i in range(100):\n",
        "    print(vectorizer.get_feature_names()[w1[i][0]], end=', ')\n",
        "\n",
        "print('\\n')\n",
        "    \n",
        "print('일반영화를 대표하는 단어들:')\n",
        "for i in range(100):\n",
        "    print(vectorizer.get_feature_names()[w2[i][0]], end=', ')"
      ],
      "metadata": {
        "id": "cncpfYIM5p4P",
        "colab": {
          "base_uri": "https://localhost:8080/"
        },
        "outputId": "2c8c64b9-8ef6-4b17-af98-46750302d8d6"
      },
      "execution_count": null,
      "outputs": [
        {
          "output_type": "stream",
          "name": "stdout",
          "text": [
            "예술영화를 대표하는 단어들:\n"
          ]
        },
        {
          "output_type": "stream",
          "name": "stderr",
          "text": [
            "/usr/local/lib/python3.7/dist-packages/sklearn/utils/deprecation.py:87: FutureWarning: Function get_feature_names is deprecated; get_feature_names is deprecated in 1.0 and will be removed in 1.2. Please use get_feature_names_out instead.\n",
            "  warnings.warn(msg, category=FutureWarning)\n"
          ]
        },
        {
          "output_type": "stream",
          "name": "stdout",
          "text": [
            "그녀, 자신, 시작, 위해, 사랑, 사람, 영화, 친구, 남자, 가족, 이야기, 마을, 사건, 마음, 세상, 아버지, 아이, 엄마, 모든, 여자, 대한, 서로, 과연, 다시, 시간, 아들, 소녀, 아내, 다른, 사이, 영화제, 세계, 사실, 하나, 점점, 남편, 감독, 여행, 인생, 발견, 모두, 순간, 우리, 가장, 마지막, 생활, 아빠, 모습, 통해, 죽음, 기억, 비밀, 학교, 음악, 한편, 소년, 생각, 도시, 명의, 사고, 결혼, 전쟁, 때문, 위기, 이제, 최고, 이자, 과거, 일상, 경찰, 상황, 간다, 미국, 결심, 운명, 현실, 관계, 지금, 단편, 여인, 하루, 이름, 이후, 준비, 인간, 감정, 만난, 국제, 처음, 충격, 살인, 누구, 동안, 존재, 그린, 어머니, 연인, 계속, 동생, 작품, \n",
            "\n",
            "일반영화를 대표하는 단어들:\n",
            "자신, 그녀, 영화제, 위해, 사람, 시작, 국제, 영화, 친구, 사랑, 남자, 이야기, 대한, 서울, 여자, 사건, 남편, 아이, 가족, 아버지, 다른, 마을, 시간, 엄마, 아들, 모든, 단편, 마음, 사실, 다시, 세계, 모습, 작품, 통해, 생각, 서로, 세상, 발견, 감독, 아내, 관계, 소녀, 사이, 하나, 우리, 애니메이션, 때문, 여성, 죽음, 과연, 점점, 인간, 생활, 한편, 결혼, 상황, 모두, 기억, 명의, 소년, 여행, 가장, 간다, 순간, 이제, 도시, 비밀, 학교, 과거, 가지, 이자, 경찰, 마지막, 미국, 동안, 전쟁, 주인공, 대해, 존재, 현실, 연출, 사고, 살인, 일상, 어머니, 계속, 사회, 인생, 다큐멘터리, 부문, 섹스, 최고, 바로, 동생, 의도, 하루, 위기, 계획, 정체, 한국, "
          ]
        }
      ]
    },
    {
      "cell_type": "markdown",
      "source": [
        "어떤가요? 두 개념을 대표하는 단어를 TF-IDF가 높은 순으로 추출하고 싶었는데, 양쪽에 중복된 단어가 너무 많은 것을 볼 수 있습니다. 두 개념축이 대조되도록 대표하는 단어 셋을 만들고 싶기 때문에 단어가 서로 중복되지 않게 단어셋을 추출해야 합니다. 우선 상위 100개의 단어들 중 중복되는 단어를 제외하고 상위 n(=15)개의 단어를 추출합니다."
      ],
      "metadata": {
        "id": "gIOo-ngA5tQM"
      }
    },
    {
      "cell_type": "code",
      "source": [
        "n = 15\n",
        "w1_, w2_ = [], []\n",
        "for i in range(100):\n",
        "    w1_.append(vectorizer.get_feature_names()[w1[i][0]])\n",
        "    w2_.append(vectorizer.get_feature_names()[w2[i][0]])\n",
        "\n",
        "# w1에만 있고 w2에는 없는, 예술영화를 잘 대표하는 단어를 15개 추출한다.\n",
        "target_art, target_gen = [], []\n",
        "for i in range(100):\n",
        "    if (w1_[i] not in w2_) and (w1_[i] in model.wv): target_art.append(w1_[i])\n",
        "    if len(target_art) == n: break \n",
        "\n",
        "# w2에만 있고 w1에는 없는, 일반영화를 잘 대표하는 단어를 15개 추출한다.\n",
        "for i in range(100):\n",
        "    if (w2_[i] not in w1_) and (w2_[i] in model.wv): target_gen.append(w2_[i])\n",
        "    if len(target_gen) == n: break"
      ],
      "metadata": {
        "id": "sClHvJ9g5vCC",
        "colab": {
          "base_uri": "https://localhost:8080/"
        },
        "outputId": "61596f27-26e1-41c2-a854-827a50a77d70"
      },
      "execution_count": null,
      "outputs": [
        {
          "output_type": "stream",
          "name": "stderr",
          "text": [
            "/usr/local/lib/python3.7/dist-packages/sklearn/utils/deprecation.py:87: FutureWarning: Function get_feature_names is deprecated; get_feature_names is deprecated in 1.0 and will be removed in 1.2. Please use get_feature_names_out instead.\n",
            "  warnings.warn(msg, category=FutureWarning)\n"
          ]
        }
      ]
    },
    {
      "cell_type": "code",
      "source": [
        "print(target_art)"
      ],
      "metadata": {
        "id": "Zdn-sFXs5v8z",
        "colab": {
          "base_uri": "https://localhost:8080/"
        },
        "outputId": "cfd59626-8deb-4436-d237-16a117620f5f"
      },
      "execution_count": null,
      "outputs": [
        {
          "output_type": "stream",
          "name": "stdout",
          "text": [
            "['아빠', '음악', '결심', '운명', '지금', '여인', '이름', '이후', '준비', '감정', '만난', '처음', '충격', '누구', '그린']\n"
          ]
        }
      ]
    },
    {
      "cell_type": "code",
      "source": [
        "print(target_gen)"
      ],
      "metadata": {
        "id": "KVXg2V-K5w4c",
        "colab": {
          "base_uri": "https://localhost:8080/"
        },
        "outputId": "f645a002-8796-497c-dfb9-f4a460aa5600"
      },
      "execution_count": null,
      "outputs": [
        {
          "output_type": "stream",
          "name": "stdout",
          "text": [
            "['서울', '애니메이션', '여성', '가지', '주인공', '대해', '연출', '사회', '다큐멘터리', '부문', '섹스', '바로', '의도', '계획', '정체']\n"
          ]
        }
      ]
    },
    {
      "cell_type": "markdown",
      "source": [
        "STEP 3. target, attribute 단어 셋 만들기\n",
        "\n",
        "---\n",
        "이전 스텝에서는 TF-IDF를 사용해서 단어 셋을 만들었습니다. 이 방법으로도 어느 정도는 대표 단어를 잘 선정할 수 있습니다. 그러나 TF-IDF가 높은 단어를 골랐음에도 불구하고 중복되는 단어가 발생하는 문제가 있었습니다. 개념축을 표현하는 단어가 제대로 선정되지 않은 것은 WEAT 계산 결과에 악영향을 미칩니다.\n",
        "\n",
        "TF-IDF를 적용했을 때의 문제점이 무엇인지 지적 가능하다면 그 문제점을 지적하고 스스로 방법을 개선하여 대표 단어 셋을 구축해 보기 바랍니다. TF-IDF 방식을 쓰더라도 중복된 단어를 잘 제거하면 여전히 유용한 방식이 될 수 있습니다.\n"
      ],
      "metadata": {
        "id": "deJ0ivvh8iKF"
      }
    },
    {
      "cell_type": "code",
      "source": [
        "genre_txt = ['synopsis_SF.txt', 'synopsis_family.txt', 'synopsis_show.txt', 'synopsis_horror.txt', 'synopsis_etc.txt', \n",
        "             'synopsis_documentary.txt', 'synopsis_drama.txt', 'synopsis_romance.txt', 'synopsis_musical.txt', \n",
        "             'synopsis_mystery.txt', 'synopsis_crime.txt', 'synopsis_historical.txt', 'synopsis_western.txt', \n",
        "             'synopsis_adult.txt', 'synopsis_thriller.txt', 'synopsis_animation.txt', 'synopsis_action.txt', \n",
        "             'synopsis_adventure.txt', 'synopsis_war.txt', 'synopsis_comedy.txt', 'synopsis_fantasy.txt']\n",
        "genre_name = ['SF', '가족', '공연', '공포(호러)', '기타', '다큐멘터리', '드라마', '멜로로맨스', '뮤지컬', '미스터리', '범죄', '사극', '서부극(웨스턴)',\n",
        "         '성인물(에로)', '스릴러', '애니메이션', '액션', '어드벤처', '전쟁', '코미디', '판타지']"
      ],
      "metadata": {
        "id": "6Lrjh3ZH8keg"
      },
      "execution_count": null,
      "outputs": []
    },
    {
      "cell_type": "code",
      "source": [
        "# 약 10분정도 걸립니다.\n",
        "genre = []\n",
        "for file_name in genre_txt:\n",
        "    genre.append(read_token(file_name))"
      ],
      "metadata": {
        "id": "1HE15NOW5zyk",
        "colab": {
          "base_uri": "https://localhost:8080/"
        },
        "outputId": "3145591e-ce71-4ccf-9900-1d534d801fb4"
      },
      "execution_count": null,
      "outputs": [
        {
          "output_type": "stream",
          "name": "stdout",
          "text": [
            "synopsis_SF.txt 파일을 읽고 있습니다.\n",
            "synopsis_family.txt 파일을 읽고 있습니다.\n",
            "synopsis_show.txt 파일을 읽고 있습니다.\n",
            "synopsis_horror.txt 파일을 읽고 있습니다.\n",
            "synopsis_etc.txt 파일을 읽고 있습니다.\n",
            "synopsis_documentary.txt 파일을 읽고 있습니다.\n",
            "synopsis_drama.txt 파일을 읽고 있습니다.\n",
            "synopsis_romance.txt 파일을 읽고 있습니다.\n",
            "synopsis_musical.txt 파일을 읽고 있습니다.\n",
            "synopsis_mystery.txt 파일을 읽고 있습니다.\n",
            "synopsis_crime.txt 파일을 읽고 있습니다.\n",
            "synopsis_historical.txt 파일을 읽고 있습니다.\n",
            "synopsis_western.txt 파일을 읽고 있습니다.\n",
            "synopsis_adult.txt 파일을 읽고 있습니다.\n",
            "synopsis_thriller.txt 파일을 읽고 있습니다.\n",
            "synopsis_animation.txt 파일을 읽고 있습니다.\n",
            "synopsis_action.txt 파일을 읽고 있습니다.\n",
            "synopsis_adventure.txt 파일을 읽고 있습니다.\n",
            "synopsis_war.txt 파일을 읽고 있습니다.\n",
            "synopsis_comedy.txt 파일을 읽고 있습니다.\n",
            "synopsis_fantasy.txt 파일을 읽고 있습니다.\n"
          ]
        }
      ]
    },
    {
      "cell_type": "code",
      "source": [
        "vectorizer = TfidfVectorizer()\n",
        "X = vectorizer.fit_transform(genre)\n",
        "\n",
        "print(X.shape)"
      ],
      "metadata": {
        "id": "W3Jp0y3K51Ms",
        "colab": {
          "base_uri": "https://localhost:8080/"
        },
        "outputId": "6415329c-3cf6-403a-cdae-507cac99d3e0"
      },
      "execution_count": null,
      "outputs": [
        {
          "output_type": "stream",
          "name": "stdout",
          "text": [
            "(21, 42191)\n"
          ]
        }
      ]
    },
    {
      "cell_type": "code",
      "source": [
        "m = [X[i].tocoo() for i in range(X.shape[0])]\n",
        "\n",
        "w = [[[i, j] for i, j in zip(mm.col, mm.data)] for mm in m]\n",
        "\n",
        "for i in range(len(w)):\n",
        "    w[i].sort(key=lambda x: x[1], reverse=True)\n",
        "attributes = []\n",
        "for i in range(len(w)):\n",
        "    print(genre_name[i], end=': ')\n",
        "    attr = []\n",
        "    j = 0\n",
        "    while (len(attr) < 15):\n",
        "        if vectorizer.get_feature_names()[w[i][j][0]] in model.wv:\n",
        "            attr.append(vectorizer.get_feature_names()[w[i][j][0]])\n",
        "            print(vectorizer.get_feature_names()[w[i][j][0]], end=', ')\n",
        "        j += 1\n",
        "    attributes.append(attr)\n",
        "    print()"
      ],
      "metadata": {
        "id": "tYkKJTjc54Zi",
        "colab": {
          "base_uri": "https://localhost:8080/"
        },
        "outputId": "191efb0c-93a3-4035-ef31-57537f16c6be"
      },
      "execution_count": null,
      "outputs": [
        {
          "output_type": "stream",
          "name": "stdout",
          "text": [
            "SF: 위해, 자신, "
          ]
        },
        {
          "output_type": "stream",
          "name": "stderr",
          "text": [
            "/usr/local/lib/python3.7/dist-packages/sklearn/utils/deprecation.py:87: FutureWarning: Function get_feature_names is deprecated; get_feature_names is deprecated in 1.0 and will be removed in 1.2. Please use get_feature_names_out instead.\n",
            "  warnings.warn(msg, category=FutureWarning)\n"
          ]
        },
        {
          "output_type": "stream",
          "name": "stdout",
          "text": [
            "지구, 시작, 사람, 인류, 인간, 미래, 우주, 그녀, 로봇, 세계, 모든, 박사, 우주선, \n",
            "가족: 엄마, 아빠, 가족, 영화제, 자신, 위해, 친구, 아주르, 아버지, 시작, 그녀, 아들, 마을, 국제, 낙타, \n",
            "공연: 오페라, 사랑, 토스카, 실황, 올레, 자신, 카바, 그녀, 공연, 오텔로, 리골레토, 백작, 프레, 베르디, 위해, \n",
            "공포(호러): 시작, 위해, 사람, 자신, 친구, 그녀, 사건, 공포, 발견, 죽음, 마을, 가족, 악령, 남자, 좀비, \n",
            "기타: 영화제, 국제, 서울, 단편, 영화, 자신, 사람, 이야기, 그녀, 남자, 위해, 시작, 사랑, 뉴미디어, 페스티벌, \n",
            "다큐멘터리: 영화제, 영화, 다큐, 국제, 다큐멘터리, 사람, 이야기, 대한, 자신, 감독, 위해, 서울, 우리, 시작, 세계, \n",
            "드라마: 자신, 영화제, 그녀, 사람, 사랑, 영화, 위해, 시작, 국제, 남자, 친구, 이야기, 엄마, 여자, 아버지, \n",
            "멜로로맨스: 그녀, 사랑, 자신, 시작, 남편, 남자, 여자, 사람, 친구, 섹스, 위해, 마음, 결혼, 서로, 아내, \n",
            "뮤지컬: 뮤지컬, 사랑, 에스메랄다, 그녀, 음악, 충무로, 모차르트, 영화, 토스카, 자신, 니웨, 카바, 영화제, 바흐, 페뷔스, \n",
            "미스터리: 사건, 그녀, 시작, 자신, 위해, 사람, 발견, 사고, 진실, 죽음, 기억, 살인, 친구, 아내, 남자, \n",
            "범죄: 사건, 위해, 자신, 경찰, 시작, 그녀, 범죄, 조직, 살인, 사람, 마약, 형사, 남자, 모든, 살해, \n",
            "사극: 조선, 위해, 시작, 신기전, 사랑, 자신, 아가멤논, 황제, 그녀, 루안, 최고, 운명, 사람, 하선, 전쟁, \n",
            "서부극(웨스턴): 서부, 보안관, 위해, 벌린, 카우보이, 그레이프바인, 헨리, 마을, 자신, 개릿, 아이, 시작, 무법자, 프린트, 마적, \n",
            "성인물(에로): 그녀, 남편, 마사지, 자신, 섹스, 관계, 영화, 정사, 남자, 위해, 시작, 여자, 유부녀, 마음, 사랑, \n",
            "스릴러: 자신, 그녀, 사건, 시작, 위해, 사람, 살인, 남자, 발견, 아내, 경찰, 친구, 모든, 사실, 살해, \n",
            "애니메이션: 애니메이션, 국제, 영화제, 친구, 인디애니페스트, 위해, 자신, 시작, 사람, 페스티벌, 서울, 이야기, 아이, 마을, 소녀, \n",
            "액션: 위해, 자신, 시작, 조직, 사건, 사람, 그녀, 경찰, 전쟁, 모든, 목숨, 사실, 친구, 가족, 요원, \n",
            "어드벤처: 위해, 자신, 시작, 친구, 마을, 아버지, 영화, 아이, 사람, 여행, 세계, 앤트, 세상, 가족, 모험, \n",
            "전쟁: 전쟁, 독일군, 전투, 위해, 작전, 시작, 부대, 윈터스, 독일, 연합군, 미군, 임무, 자신, 사람, 나치, \n",
            "코미디: 그녀, 자신, 시작, 위해, 사랑, 사람, 친구, 영화, 남자, 여자, 영화제, 가족, 과연, 마을, 사건, \n",
            "판타지: 자신, 그녀, 시작, 위해, 사람, 사랑, 요괴, 영화제, 이야기, 영화, 소녀, 남자, 인간, 세상, 마을, \n"
          ]
        }
      ]
    },
    {
      "cell_type": "markdown",
      "source": [
        "STEP 4. WEAT score 계산과 시각화\n",
        "\n",
        "---\n",
        "영화 구분, 영화 장르에 따른 편향성을 측정하여 WEAT score로 계산해 보고 이를 Heatmap 형태로 시각화해 봅시다. 편향성이 두드러지는 영화장르 attribute 구성에는 어떤 케이스가 있는지 시각적으로 두드러지게 구성되면 좋습니다.\n"
      ],
      "metadata": {
        "id": "C-cr0vZ75-xK"
      }
    },
    {
      "cell_type": "code",
      "source": [
        "import numpy as np\n",
        "from numpy import dot\n",
        "from numpy.linalg import norm"
      ],
      "metadata": {
        "id": "7-68sjcwKPyC"
      },
      "execution_count": null,
      "outputs": []
    },
    {
      "cell_type": "code",
      "source": [
        "def cos_sim(i, j):\n",
        "    return dot(i, j.T)/(norm(i)*norm(j))\n",
        "\n",
        "def s(w, A, B):\n",
        "    c_a = cos_sim(w, A)\n",
        "    c_b = cos_sim(w, B)\n",
        "    mean_A = np.mean(c_a, axis=-1)\n",
        "    mean_B = np.mean(c_b, axis=-1)\n",
        "    return mean_A - mean_B #, c_a, c_b"
      ],
      "metadata": {
        "id": "Xl6BPKFPJuAo"
      },
      "execution_count": null,
      "outputs": []
    },
    {
      "cell_type": "code",
      "source": [
        "def weat_score(X, Y, A, B):\n",
        "    \n",
        "    s_X = s(X, A, B)\n",
        "    s_Y = s(Y, A, B)\n",
        "\n",
        "    mean_X = np.mean(s_X)\n",
        "    mean_Y = np.mean(s_Y)\n",
        "    \n",
        "    std_dev = np.std(np.concatenate([s_X, s_Y], axis=0))\n",
        "    \n",
        "    return  (mean_X-mean_Y)/std_dev"
      ],
      "metadata": {
        "id": "H5UBXjvdJkiz"
      },
      "execution_count": null,
      "outputs": []
    },
    {
      "cell_type": "code",
      "source": [
        "matrix = [[0 for _ in range(len(genre_name))] for _ in range(len(genre_name))]\n",
        "print(\"슝~\")"
      ],
      "metadata": {
        "id": "67MLOSUH6BYb",
        "colab": {
          "base_uri": "https://localhost:8080/"
        },
        "outputId": "c5f17c9d-fff6-4fae-879c-1028c1dcb327"
      },
      "execution_count": null,
      "outputs": [
        {
          "output_type": "stream",
          "name": "stdout",
          "text": [
            "슝~\n"
          ]
        }
      ]
    },
    {
      "cell_type": "code",
      "source": [
        "X = np.array([model.wv[word] for word in target_art])\n",
        "Y = np.array([model.wv[word] for word in target_gen])\n",
        "\n",
        "for i in range(len(genre_name)-1):\n",
        "    for j in range(i+1, len(genre_name)):\n",
        "        A = np.array([model.wv[word] for word in attributes[i]])\n",
        "        B = np.array([model.wv[word] for word in attributes[j]])\n",
        "        matrix[i][j] = weat_score(X, Y, A, B)\n",
        "\n",
        "print(\"슝~\")"
      ],
      "metadata": {
        "id": "QPBwrRIx6CwR",
        "colab": {
          "base_uri": "https://localhost:8080/"
        },
        "outputId": "da06b148-2019-420f-c54b-c2f2c52468c3"
      },
      "execution_count": null,
      "outputs": [
        {
          "output_type": "stream",
          "name": "stdout",
          "text": [
            "슝~\n"
          ]
        }
      ]
    },
    {
      "cell_type": "markdown",
      "source": [
        "matrix를 채워보았습니다. WEAT score 값을 보고, 과연 우리의 직관과 비슷한지 살펴볼까요?"
      ],
      "metadata": {
        "id": "1ypyrqAl6Fpm"
      }
    },
    {
      "cell_type": "code",
      "source": [
        "for i in range(len(genre_name)-1):\n",
        "    for j in range(i+1, len(genre_name)):\n",
        "        print(genre_name[i], genre_name[j],matrix[i][j])"
      ],
      "metadata": {
        "id": "_3dg-AZh6Dsp",
        "colab": {
          "base_uri": "https://localhost:8080/"
        },
        "outputId": "bf996ef5-d778-4bce-942f-c598ed583ee3"
      },
      "execution_count": null,
      "outputs": [
        {
          "output_type": "stream",
          "name": "stdout",
          "text": [
            "SF 가족 -0.5378154\n",
            "SF 공연 -0.36226824\n",
            "SF 공포(호러) -0.7039324\n",
            "SF 기타 0.33014622\n",
            "SF 다큐멘터리 0.58866286\n",
            "SF 드라마 -0.40977088\n",
            "SF 멜로로맨스 -0.7984393\n",
            "SF 뮤지컬 0.3294202\n",
            "SF 미스터리 -0.7073444\n",
            "SF 범죄 -0.26004404\n",
            "SF 사극 -0.82825243\n",
            "SF 서부극(웨스턴) -0.4348664\n",
            "SF 성인물(에로) -0.58107257\n",
            "SF 스릴러 -0.5454911\n",
            "SF 애니메이션 0.32702923\n",
            "SF 액션 -0.45756853\n",
            "SF 어드벤처 -0.799424\n",
            "SF 전쟁 0.2451306\n",
            "SF 코미디 -0.47178894\n",
            "SF 판타지 -0.22303131\n",
            "가족 공연 0.2543787\n",
            "가족 공포(호러) -0.17103852\n",
            "가족 기타 0.74943864\n",
            "가족 다큐멘터리 0.83848697\n",
            "가족 드라마 0.2143459\n",
            "가족 멜로로맨스 -0.6296301\n",
            "가족 뮤지컬 0.71538377\n",
            "가족 미스터리 -0.31615862\n",
            "가족 범죄 0.20999748\n",
            "가족 사극 -0.056776043\n",
            "가족 서부극(웨스턴) 0.46521586\n",
            "가족 성인물(에로) -0.31995803\n",
            "가족 스릴러 -0.1402874\n",
            "가족 애니메이션 0.84476143\n",
            "가족 액션 0.13327803\n",
            "가족 어드벤처 0.007834451\n",
            "가족 전쟁 0.67908716\n",
            "가족 코미디 0.21274169\n",
            "가족 판타지 0.43090418\n",
            "공연 공포(호러) -0.29790348\n",
            "공연 기타 0.90495056\n",
            "공연 다큐멘터리 0.91516936\n",
            "공연 드라마 -0.093109\n",
            "공연 멜로로맨스 -0.74429566\n",
            "공연 뮤지컬 0.8704985\n",
            "공연 미스터리 -0.398785\n",
            "공연 범죄 0.042562928\n",
            "공연 사극 -0.43389115\n",
            "공연 서부극(웨스턴) 0.009677588\n",
            "공연 성인물(에로) -0.5208324\n",
            "공연 스릴러 -0.25441137\n",
            "공연 애니메이션 0.8683442\n",
            "공연 액션 -0.050767936\n",
            "공연 어드벤처 -0.25804794\n",
            "공연 전쟁 0.58826315\n",
            "공연 코미디 -0.06400279\n",
            "공연 판타지 0.28388587\n",
            "공포(호러) 기타 0.64954287\n",
            "공포(호러) 다큐멘터리 0.75843626\n",
            "공포(호러) 드라마 0.31741425\n",
            "공포(호러) 멜로로맨스 -0.62798655\n",
            "공포(호러) 뮤지컬 0.63265115\n",
            "공포(호러) 미스터리 -0.5791415\n",
            "공포(호러) 범죄 0.67386496\n",
            "공포(호러) 사극 0.14846396\n",
            "공포(호러) 서부극(웨스턴) 0.4439518\n",
            "공포(호러) 성인물(에로) -0.22077906\n",
            "공포(호러) 스릴러 0.008232687\n",
            "공포(호러) 애니메이션 0.65673447\n",
            "공포(호러) 액션 0.6027636\n",
            "공포(호러) 어드벤처 0.21757817\n",
            "공포(호러) 전쟁 0.6824733\n",
            "공포(호러) 코미디 0.46722662\n",
            "공포(호러) 판타지 0.5389474\n",
            "기타 다큐멘터리 0.60877305\n",
            "기타 드라마 -0.89304423\n",
            "기타 멜로로맨스 -0.89470744\n",
            "기타 뮤지컬 -0.0046974462\n",
            "기타 미스터리 -0.6682418\n",
            "기타 범죄 -0.38735992\n",
            "기타 사극 -0.8361511\n",
            "기타 서부극(웨스턴) -0.61391205\n",
            "기타 성인물(에로) -0.8110651\n",
            "기타 스릴러 -0.5688556\n",
            "기타 애니메이션 -0.12074332\n",
            "기타 액션 -0.47033662\n",
            "기타 어드벤처 -0.7938358\n",
            "기타 전쟁 -0.19390263\n",
            "기타 코미디 -0.7290644\n",
            "기타 판타지 -0.69653106\n",
            "다큐멘터리 드라마 -0.9333069\n",
            "다큐멘터리 멜로로맨스 -0.90722626\n",
            "다큐멘터리 뮤지컬 -0.73962\n",
            "다큐멘터리 미스터리 -0.761703\n",
            "다큐멘터리 범죄 -0.5142739\n",
            "다큐멘터리 사극 -0.92313933\n",
            "다큐멘터리 서부극(웨스턴) -0.7310342\n",
            "다큐멘터리 성인물(에로) -0.83677757\n",
            "다큐멘터리 스릴러 -0.663664\n",
            "다큐멘터리 애니메이션 -0.5802937\n",
            "다큐멘터리 액션 -0.6052767\n",
            "다큐멘터리 어드벤처 -0.94190913\n",
            "다큐멘터리 전쟁 -0.42367274\n",
            "다큐멘터리 코미디 -0.8303888\n",
            "다큐멘터리 판타지 -0.90877765\n",
            "드라마 멜로로맨스 -0.8390616\n",
            "드라마 뮤지컬 0.85063404\n",
            "드라마 미스터리 -0.42952317\n",
            "드라마 범죄 0.080688484\n",
            "드라마 사극 -0.32383132\n",
            "드라마 서부극(웨스턴) 0.073844805\n",
            "드라마 성인물(에로) -0.57956517\n",
            "드라마 스릴러 -0.25068563\n",
            "드라마 애니메이션 0.8669319\n",
            "드라마 액션 -0.013748056\n",
            "드라마 어드벤처 -0.25606084\n",
            "드라마 전쟁 0.5050924\n",
            "드라마 코미디 0.015467131\n",
            "드라마 판타지 0.55867577\n",
            "멜로로맨스 뮤지컬 0.8729845\n",
            "멜로로맨스 미스터리 0.45178282\n",
            "멜로로맨스 범죄 0.8425311\n",
            "멜로로맨스 사극 0.6602884\n",
            "멜로로맨스 서부극(웨스턴) 0.7605501\n",
            "멜로로맨스 성인물(에로) 0.8501807\n",
            "멜로로맨스 스릴러 0.65828294\n",
            "멜로로맨스 애니메이션 0.86905223\n",
            "멜로로맨스 액션 0.75495255\n",
            "멜로로맨스 어드벤처 0.6286331\n",
            "멜로로맨스 전쟁 0.81088066\n",
            "멜로로맨스 코미디 0.91627896\n",
            "멜로로맨스 판타지 0.84000903\n",
            "뮤지컬 미스터리 -0.65604\n",
            "뮤지컬 범죄 -0.37529185\n",
            "뮤지컬 사극 -0.8150368\n",
            "뮤지컬 서부극(웨스턴) -0.5796674\n",
            "뮤지컬 성인물(에로) -0.7933548\n",
            "뮤지컬 스릴러 -0.55423427\n",
            "뮤지컬 애니메이션 -0.09146331\n",
            "뮤지컬 액션 -0.4600981\n",
            "뮤지컬 어드벤처 -0.7811399\n",
            "뮤지컬 전쟁 -0.183948\n",
            "뮤지컬 코미디 -0.69824857\n",
            "뮤지컬 판타지 -0.6854101\n",
            "미스터리 범죄 1.03009\n",
            "미스터리 사극 0.31188387\n",
            "미스터리 서부극(웨스턴) 0.52964956\n",
            "미스터리 성인물(에로) -0.036467616\n",
            "미스터리 스릴러 0.77954555\n",
            "미스터리 애니메이션 0.66700584\n",
            "미스터리 액션 0.83533645\n",
            "미스터리 어드벤처 0.35415143\n",
            "미스터리 전쟁 0.7042778\n",
            "미스터리 코미디 0.5629658\n",
            "미스터리 판타지 0.582499\n",
            "범죄 사극 -0.285563\n",
            "범죄 서부극(웨스턴) -0.053039357\n",
            "범죄 성인물(에로) -0.4977509\n",
            "범죄 스릴러 -0.98176277\n",
            "범죄 애니메이션 0.37672323\n",
            "범죄 액션 -0.30380443\n",
            "범죄 어드벤처 -0.21189451\n",
            "범죄 전쟁 0.4061309\n",
            "범죄 코미디 -0.098045625\n",
            "범죄 판타지 0.102183454\n",
            "사극 서부극(웨스턴) 0.42813677\n",
            "사극 성인물(에로) -0.33561394\n",
            "사극 스릴러 -0.11134006\n",
            "사극 애니메이션 0.82871705\n",
            "사극 액션 0.20941165\n",
            "사극 어드벤처 0.098292105\n",
            "사극 전쟁 0.88448876\n",
            "사극 코미디 0.43641302\n",
            "사극 판타지 0.6662169\n",
            "서부극(웨스턴) 성인물(에로) -0.4606905\n",
            "서부극(웨스턴) 스릴러 -0.35516223\n",
            "서부극(웨스턴) 애니메이션 0.6696692\n",
            "서부극(웨스턴) 액션 -0.08913339\n",
            "서부극(웨스턴) 어드벤처 -0.38179082\n",
            "서부극(웨스턴) 전쟁 0.6957145\n",
            "서부극(웨스턴) 코미디 -0.07804752\n",
            "서부극(웨스턴) 판타지 0.22722831\n",
            "성인물(에로) 스릴러 0.22247066\n",
            "성인물(에로) 애니메이션 0.7515628\n",
            "성인물(에로) 액션 0.4032935\n",
            "성인물(에로) 어드벤처 0.3275678\n",
            "성인물(에로) 전쟁 0.6269003\n",
            "성인물(에로) 코미디 0.60049266\n",
            "성인물(에로) 판타지 0.6379267\n",
            "스릴러 애니메이션 0.5668752\n",
            "스릴러 액션 0.57395977\n",
            "스릴러 어드벤처 0.14958614\n",
            "스릴러 전쟁 0.6079008\n",
            "스릴러 코미디 0.32925174\n",
            "스릴러 판타지 0.40518656\n",
            "애니메이션 액션 -0.47323766\n",
            "애니메이션 어드벤처 -0.859561\n",
            "애니메이션 전쟁 -0.17558955\n",
            "애니메이션 코미디 -0.7139518\n",
            "애니메이션 판타지 -0.66310096\n",
            "액션 어드벤처 -0.14122519\n",
            "액션 전쟁 0.5626666\n",
            "액션 코미디 0.024174755\n",
            "액션 판타지 0.21563686\n",
            "어드벤처 전쟁 0.7170391\n",
            "어드벤처 코미디 0.31897554\n",
            "어드벤처 판타지 0.71311337\n",
            "전쟁 코미디 -0.53973913\n",
            "전쟁 판타지 -0.32113865\n",
            "코미디 판타지 0.51287776\n"
          ]
        }
      ]
    },
    {
      "cell_type": "markdown",
      "source": [
        "WEAT score가 -0.9인 경우 (다큐멘터리 드라마 -0.90548724)\n",
        "\n",
        "예술영화와 일반영화, 그리고 다큐멘터리와 드라마의 WEAT score의 의미를 해석해보면 예술 영화는 드라마와 가깝고, 다큐멘터리는 일반 영화와 가깝다고 볼 수 있다.\n",
        "\n",
        "WEAT score가 0.8 이상 -0.8 이하로 나온 장르들이 편향되어있는 것으로 판단했다.\n",
        "\n",
        "\n",
        "\n",
        "예술영화\n",
        "- 미스터리, 사극, 드라마, 멜로로맨스, 가족, 공연\n",
        "\n",
        "일반영화\n",
        "- sf, 기타, 다큐멘처리, 애니메이션, 드라마, 범죄, 뮤지컬\n",
        "\n",
        "\n",
        "\n",
        "\n"
      ],
      "metadata": {
        "id": "2VVouLRz6HXt"
      }
    },
    {
      "cell_type": "code",
      "source": [
        "import numpy as np; \n",
        "import seaborn as sns; \n",
        "import matplotlib.pyplot as plt\n",
        "\n",
        "np.random.seed(0)\n",
        "\n",
        "# 한글 지원 폰트\n",
        "sns.set(font='NanumGothic')\n",
        "\n",
        "# 마이너스 부호 \n",
        "plt.figure(figsize=(10, 8))\n",
        "plt.rcParams['axes.unicode_minus'] = False\n",
        "\n",
        "ax = sns.heatmap(matrix, xticklabels=genre_name, yticklabels=genre_name, annot=True, fmt='.1f',  cmap='RdYlGn_r')\n",
        "ax"
      ],
      "metadata": {
        "id": "HD3ZPOzE6JHA",
        "colab": {
          "base_uri": "https://localhost:8080/",
          "height": 564
        },
        "outputId": "11906658-0512-42cd-88f0-41a5732228cc"
      },
      "execution_count": null,
      "outputs": [
        {
          "output_type": "execute_result",
          "data": {
            "text/plain": [
              "<matplotlib.axes._subplots.AxesSubplot at 0x7fe7de2e34d0>"
            ]
          },
          "metadata": {},
          "execution_count": 33
        },
        {
          "output_type": "display_data",
          "data": {
            "text/plain": [
              "<Figure size 720x576 with 2 Axes>"
            ],
            "image/png": "[encoded data removed]"
          },
          "metadata": {}
        }
      ]
    },
    {
      "cell_type": "markdown",
      "source": [
        "모든 장르를 보았을 때 편향되어 있는 장르가 두드러지게 보인다.<br>\n",
        "특히 멜로로맨스, 다큐멘터리, 기타 "
      ],
      "metadata": {
        "id": "sAgtj1dYZZFs"
      }
    },
    {
      "cell_type": "markdown",
      "source": [
        ">## **루브릭**\n",
        ">\n",
        ">|번호|평가문항|상세기준|\n",
        ">|:---:|---|---|\n",
        ">|1|주어진 영화 코퍼스를 바탕으로 워드임베딩 모델을 정상적으로 만들었다.|워드임베딩의 most_similar() 메소드 결과가 의미상 바르게 나왔다.|\n",
        ">|2|영화 구분, 장르별로 target, attribute에 대한 대표성있는 단어 셋을 생성하였다.|타당한 방법론을 통해 중복이 잘 제거되고 개념축을 의미적으로 잘 대표하는 단어 셋이 만들어졌다.|\n",
        ">|3|WEAT score 계산 및 시각화를 정상적으로 진행하였다.|전체 영화 장르별로 예술/일반 영화에 대한 편향성 WEAT score가 상식에 부합하는 수치로 얻어졌으며 이를 잘 시각화하였다.|"
      ],
      "metadata": {
        "id": "hsvVMoRHsAsO"
      }
    },
    {
      "cell_type": "markdown",
      "source": [
        "# 회고\n",
        "\n",
        "코랩에서 나눔고딕체를 사용하려면 다운받은후에 런타임 초기화를 해야한다.\n",
        "\n",
        "- 이번 프로젝트는 간단했지만 이해가 잘 안됐던 것같다. 다시한번 봐야겠다."
      ],
      "metadata": {
        "id": "K6UVFKy8aBZc"
      }
    }
  ]
}