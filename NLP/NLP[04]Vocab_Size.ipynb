{
  "nbformat": 4,
  "nbformat_minor": 0,
  "metadata": {
    "colab": {
      "name": "NLP[04]_Vocab Size.ipynb",
      "provenance": [],
      "collapsed_sections": [],
      "machine_shape": "hm"
    },
    "kernelspec": {
      "name": "python3",
      "display_name": "Python 3"
    },
    "language_info": {
      "name": "python"
    },
    "accelerator": "GPU"
  },
  "cells": [
    {
      "cell_type": "markdown",
      "source": [
        "## 4.뉴스 카테고리 다중분류\n",
        " ### 프로젝트: Vocabulary Size를 변경해서 시도해보기\n"
      ],
      "metadata": {
        "id": "FnPWU-bWPBBX"
      }
    },
    {
      "cell_type": "code",
      "execution_count": 1,
      "metadata": {
        "id": "kETNsMuuBBcM"
      },
      "outputs": [],
      "source": [
        "import tensorflow as tf\n",
        "from tensorflow.keras.datasets import reuters\n",
        "import matplotlib.pyplot as plt\n",
        "import seaborn as sns\n",
        "import numpy as np\n",
        "import pandas as pd"
      ]
    },
    {
      "cell_type": "markdown",
      "source": [
        "## 1. 모든 단어 사용"
      ],
      "metadata": {
        "id": "vifV-qezSyCn"
      }
    },
    {
      "cell_type": "code",
      "source": [
        "(x_train, y_train), (x_test, y_test) = reuters.load_data(num_words=None, test_split=0.2)"
      ],
      "metadata": {
        "id": "ObvjIh9kSywy",
        "colab": {
          "base_uri": "https://localhost:8080/"
        },
        "outputId": "3adceb88-abaa-4eca-9ba1-68c0599bd42d"
      },
      "execution_count": 2,
      "outputs": [
        {
          "output_type": "stream",
          "name": "stdout",
          "text": [
            "Downloading data from https://storage.googleapis.com/tensorflow/tf-keras-datasets/reuters.npz\n",
            "2113536/2110848 [==============================] - 0s 0us/step\n",
            "2121728/2110848 [==============================] - 0s 0us/step\n"
          ]
        }
      ]
    },
    {
      "cell_type": "code",
      "source": [
        "print('훈련 샘플의 수: {}'.format(len(x_train)))\n",
        "print('테스트 샘플의 수: {}'.format(len(x_test)))"
      ],
      "metadata": {
        "colab": {
          "base_uri": "https://localhost:8080/"
        },
        "id": "ua5tPFeaTcoa",
        "outputId": "8a552aab-89cd-4d2c-87d9-fc676d852e45"
      },
      "execution_count": 3,
      "outputs": [
        {
          "output_type": "stream",
          "name": "stdout",
          "text": [
            "훈련 샘플의 수: 8982\n",
            "테스트 샘플의 수: 2246\n"
          ]
        }
      ]
    },
    {
      "cell_type": "code",
      "source": [
        "num_classes = max(y_train) + 1\n",
        "print('클래스의 수 : {}'.format(num_classes))"
      ],
      "metadata": {
        "colab": {
          "base_uri": "https://localhost:8080/"
        },
        "id": "NhuCb4oOTfkr",
        "outputId": "0652b10d-db6f-4973-b6b6-01ceef22c463"
      },
      "execution_count": 4,
      "outputs": [
        {
          "output_type": "stream",
          "name": "stdout",
          "text": [
            "클래스의 수 : 46\n"
          ]
        }
      ]
    },
    {
      "cell_type": "markdown",
      "source": [
        "데이터 분포 확인해보기"
      ],
      "metadata": {
        "id": "a3WGSe-lT0TA"
      }
    },
    {
      "cell_type": "code",
      "source": [
        "print('훈련용 뉴스의 최대 길이 :{}'.format(max(len(l) for l in x_train)))\n",
        "print('훈련용 뉴스의 평균 길이 :{}'.format(sum(map(len, x_train))/len(x_train)))\n",
        "\n",
        "plt.hist([len(s) for s in x_train], bins=50)\n",
        "plt.xlabel('length of samples')\n",
        "plt.ylabel('number of samples')\n",
        "plt.show()"
      ],
      "metadata": {
        "colab": {
          "base_uri": "https://localhost:8080/",
          "height": 316
        },
        "id": "9R8Yfch2Tv65",
        "outputId": "b993475a-5a8d-4f33-cd2e-437fcd56fe23"
      },
      "execution_count": 5,
      "outputs": [
        {
          "output_type": "stream",
          "name": "stdout",
          "text": [
            "훈련용 뉴스의 최대 길이 :2376\n",
            "훈련용 뉴스의 평균 길이 :145.5398574927633\n"
          ]
        },
        {
          "output_type": "display_data",
          "data": {
            "text/plain": [
              "<Figure size 432x288 with 1 Axes>"
            ],
            "image/png": "[encoded data removed]"
          },
          "metadata": {
            "needs_background": "light"
          }
        }
      ]
    },
    {
      "cell_type": "markdown",
      "source": [
        "클래스의 분포를 확인\n",
        "\n",
        " 모델의 성능에 영향을 줄 수 있는 요소이기 때문에 실제로 모든 클래스가 다 존재는 하는 것인지, 또 어떤 클래스가 유독 많은지와 같은 것들을 사전에 확인해 보아야 합니다."
      ],
      "metadata": {
        "id": "pBddRLkST9C5"
      }
    },
    {
      "cell_type": "code",
      "source": [
        "fig, axe = plt.subplots(ncols=1)\n",
        "fig.set_size_inches(11,5)\n",
        "sns.countplot(x=y_train)\n",
        "plt.show()"
      ],
      "metadata": {
        "colab": {
          "base_uri": "https://localhost:8080/",
          "height": 320
        },
        "id": "xheKAALbTv9v",
        "outputId": "2056f236-6ee8-4633-d298-6f9d65b0d77a"
      },
      "execution_count": 6,
      "outputs": [
        {
          "output_type": "display_data",
          "data": {
            "text/plain": [
              "<Figure size 792x360 with 1 Axes>"
            ],
            "image/png": "[encoded data removed]"
          },
          "metadata": {
            "needs_background": "light"
          }
        }
      ]
    },
    {
      "cell_type": "markdown",
      "source": [
        "원본 뉴스 데이터로 복원해보기"
      ],
      "metadata": {
        "id": "8Qq5fnhcWNZv"
      }
    },
    {
      "cell_type": "code",
      "source": [
        "word_index = reuters.get_word_index(path=\"reuters_word_index.json\")"
      ],
      "metadata": {
        "id": "xC7wcoUbWPmc",
        "colab": {
          "base_uri": "https://localhost:8080/"
        },
        "outputId": "0664a604-ef58-4ddc-f35c-8693fee2b92f"
      },
      "execution_count": 7,
      "outputs": [
        {
          "output_type": "stream",
          "name": "stdout",
          "text": [
            "Downloading data from https://storage.googleapis.com/tensorflow/tf-keras-datasets/reuters_word_index.json\n",
            "557056/550378 [==============================] - 0s 0us/step\n",
            "565248/550378 [==============================] - 0s 0us/step\n"
          ]
        }
      ]
    },
    {
      "cell_type": "code",
      "source": [
        "#index +3을 해주는 이유는 reuters.get_word_index에선 실제 단어에 맵핑한 정수에 -3을 설정해놓았기때문\n",
        "index_to_word = { index+3 : word for word, index in word_index.items() }"
      ],
      "metadata": {
        "id": "aI9gV5G0TwAn"
      },
      "execution_count": 8,
      "outputs": []
    },
    {
      "cell_type": "code",
      "source": [
        "print(index_to_word[4])\n",
        "print(index_to_word[16])"
      ],
      "metadata": {
        "colab": {
          "base_uri": "https://localhost:8080/"
        },
        "id": "KKJUeleYTwDa",
        "outputId": "c3901a0f-08a1-4268-d1ef-8760dbe524bd"
      },
      "execution_count": 9,
      "outputs": [
        {
          "output_type": "stream",
          "name": "stdout",
          "text": [
            "the\n",
            "it\n"
          ]
        }
      ]
    },
    {
      "cell_type": "code",
      "source": [
        "# index_to_word에 숫자 0은 <pad>, 숫자 1은 <sos>, 숫자 2는 <unk>를 넣어줍니다.\n",
        "for index, token in enumerate((\"<pad>\", \"<sos>\", \"<unk>\")):\n",
        "  index_to_word[index]=token\n",
        "print('=3')"
      ],
      "metadata": {
        "colab": {
          "base_uri": "https://localhost:8080/"
        },
        "id": "AFAD6WQRTwGB",
        "outputId": "35fe6353-dda5-44df-9b55-86ac4a905237"
      },
      "execution_count": 10,
      "outputs": [
        {
          "output_type": "stream",
          "name": "stdout",
          "text": [
            "=3\n"
          ]
        }
      ]
    },
    {
      "cell_type": "markdown",
      "source": [
        "첫 번째 훈련용 뉴스 기사를 원래 텍스트로 복원"
      ],
      "metadata": {
        "id": "xdia0ghSXoBk"
      }
    },
    {
      "cell_type": "code",
      "source": [
        "print(' '.join([index_to_word[index] for index in x_train[0]]))"
      ],
      "metadata": {
        "colab": {
          "base_uri": "https://localhost:8080/"
        },
        "id": "ESUsKSLsXnqV",
        "outputId": "1bfc4043-4c0f-44de-c8ea-4046f9f90827"
      },
      "execution_count": 11,
      "outputs": [
        {
          "output_type": "stream",
          "name": "stdout",
          "text": [
            "<sos> mcgrath rentcorp said as a result of its december acquisition of space co it expects earnings per share in 1987 of 1 15 to 1 30 dlrs per share up from 70 cts in 1986 the company said pretax net should rise to nine to 10 mln dlrs from six mln dlrs in 1986 and rental operation revenues to 19 to 22 mln dlrs from 12 5 mln dlrs it said cash flow per share this year should be 2 50 to three dlrs reuter 3\n"
          ]
        }
      ]
    },
    {
      "cell_type": "markdown",
      "source": [
        "전체 훈련용 뉴스 데이터와 전체 테스트용 뉴스 데이터를 텍스트 데이터로 변환해 보겠습니다."
      ],
      "metadata": {
        "id": "bAAME4oLX_hU"
      }
    },
    {
      "cell_type": "code",
      "source": [
        "decoded = []\n",
        "for i in range(len(x_train)):\n",
        "    t = ' '.join([index_to_word[index] for index in x_train[i]])\n",
        "    decoded.append(t)\n",
        "\n",
        "x_train = decoded\n",
        "print(len(x_train))"
      ],
      "metadata": {
        "colab": {
          "base_uri": "https://localhost:8080/"
        },
        "id": "0TiFvRQJX_9T",
        "outputId": "b35ff53e-3424-4941-d944-6fade003e1f1"
      },
      "execution_count": 12,
      "outputs": [
        {
          "output_type": "stream",
          "name": "stdout",
          "text": [
            "8982\n"
          ]
        }
      ]
    },
    {
      "cell_type": "code",
      "source": [
        "decoded = []\n",
        "for i in range(len(x_test)):\n",
        "    t = ' '.join([index_to_word[index] for index in x_test[i]])\n",
        "    decoded.append(t)\n",
        "\n",
        "x_test = decoded\n",
        "print(len(x_test))"
      ],
      "metadata": {
        "colab": {
          "base_uri": "https://localhost:8080/"
        },
        "id": "DU-kB1S5X__7",
        "outputId": "87889731-29bc-475d-f545-0021730178da"
      },
      "execution_count": 13,
      "outputs": [
        {
          "output_type": "stream",
          "name": "stdout",
          "text": [
            "2246\n"
          ]
        }
      ]
    },
    {
      "cell_type": "code",
      "source": [
        "x_train[:5]"
      ],
      "metadata": {
        "colab": {
          "base_uri": "https://localhost:8080/"
        },
        "id": "N3lScH3pYFrj",
        "outputId": "94c72d5a-b9da-4be2-981c-9b0a90b0a175"
      },
      "execution_count": 14,
      "outputs": [
        {
          "output_type": "execute_result",
          "data": {
            "text/plain": [
              "['<sos> mcgrath rentcorp said as a result of its december acquisition of space co it expects earnings per share in 1987 of 1 15 to 1 30 dlrs per share up from 70 cts in 1986 the company said pretax net should rise to nine to 10 mln dlrs from six mln dlrs in 1986 and rental operation revenues to 19 to 22 mln dlrs from 12 5 mln dlrs it said cash flow per share this year should be 2 50 to three dlrs reuter 3',\n",
              " \"<sos> generale de banque sa lt genb br and lt heller overseas corp of chicago have each taken 50 pct stakes in factoring company sa belgo factors generale de banque said in a statement it gave no financial details of the transaction sa belgo factors' turnover in 1986 was 17 5 billion belgian francs reuter 3\",\n",
              " '<sos> shr 3 28 dlrs vs 22 cts shr diluted 2 99 dlrs vs 22 cts net 46 0 mln vs 3 328 000 avg shrs 14 0 mln vs 15 2 mln year shr 5 41 dlrs vs 1 56 dlrs shr diluted 4 94 dlrs vs 1 50 dlrs net 78 2 mln vs 25 9 mln avg shrs 14 5 mln vs 15 1 mln note earnings per share reflect the two for one split effective january 6 1987 per share amounts are calculated after preferred stock dividends loss continuing operations for the qtr 1986 includes gains of sale of investments in enron corp of 14 mln dlrs and associated companies of 4 189 000 less writedowns of investments in national intergroup inc of 11 8 mln and brae corp of 15 6 mln reuter 3',\n",
              " \"<sos> the farmers home administration the u s agriculture department's farm lending arm could lose about seven billion dlrs in outstanding principal on its severely delinquent borrowers or about one fourth of its farm loan portfolio the general accounting office gao said in remarks prepared for delivery to the senate agriculture committee brian crowley senior associate director of gao also said that a preliminary analysis of proposed changes in fmha's financial eligibility standards indicated as many as one half of fmha borrowers who received new loans from the agency in 1986 would be ineligible under the proposed system the agency has proposed evaluating applicants' credit using a variety of financial ratios instead of relying solely on cashflow ability senate agriculture committee chairman patrick leahy d vt slammed the proposed eligibility changes telling fmha administrator vance clark at a hearing that they would mark a dramatic shift in the agency's purpose away from being farmers' lender of last resort toward becoming a big city bank but clark defended the new regulations saying the agency had a responsibility to administer its 70 billion dlr loan portfolio in a compassionate yet judicious manner crowley of gao congress' investigative arm said the proposed credit scoring system attempted to ensure that fmha would make loans only to borrowers who had a reasonable change of repaying their debt reuter 3\",\n",
              " '<sos> seton co said its board has received a proposal from chairman and chief executive officer philip d kaltenbacher to acquire seton for 15 75 dlrs per share in cash seton said the acquisition bid is subject to kaltenbacher arranging the necessary financing it said he intends to ask other members of senior management to participate the company said kaltenbacher owns 30 pct of seton stock and other management members another 7 5 pct seton said it has formed an independent board committee to consider the offer and has deferred the annual meeting it had scheduled for march 31 reuter 3']"
            ]
          },
          "metadata": {},
          "execution_count": 14
        }
      ]
    },
    {
      "cell_type": "code",
      "source": [
        "x_test[:5]"
      ],
      "metadata": {
        "colab": {
          "base_uri": "https://localhost:8080/"
        },
        "id": "PvWM9G1aYACc",
        "outputId": "ca130846-ffe9-4c3d-8b73-c42a4519cf32"
      },
      "execution_count": 15,
      "outputs": [
        {
          "output_type": "execute_result",
          "data": {
            "text/plain": [
              "['<sos> the great atlantic and pacific tea co said its three year 345 mln dlr capital program will be be substantially increased to accommodate growth and expansion plans for waldbaum inc and shopwell inc over the next two years a and p said the acquisition of shopwell in august 1986 and waldbaum in december helped us achieve better than expected results in the fourth quarter ended february 28 its net income from continuing operations jumped 52 6 pct to 20 7 mln dlrs or 55 cts a share in the latest quarter as sales increased 48 3 pct to 1 58 billion dlrs a and p gave no details on the expanded capital program but it did say it completed the first year of the program during 1986 a and p is 52 4 pct owned by lt tengelmann warenhandelsgesellschaft of west germany reuter 3',\n",
              " \"<sos> philippine sugar production in the 1987 88 crop year ending august has been set at 1 6 mln tonnes up from a provisional 1 3 mln tonnes this year sugar regulatory administration sra chairman arsenio yulo said yulo told reuters a survey during the current milling season which ends next month showed the 1986 87 estimate would almost certainly be met he said at least 1 2 mln tonnes of the 1987 88 crop would be earmarked for domestic consumption yulo said about 130 000 tonnes would be set aside for the u s sugar quota 150 000 tonnes for strategic reserves and 50 000 tonnes would be sold on the world market he said if the government approved a long standing sra recommendation to manufacture ethanol the project would take up another 150 000 tonnes slightly raising the target the government for its own reasons has been delaying approval of the project but we expect it to come through by july yulo said ethanol could make up five pct of gasoline cutting the oil import bill by about 300 mln pesos yulo said three major philippine distilleries were ready to start manufacturing ethanol if the project was approved the ethanol project would result in employment for about 100 000 people sharply reducing those thrown out of work by depressed world sugar prices and a moribund domestic industry production quotas set for the first time in 1987 88 had been submitted to president corazon aquino i think the president would rather wait till the new congress convenes after the may elections he said but there is really no need for such quotas we are right now producing just slightly over our own consumption level the producers have never enjoyed such high prices yulo said adding sugar was currently selling locally for 320 pesos per picul up from 190 pesos last august yulo said prices were driven up because of speculation following the sra's bid to control production we are no longer concerned so much with the world market he said adding producers in the negros region had learned from their mistakes and diversified into corn and prawn farming and cloth production he said diversification into products other than ethanol was also possible within the sugar industry the brazilians long ago learnt their lessons yulo said they have 300 sugar mills compared with our 41 but they relocated many of them and diversified production we want to call this a 'sugarcane industry' instead of the sugar industry he said sugarcane could be fed to pigs and livestock used for thatching roofs or used in room panelling when you cut sugarcane you don't even have to produce sugar he said yulo said the philippines was lobbying for a renewal of the international sugar agreement which expired in 1984 as a major sugar producer we are urging them to write a new agreement which would revive world prices yulo said if there is no agreement world prices will always be depressed particularly because the european community is subsidising its producers and dumping sugar on the markets he said current world prices holding steady at about 7 60 cents per pound were uneconomical for the philippines where production costs ranged from 12 to 14 cents a pound if the price holds steady for a while at 7 60 cents i expect the level to rise to about 11 cents a pound by the end of this year he said yulo said economists forecast a bullish sugar market by 1990 with world consumption outstripping production he said sugar markets were holding up despite encroachments from artificial sweeteners and high fructose corn syrup but we are not happy with the reagan administration he said since 1935 we have been regular suppliers of sugar to the u s in 1982 when they restored the quota system they cut ours in half without any justification manila was keenly watching washington's moves to cut domestic support prices to 12 cents a pound from 18 cents the u s agriculture department last december slashed its 12 month 1987 sugar import quota from the philippines to 143 780 short tons from 231 660 short tons in 1986 yulo said despite next year's increased production target some philippine mills were expected to shut down at least four of the 41 mills were not working during the 1986 87 season he said we expect two or three more to follow suit during the next season reuter 3\",\n",
              " \"<sos> the agriculture department's widening of louisiana gulf differentials will affect county posted prices for number two yellow corn in ten states a usda official said all counties in iowa will be affected as will counties which use the gulf to price corn in illinois indiana tennessee kentucky missouri mississippi arkansas alabama and louisiana said ron burgess deputy director of commodity operations division for the usda usda last night notified the grain industry that effective immediately all gulf differentials used to price interior corn would be widened on a sliding scale basis of four to eight cts depending on what the differential is usda's action was taken to lower excessively high posted county prices for corn caused by high gulf prices we've been following this louisiana gulf situation for a month and we don't think it's going to get back in line in any nearby time burgess said burgess said usda will probably narrow back the gulf differentials when and if gulf prices recede if we're off the mark now because we're too high wouldn't we be as much off the mark if we're too low he said while forecasting more adjustments if gulf prices fall burgess said no other changes in usda's price system are being planned right now we don't tinker we don't make changes lightly and we don't make changes often he said reuter 3\",\n",
              " '<sos> graham mccormick oil and gas partnership said it completed the sale of interests in two major oil and gas fields to lt energy assets international corp for 21 mln dlrs the company said it sold about one half of its 50 pct interest in the oak hill and north rucias fields its two largest producing properties it said it used about 20 mln dlrs of the proceeds to prepay principal on its senior secured notes semi annual principal payments on the remaining 40 mln dlrs of notes have been satisfied until december 1988 as a result it said the company said the note agreements were amended to reflect an easing of some financial covenants and an increase of interest to 13 5 pct from 13 0 pct until december 1990 it said the noteholders exercise price for 1 125 000 warrants was also reduced to 50 cts from 1 50 dlrs the company said energy assets agreed to share the costs of increasing production at the oak hill field reuter 3',\n",
              " '<sos> strong south easterly winds were keeping many vessels trapped in the ice off the finnish and swedish coasts in one of the worst icy periods in the baltic for many years the finnish board of navigation said in finland and sweden up to 50 vessels were reported to be stuck in the ice and even the largest of the assisting icebreakers were having difficulties in breaking through to the stranded ships coastguard officials said however icy conditions in the southern baltic at the soviet oil ports of ventspils and klaipeda had eased they said weather officials in neighbouring sweden said the icy conditions in the baltic were the worst for 30 years with ships fighting a losing battle to keep moving in the coastal stretches of the gulf of bothnia which divides finland and sweden the ice is up to one metre thick with drifts and currents packing it into almost impenetrable walls three metres high swedish coastguard officials said weather forecasts say winds may ease during the weekend but a further drop in temperature could bring shipping to a standstill the officials said reuter 3']"
            ]
          },
          "metadata": {},
          "execution_count": 15
        }
      ]
    },
    {
      "cell_type": "markdown",
      "source": [
        "벡터화 하기"
      ],
      "metadata": {
        "id": "b3FYeXYmYKJA"
      }
    },
    {
      "cell_type": "code",
      "source": [
        "from sklearn.feature_extraction.text import CountVectorizer\n",
        "from sklearn.feature_extraction.text import TfidfTransformer"
      ],
      "metadata": {
        "id": "iUNKxFnPXns4"
      },
      "execution_count": 16,
      "outputs": []
    },
    {
      "cell_type": "markdown",
      "source": [
        "DTM을 생성하고, DTM의 크기를 확인해보겠습니다."
      ],
      "metadata": {
        "id": "0gwpF295aAKg"
      }
    },
    {
      "cell_type": "code",
      "source": [
        "dtmvector = CountVectorizer()\n",
        "x_train_dtm = dtmvector.fit_transform(x_train)\n",
        "print(x_train_dtm.shape)"
      ],
      "metadata": {
        "colab": {
          "base_uri": "https://localhost:8080/"
        },
        "id": "0LYiHR0iaAn3",
        "outputId": "e1c1aac6-c764-466a-b53b-71ef69f412c9"
      },
      "execution_count": 17,
      "outputs": [
        {
          "output_type": "stream",
          "name": "stdout",
          "text": [
            "(8982, 26506)\n"
          ]
        }
      ]
    },
    {
      "cell_type": "markdown",
      "source": [
        "TF-IDF Matrix"
      ],
      "metadata": {
        "id": "EmLm9pfiaSs8"
      }
    },
    {
      "cell_type": "code",
      "source": [
        "tfidf_transformer = TfidfTransformer()\n",
        "tfidfv = tfidf_transformer.fit_transform(x_train_dtm)\n",
        "print(tfidfv.shape)"
      ],
      "metadata": {
        "colab": {
          "base_uri": "https://localhost:8080/"
        },
        "id": "mATrj08bYMBS",
        "outputId": "52862ed9-36ed-4b4d-b8b7-166de736f3fa"
      },
      "execution_count": 18,
      "outputs": [
        {
          "output_type": "stream",
          "name": "stdout",
          "text": [
            "(8982, 26506)\n"
          ]
        }
      ]
    },
    {
      "cell_type": "markdown",
      "source": [
        "나이브 베이즈 분류기"
      ],
      "metadata": {
        "id": "wKgElmS7aVm2"
      }
    },
    {
      "cell_type": "code",
      "source": [
        "from sklearn.naive_bayes import MultinomialNB #다항분포 나이브 베이즈 모델\n",
        "from sklearn.linear_model import LogisticRegression, SGDClassifier\n",
        "from sklearn.naive_bayes import ComplementNB\n",
        "from sklearn.tree import DecisionTreeClassifier\n",
        "from sklearn.ensemble import RandomForestClassifier\n",
        "from sklearn.ensemble import GradientBoostingClassifier\n",
        "from sklearn.ensemble import VotingClassifier\n",
        "from sklearn.svm import LinearSVC\n",
        "from sklearn.metrics import accuracy_score #정확도 계산"
      ],
      "metadata": {
        "id": "9PNWUP4bYMD_"
      },
      "execution_count": 19,
      "outputs": []
    },
    {
      "cell_type": "code",
      "source": [
        "model = MultinomialNB()\n",
        "model.fit(tfidfv, y_train)"
      ],
      "metadata": {
        "colab": {
          "base_uri": "https://localhost:8080/"
        },
        "id": "WCqAU9udYMGg",
        "outputId": "f58acf5a-ac27-4222-b374-4e7be9e26e86"
      },
      "execution_count": 20,
      "outputs": [
        {
          "output_type": "execute_result",
          "data": {
            "text/plain": [
              "MultinomialNB()"
            ]
          },
          "metadata": {},
          "execution_count": 20
        }
      ]
    },
    {
      "cell_type": "code",
      "source": [
        "x_test_dtm = dtmvector.transform(x_test) #테스트 데이터를 DTM으로 변환\n",
        "tfidfv_test = tfidf_transformer.transform(x_test_dtm) #DTM을 TF-IDF 행렬로 변환\n",
        "\n",
        "predicted = model.predict(tfidfv_test) #테스트 데이터에 대한 예측\n",
        "print(\"나이브 베이즈 정확도:\", accuracy_score(y_test, predicted)) #예측값과 실제값 비교"
      ],
      "metadata": {
        "colab": {
          "base_uri": "https://localhost:8080/"
        },
        "id": "VGCkP3VYYMJY",
        "outputId": "8170a882-654e-40c6-9479-17bb414626ad"
      },
      "execution_count": 21,
      "outputs": [
        {
          "output_type": "stream",
          "name": "stdout",
          "text": [
            "나이브 베이즈 정확도: 0.5997328584149599\n"
          ]
        }
      ]
    },
    {
      "cell_type": "markdown",
      "source": [
        "F1-Score, Confusion Matrix"
      ],
      "metadata": {
        "id": "w8HBRAyieVuG"
      }
    },
    {
      "cell_type": "code",
      "source": [
        "from sklearn.metrics import classification_report\n",
        "from sklearn.metrics import confusion_matrix"
      ],
      "metadata": {
        "id": "3EOiCUfieVOd"
      },
      "execution_count": 22,
      "outputs": []
    },
    {
      "cell_type": "code",
      "source": [
        "# confusion matrix 시각화\n",
        "def graph_confusion_matrix(model, x_test, y_test):#, classes_name):\n",
        "    df_cm = pd.DataFrame(confusion_matrix(y_test, model.predict(x_test)))#, index=classes_name, columns=classes_name)\n",
        "    fig = plt.figure(figsize=(15,15))\n",
        "    heatmap = sns.heatmap(df_cm, annot=True, fmt=\"d\")\n",
        "    heatmap.yaxis.set_ticklabels(heatmap.yaxis.get_ticklabels(), rotation=0, ha='right', fontsize=12)\n",
        "    heatmap.xaxis.set_ticklabels(heatmap.xaxis.get_ticklabels(), rotation=45, ha='right', fontsize=12)\n",
        "    plt.ylabel('label')\n",
        "    plt.xlabel('predicted value')"
      ],
      "metadata": {
        "id": "5NpXzFbLXnvZ"
      },
      "execution_count": 23,
      "outputs": []
    },
    {
      "cell_type": "code",
      "source": [
        "graph_confusion_matrix(model, tfidfv_test, y_test)"
      ],
      "metadata": {
        "colab": {
          "base_uri": "https://localhost:8080/",
          "height": 887
        },
        "id": "6Y4zgH9JXnyL",
        "outputId": "dc480a2e-4231-46a0-9790-500ef315e2b9"
      },
      "execution_count": 24,
      "outputs": [
        {
          "output_type": "display_data",
          "data": {
            "text/plain": [
              "<Figure size 1080x1080 with 2 Axes>"
            ],
            "image/png": "[encoded data removed]"
          },
          "metadata": {
            "needs_background": "light"
          }
        }
      ]
    },
    {
      "cell_type": "markdown",
      "source": [
        "Complement Naive Bayes Classifier(CNB)\n",
        "\n",
        "---\n",
        "\n"
      ],
      "metadata": {
        "id": "ck9y6845eqyK"
      }
    },
    {
      "cell_type": "code",
      "source": [
        "cb = ComplementNB()\n",
        "cb.fit(tfidfv, y_train)"
      ],
      "metadata": {
        "colab": {
          "base_uri": "https://localhost:8080/"
        },
        "id": "pa7DA8Dwer3F",
        "outputId": "b4388f84-dc58-4054-a599-e18705f05c12"
      },
      "execution_count": 25,
      "outputs": [
        {
          "output_type": "execute_result",
          "data": {
            "text/plain": [
              "ComplementNB()"
            ]
          },
          "metadata": {},
          "execution_count": 25
        }
      ]
    },
    {
      "cell_type": "code",
      "source": [
        "predicted = cb.predict(tfidfv_test) #테스트 데이터에 대한 예측\n",
        "print(\"정확도:\", accuracy_score(y_test, predicted)) #예측값과 실제값 비교"
      ],
      "metadata": {
        "colab": {
          "base_uri": "https://localhost:8080/"
        },
        "id": "m-T8wHC3er5r",
        "outputId": "fc0b9c8a-4e1e-4064-cb05-2cf8698e197e"
      },
      "execution_count": 26,
      "outputs": [
        {
          "output_type": "stream",
          "name": "stdout",
          "text": [
            "정확도: 0.7649154051647373\n"
          ]
        }
      ]
    },
    {
      "cell_type": "markdown",
      "source": [
        "로지스틱 회귀(Logistic Regression)\n",
        "\n",
        "---\n"
      ],
      "metadata": {
        "id": "OwpCnrk6fA4M"
      }
    },
    {
      "cell_type": "code",
      "source": [
        "lr = LogisticRegression(C=10000, penalty='l2')\n",
        "lr.fit(tfidfv, y_train)"
      ],
      "metadata": {
        "colab": {
          "base_uri": "https://localhost:8080/"
        },
        "id": "6P0HpW4Aer8T",
        "outputId": "31f371f0-d8a1-4759-d456-b438a7445558"
      },
      "execution_count": 27,
      "outputs": [
        {
          "output_type": "stream",
          "name": "stderr",
          "text": [
            "/usr/local/lib/python3.7/dist-packages/sklearn/linear_model/_logistic.py:818: ConvergenceWarning: lbfgs failed to converge (status=1):\n",
            "STOP: TOTAL NO. of ITERATIONS REACHED LIMIT.\n",
            "\n",
            "Increase the number of iterations (max_iter) or scale the data as shown in:\n",
            "    https://scikit-learn.org/stable/modules/preprocessing.html\n",
            "Please also refer to the documentation for alternative solver options:\n",
            "    https://scikit-learn.org/stable/modules/linear_model.html#logistic-regression\n",
            "  extra_warning_msg=_LOGISTIC_SOLVER_CONVERGENCE_MSG,\n"
          ]
        },
        {
          "output_type": "execute_result",
          "data": {
            "text/plain": [
              "LogisticRegression(C=10000)"
            ]
          },
          "metadata": {},
          "execution_count": 27
        }
      ]
    },
    {
      "cell_type": "code",
      "source": [
        "predicted = lr.predict(tfidfv_test) #테스트 데이터에 대한 예측\n",
        "print(\"정확도:\", accuracy_score(y_test, predicted)) #예측값과 실제값 비교"
      ],
      "metadata": {
        "colab": {
          "base_uri": "https://localhost:8080/"
        },
        "id": "zRGxwHP7er_A",
        "outputId": "e4862673-1fbe-4af4-99c5-6c865da26d4b"
      },
      "execution_count": 28,
      "outputs": [
        {
          "output_type": "stream",
          "name": "stdout",
          "text": [
            "정확도: 0.813446126447017\n"
          ]
        }
      ]
    },
    {
      "cell_type": "markdown",
      "source": [
        "선형 서포트 벡터 머신(Linear Support Vector Machine)"
      ],
      "metadata": {
        "id": "DnuDvVI7ffPj"
      }
    },
    {
      "cell_type": "code",
      "source": [
        "lsvc = LinearSVC(C=1000, penalty='l1', max_iter=500, dual=False)\n",
        "lsvc.fit(tfidfv, y_train)"
      ],
      "metadata": {
        "colab": {
          "base_uri": "https://localhost:8080/"
        },
        "id": "myhshbalesBb",
        "outputId": "0b504dab-67a3-4d5f-d5fe-1734e3914a38"
      },
      "execution_count": 29,
      "outputs": [
        {
          "output_type": "stream",
          "name": "stderr",
          "text": [
            "/usr/local/lib/python3.7/dist-packages/sklearn/svm/_base.py:1208: ConvergenceWarning: Liblinear failed to converge, increase the number of iterations.\n",
            "  ConvergenceWarning,\n"
          ]
        },
        {
          "output_type": "execute_result",
          "data": {
            "text/plain": [
              "LinearSVC(C=1000, dual=False, max_iter=500, penalty='l1')"
            ]
          },
          "metadata": {},
          "execution_count": 29
        }
      ]
    },
    {
      "cell_type": "code",
      "source": [
        "predicted = lsvc.predict(tfidfv_test) #테스트 데이터에 대한 예측\n",
        "print(\"정확도:\", accuracy_score(y_test, predicted)) #예측값과 실제값 비교"
      ],
      "metadata": {
        "colab": {
          "base_uri": "https://localhost:8080/"
        },
        "id": "szdyrlbhesD6",
        "outputId": "984ca339-ef7f-4910-e97f-df9bba8011aa"
      },
      "execution_count": 30,
      "outputs": [
        {
          "output_type": "stream",
          "name": "stdout",
          "text": [
            "정확도: 0.7769367764915405\n"
          ]
        }
      ]
    },
    {
      "cell_type": "markdown",
      "source": [
        "결정 트리(Decision Tree)"
      ],
      "metadata": {
        "id": "luk1FOgKhfF2"
      }
    },
    {
      "cell_type": "code",
      "source": [
        "tree = DecisionTreeClassifier(max_depth=10, random_state=0)\n",
        "tree.fit(tfidfv, y_train)"
      ],
      "metadata": {
        "colab": {
          "base_uri": "https://localhost:8080/"
        },
        "id": "wLlMYQrthfgP",
        "outputId": "456d2d5c-b8f2-4094-c938-754b8f4cdef6"
      },
      "execution_count": 31,
      "outputs": [
        {
          "output_type": "execute_result",
          "data": {
            "text/plain": [
              "DecisionTreeClassifier(max_depth=10, random_state=0)"
            ]
          },
          "metadata": {},
          "execution_count": 31
        }
      ]
    },
    {
      "cell_type": "code",
      "source": [
        "predicted = tree.predict(tfidfv_test) #테스트 데이터에 대한 예측\n",
        "print(\"정확도:\", accuracy_score(y_test, predicted)) #예측값과 실제값 비교"
      ],
      "metadata": {
        "colab": {
          "base_uri": "https://localhost:8080/"
        },
        "id": "XYQy3AvQesGf",
        "outputId": "998c717e-a958-4787-db57-56078bee9266"
      },
      "execution_count": 32,
      "outputs": [
        {
          "output_type": "stream",
          "name": "stdout",
          "text": [
            "정확도: 0.6211041852181657\n"
          ]
        }
      ]
    },
    {
      "cell_type": "markdown",
      "source": [
        "랜덤 포레스트(Random Forest)\n"
      ],
      "metadata": {
        "id": "kW731O2nhkyd"
      }
    },
    {
      "cell_type": "code",
      "source": [
        "forest = RandomForestClassifier(n_estimators=5, random_state=0)\n",
        "forest.fit(tfidfv, y_train)"
      ],
      "metadata": {
        "colab": {
          "base_uri": "https://localhost:8080/"
        },
        "id": "dJ58udR5hiOV",
        "outputId": "b0238608-e7d8-4883-86f9-d5941e7008fa"
      },
      "execution_count": 33,
      "outputs": [
        {
          "output_type": "execute_result",
          "data": {
            "text/plain": [
              "RandomForestClassifier(n_estimators=5, random_state=0)"
            ]
          },
          "metadata": {},
          "execution_count": 33
        }
      ]
    },
    {
      "cell_type": "code",
      "source": [
        "predicted = forest.predict(tfidfv_test) #테스트 데이터에 대한 예측\n",
        "print(\"정확도:\", accuracy_score(y_test, predicted)) #예측값과 실제값 비교"
      ],
      "metadata": {
        "colab": {
          "base_uri": "https://localhost:8080/"
        },
        "id": "WTU1yKBdhiQu",
        "outputId": "9c4f3bb2-d21b-410a-de79-f4290081e214"
      },
      "execution_count": 34,
      "outputs": [
        {
          "output_type": "stream",
          "name": "stdout",
          "text": [
            "정확도: 0.6544968833481746\n"
          ]
        }
      ]
    },
    {
      "cell_type": "markdown",
      "source": [
        "그래디언트 부스팅 트리(GradientBoostingClassifier)\n"
      ],
      "metadata": {
        "id": "zQss9r1Vh21u"
      }
    },
    {
      "cell_type": "code",
      "source": [
        "grbt = GradientBoostingClassifier(random_state=0) # verbose=3\n",
        "grbt.fit(tfidfv, y_train)"
      ],
      "metadata": {
        "colab": {
          "base_uri": "https://localhost:8080/"
        },
        "id": "rPA5PIb_hiTQ",
        "outputId": "73c03406-3233-4d20-cb68-4d9d0ef98daf"
      },
      "execution_count": 35,
      "outputs": [
        {
          "output_type": "execute_result",
          "data": {
            "text/plain": [
              "GradientBoostingClassifier(random_state=0)"
            ]
          },
          "metadata": {},
          "execution_count": 35
        }
      ]
    },
    {
      "cell_type": "code",
      "source": [
        "predicted = grbt.predict(tfidfv_test) #테스트 데이터에 대한 예측\n",
        "print(\"정확도:\", accuracy_score(y_test, predicted)) #예측값과 실제값 비교"
      ],
      "metadata": {
        "colab": {
          "base_uri": "https://localhost:8080/"
        },
        "id": "uXFP4FkehiWW",
        "outputId": "bd6477bc-26d9-4d12-fc51-b00baf6d8aa5"
      },
      "execution_count": 36,
      "outputs": [
        {
          "output_type": "stream",
          "name": "stdout",
          "text": [
            "정확도: 0.7702582368655387\n"
          ]
        }
      ]
    },
    {
      "cell_type": "markdown",
      "source": [
        "보팅(Voting)\n"
      ],
      "metadata": {
        "id": "e4Nh5qZUiAPM"
      }
    },
    {
      "cell_type": "code",
      "source": [
        "voting_classifier = VotingClassifier(estimators=[\n",
        "         ('lr', LogisticRegression(C=10000, penalty='l2')),\n",
        "        ('cb', ComplementNB()),\n",
        "        ('grbt', GradientBoostingClassifier(random_state=0))\n",
        "], voting='soft', n_jobs=-1)\n",
        "voting_classifier.fit(tfidfv, y_train)"
      ],
      "metadata": {
        "colab": {
          "base_uri": "https://localhost:8080/"
        },
        "id": "cev8O6EvhiZd",
        "outputId": "e224a2c2-2c3a-448d-f950-e9ce60a4e778"
      },
      "execution_count": 37,
      "outputs": [
        {
          "output_type": "execute_result",
          "data": {
            "text/plain": [
              "VotingClassifier(estimators=[('lr', LogisticRegression(C=10000)),\n",
              "                             ('cb', ComplementNB()),\n",
              "                             ('grbt',\n",
              "                              GradientBoostingClassifier(random_state=0))],\n",
              "                 n_jobs=-1, voting='soft')"
            ]
          },
          "metadata": {},
          "execution_count": 37
        }
      ]
    },
    {
      "cell_type": "code",
      "source": [
        "predicted = voting_classifier.predict(tfidfv_test) #테스트 데이터에 대한 예측\n",
        "print(\"정확도:\", accuracy_score(y_test, predicted)) #예측값과 실제값 비교"
      ],
      "metadata": {
        "colab": {
          "base_uri": "https://localhost:8080/"
        },
        "id": "jpE4lr3mhicK",
        "outputId": "617dc1d3-ed18-4ef9-e0bc-3cbc36287e6e"
      },
      "execution_count": 38,
      "outputs": [
        {
          "output_type": "stream",
          "name": "stdout",
          "text": [
            "정확도: 0.8187889581478184\n"
          ]
        }
      ]
    },
    {
      "cell_type": "markdown",
      "source": [
        "각 모델에 대한 전체 훈련 함수 생성"
      ],
      "metadata": {
        "id": "el7eXAt5jDl1"
      }
    },
    {
      "cell_type": "code",
      "source": [
        "def train_model(tfidfv, y_train, tfidfv_test, y_test):\n",
        "\n",
        "  #나이브 베이즈 분류기\n",
        "  nb = MultinomialNB()\n",
        "  nb.fit(tfidfv, y_train)\n",
        "\n",
        "  nb_predicted = nb.predict(tfidfv_test) # 테스트 데이터에 대한 예측\n",
        "  print(\"나이브 베이즈 정확도:\", accuracy_score(y_test, nb_predicted)) #예측값과 실제값 비교\n",
        "\n",
        "  #CNB\n",
        "  cb = ComplementNB()\n",
        "  cb.fit(tfidfv, y_train)\n",
        "\n",
        "  cb_predicted = cb.predict(tfidfv_test) #테스트 데이터에 대한 예측\n",
        "  print(\"CNB 정확도\", accuracy_score(y_test, cb_predicted)) #예측값과 실제값 비교\n",
        "\n",
        "  # 로지스틱 회귀\n",
        "  lr = LogisticRegression(C=10000, penalty='l2')\n",
        "  lr.fit(tfidfv, y_train)\n",
        "\n",
        "  lr_predicted = lr.predict(tfidfv_test) #테스트 데이터에 대한 예측\n",
        "  print(\"로지스틱 회귀 정확도:\", accuracy_score(y_test, lr_predicted)) #예측값과 실제값 비교\n",
        "\n",
        "  # 선형 서포트 벡터 머신\n",
        "  lsvc = LinearSVC(C=1000, penalty='l1', max_iter=500, dual=False)\n",
        "  lsvc.fit(tfidfv, y_train)\n",
        "\n",
        "  lsvc_predicted = lsvc.predict(tfidfv_test) #테스트 데이터에 대한 예측\n",
        "  print(\"선형 서포트 벡터 머신 정확도:\", accuracy_score(y_test, lsvc_predicted)) #예측값과 실제값 비교\n",
        "\n",
        "  # 결정 트리\n",
        "  tree = DecisionTreeClassifier(max_depth=10, random_state=0)\n",
        "  tree.fit(tfidfv, y_train)\n",
        "\n",
        "  tree_predicted = tree.predict(tfidfv_test) #테스트 데이터에 대한 예측\n",
        "  print(\"결정 트리 정확도:\", accuracy_score(y_test, tree_predicted)) #예측값과 실제값 비교\n",
        "\n",
        "  # 랜덤 포레스트\n",
        "  forest = RandomForestClassifier(n_estimators=5, random_state=0)\n",
        "  forest.fit(tfidfv, y_train)\n",
        "\n",
        "  forest_predicted = forest.predict(tfidfv_test) #테스트 데이터에 대한 예측\n",
        "  print(\"랜덤 포레스트 정확도:\", accuracy_score(y_test, forest_predicted)) #예측값과 실제값 비교\n",
        "\n",
        "  # 그래디언트 부스팅 트리\n",
        "  grbt = GradientBoostingClassifier(random_state=0) # verbose=3\n",
        "  grbt.fit(tfidfv, y_train)\n",
        "\n",
        "  grbt_predicted = grbt.predict(tfidfv_test) #테스트 데이터에 대한 예측\n",
        "  print(\"그래디언트 부스팅 트리 정확도:\", accuracy_score(y_test, grbt_predicted)) #예측값과 실제값 비교\n",
        "\n",
        "  # 보팅\n",
        "  voting_classifier = VotingClassifier(estimators=[\n",
        "         ('lr', LogisticRegression(C=10000, penalty='l2')),\n",
        "        ('cb', ComplementNB()),\n",
        "        ('grbt', GradientBoostingClassifier(random_state=0))\n",
        "        ], voting='soft', n_jobs=-1)\n",
        "  voting_classifier.fit(tfidfv, y_train)\n",
        "\n",
        "  voting_classifier_predicted = voting_classifier.predict(tfidfv_test) #테스트 데이터에 대한 예측\n",
        "  print(\"보팅 정확도:\", accuracy_score(y_test, voting_classifier_predicted)) #예측값과 실제값 비교\n",
        "\n",
        "  return nb, cb, lr, lsvc, tree, forest, grbt, voting_classifier"
      ],
      "metadata": {
        "id": "z9Cb9Ffihifx"
      },
      "execution_count": 39,
      "outputs": []
    },
    {
      "cell_type": "code",
      "source": [
        ""
      ],
      "metadata": {
        "id": "rN5yIB9Ihiis"
      },
      "execution_count": 39,
      "outputs": []
    },
    {
      "cell_type": "markdown",
      "source": [
        "## 빈도수 상위 5,000개의 단어만 사용"
      ],
      "metadata": {
        "id": "bez9L_1TSzeC"
      }
    },
    {
      "cell_type": "code",
      "source": [
        "(x_train_5k, y_train_5k), (x_test_5k, y_test_5k) = reuters.load_data(num_words=5000, test_split=0.2)"
      ],
      "metadata": {
        "id": "osbR99StS0Qs"
      },
      "execution_count": 40,
      "outputs": []
    },
    {
      "cell_type": "code",
      "source": [
        "# 텍스트 데이터로 변환\n",
        "decoded = []\n",
        "for i in range(len(x_train_5k)):\n",
        "    t = ' '.join([index_to_word[index] for index in x_train_5k[i]])\n",
        "    decoded.append(t)\n",
        "\n",
        "x_train_5k = decoded\n",
        "print(len(x_train_5k))"
      ],
      "metadata": {
        "colab": {
          "base_uri": "https://localhost:8080/"
        },
        "id": "6Uado9xImxBL",
        "outputId": "3b7dc3d8-b75f-4b3e-c820-7b397d2f1c75"
      },
      "execution_count": 41,
      "outputs": [
        {
          "output_type": "stream",
          "name": "stdout",
          "text": [
            "8982\n"
          ]
        }
      ]
    },
    {
      "cell_type": "code",
      "source": [
        "# 텍스트 데이터로 변환\n",
        "decoded = []\n",
        "for i in range(len(x_test_5k)):\n",
        "    t = ' '.join([index_to_word[index] for index in x_test_5k[i]])\n",
        "    decoded.append(t)\n",
        "\n",
        "x_test_5k = decoded\n",
        "print(len(x_test_5k))"
      ],
      "metadata": {
        "colab": {
          "base_uri": "https://localhost:8080/"
        },
        "id": "G2aD0d8KmxEK",
        "outputId": "3213e72f-2708-47fa-9cfb-25519fb2df2b"
      },
      "execution_count": 42,
      "outputs": [
        {
          "output_type": "stream",
          "name": "stdout",
          "text": [
            "2246\n"
          ]
        }
      ]
    },
    {
      "cell_type": "code",
      "source": [
        "#dtm 생성, 크기 확인\n",
        "dtmvector = CountVectorizer()\n",
        "x_train_dtm_5k = dtmvector.fit_transform(x_train_5k)\n",
        "print(x_train_dtm_5k.shape)\n",
        "\n",
        "#TF-IDF Matrix 생성, 크기 확인\n",
        "tfidf_transformer = TfidfTransformer()\n",
        "tfidfv_5k = tfidf_transformer.fit_transform(x_train_dtm_5k)\n",
        "print(tfidfv_5k.shape)\n",
        "\n",
        "x_test_dtm_5k = dtmvector.transform(x_test_5k) #테스트 데이터를 DTM으로 변환\n",
        "tfidfv_test_5k = tfidf_transformer.transform(x_test_dtm_5k) #DTM을 TF-IDF 행렬로 변환"
      ],
      "metadata": {
        "colab": {
          "base_uri": "https://localhost:8080/"
        },
        "id": "pFdNXWS8mxG_",
        "outputId": "296ab84e-7c49-40f9-8ac3-76cd9e09c41e"
      },
      "execution_count": 43,
      "outputs": [
        {
          "output_type": "stream",
          "name": "stdout",
          "text": [
            "(8982, 4867)\n",
            "(8982, 4867)\n"
          ]
        }
      ]
    },
    {
      "cell_type": "code",
      "source": [
        "nb_5k, cb_5k, lr_5k, lsvc_5k, tree_5k, forest_5k, grbt_5k, voting_classifier_5k = train_model(tfidfv_5k, y_train_5k, tfidfv_test_5k, y_test_5k)"
      ],
      "metadata": {
        "colab": {
          "base_uri": "https://localhost:8080/"
        },
        "id": "qbI7NnPpmxP7",
        "outputId": "7a51aa62-71b2-4fe5-ab6b-8860c8e8aeb9"
      },
      "execution_count": 44,
      "outputs": [
        {
          "output_type": "stream",
          "name": "stdout",
          "text": [
            "나이브 베이즈 정확도: 0.6731967943009796\n",
            "CNB 정확도 0.7707034728406055\n"
          ]
        },
        {
          "output_type": "stream",
          "name": "stderr",
          "text": [
            "/usr/local/lib/python3.7/dist-packages/sklearn/linear_model/_logistic.py:818: ConvergenceWarning: lbfgs failed to converge (status=1):\n",
            "STOP: TOTAL NO. of ITERATIONS REACHED LIMIT.\n",
            "\n",
            "Increase the number of iterations (max_iter) or scale the data as shown in:\n",
            "    https://scikit-learn.org/stable/modules/preprocessing.html\n",
            "Please also refer to the documentation for alternative solver options:\n",
            "    https://scikit-learn.org/stable/modules/linear_model.html#logistic-regression\n",
            "  extra_warning_msg=_LOGISTIC_SOLVER_CONVERGENCE_MSG,\n"
          ]
        },
        {
          "output_type": "stream",
          "name": "stdout",
          "text": [
            "로지스틱 회귀 정확도: 0.8058771148708815\n"
          ]
        },
        {
          "output_type": "stream",
          "name": "stderr",
          "text": [
            "/usr/local/lib/python3.7/dist-packages/sklearn/svm/_base.py:1208: ConvergenceWarning: Liblinear failed to converge, increase the number of iterations.\n",
            "  ConvergenceWarning,\n"
          ]
        },
        {
          "output_type": "stream",
          "name": "stdout",
          "text": [
            "선형 서포트 벡터 머신 정확도: 0.7729296527159395\n",
            "결정 트리 정확도: 0.6179875333926982\n",
            "랜덤 포레스트 정확도: 0.701246660730187\n",
            "그래디언트 부스팅 트리 정확도: 0.767586821015138\n",
            "보팅 정확도: 0.8161175422974176\n"
          ]
        }
      ]
    },
    {
      "cell_type": "markdown",
      "source": [
        "## 빈도수 상위 2,500개의 단어만 사용"
      ],
      "metadata": {
        "id": "LILucOdvmxgQ"
      }
    },
    {
      "cell_type": "code",
      "source": [
        "(x_train_2k, y_train_2k), (x_test_2k, y_test_2k) = reuters.load_data(num_words=2500, test_split=0.2)"
      ],
      "metadata": {
        "id": "nbKFbfcUmyEn"
      },
      "execution_count": 45,
      "outputs": []
    },
    {
      "cell_type": "code",
      "source": [
        "# 텍스트 데이터로 변환\n",
        "decoded = []\n",
        "for i in range(len(x_train_2k)):\n",
        "    t = ' '.join([index_to_word[index] for index in x_train_2k[i]])\n",
        "    decoded.append(t)\n",
        "\n",
        "x_train_2k = decoded\n",
        "print(len(x_train_2k))"
      ],
      "metadata": {
        "colab": {
          "base_uri": "https://localhost:8080/"
        },
        "id": "Tlf5CWAsoq8P",
        "outputId": "92ebb55e-efae-46f1-f1d8-6879abc73d08"
      },
      "execution_count": 46,
      "outputs": [
        {
          "output_type": "stream",
          "name": "stdout",
          "text": [
            "8982\n"
          ]
        }
      ]
    },
    {
      "cell_type": "code",
      "source": [
        "# 텍스트 데이터로 변환\n",
        "decoded = []\n",
        "for i in range(len(x_test_2k)):\n",
        "    t = ' '.join([index_to_word[index] for index in x_test_2k[i]])\n",
        "    decoded.append(t)\n",
        "\n",
        "x_test_2k = decoded\n",
        "print(len(x_test_2k))"
      ],
      "metadata": {
        "colab": {
          "base_uri": "https://localhost:8080/"
        },
        "id": "_xaaAm57oq-q",
        "outputId": "b2ade79d-297d-4204-aec2-332d9e47cd46"
      },
      "execution_count": 47,
      "outputs": [
        {
          "output_type": "stream",
          "name": "stdout",
          "text": [
            "2246\n"
          ]
        }
      ]
    },
    {
      "cell_type": "code",
      "source": [
        "#dtm 생성, 크기 확인\n",
        "dtmvector = CountVectorizer()\n",
        "x_train_dtm_2k = dtmvector.fit_transform(x_train_2k)\n",
        "print(x_train_dtm_2k.shape)\n",
        "\n",
        "#TF-IDF Matrix 생성, 크기 확인\n",
        "tfidf_transformer = TfidfTransformer()\n",
        "tfidfv_2k = tfidf_transformer.fit_transform(x_train_dtm_2k)\n",
        "print(tfidfv_2k.shape)\n",
        "\n",
        "x_test_dtm_2k = dtmvector.transform(x_test_2k) #테스트 데이터를 DTM으로 변환\n",
        "tfidfv_test_2k = tfidf_transformer.transform(x_test_dtm_2k) #DTM을 TF-IDF 행렬로 변환"
      ],
      "metadata": {
        "colab": {
          "base_uri": "https://localhost:8080/"
        },
        "id": "o53FfEIGorBg",
        "outputId": "cc62b222-8314-44de-89d9-094fb81ccbce"
      },
      "execution_count": 48,
      "outputs": [
        {
          "output_type": "stream",
          "name": "stdout",
          "text": [
            "(8982, 2430)\n",
            "(8982, 2430)\n"
          ]
        }
      ]
    },
    {
      "cell_type": "code",
      "source": [
        "nb_2k, cb_2k, lr_2k, lsvc_2k, tree_2k, forest_2k, grbt_2k, voting_classifier_2k = train_model(tfidfv_2k, y_train_2k, tfidfv_test_2k, y_test_2k)"
      ],
      "metadata": {
        "colab": {
          "base_uri": "https://localhost:8080/"
        },
        "id": "KZ0VeeBDorGy",
        "outputId": "b5215dab-9f7a-4514-d519-533e273ca1a2"
      },
      "execution_count": 49,
      "outputs": [
        {
          "output_type": "stream",
          "name": "stdout",
          "text": [
            "나이브 베이즈 정확도: 0.6905609973285841\n",
            "CNB 정확도 0.7609082813891362\n"
          ]
        },
        {
          "output_type": "stream",
          "name": "stderr",
          "text": [
            "/usr/local/lib/python3.7/dist-packages/sklearn/linear_model/_logistic.py:818: ConvergenceWarning: lbfgs failed to converge (status=1):\n",
            "STOP: TOTAL NO. of ITERATIONS REACHED LIMIT.\n",
            "\n",
            "Increase the number of iterations (max_iter) or scale the data as shown in:\n",
            "    https://scikit-learn.org/stable/modules/preprocessing.html\n",
            "Please also refer to the documentation for alternative solver options:\n",
            "    https://scikit-learn.org/stable/modules/linear_model.html#logistic-regression\n",
            "  extra_warning_msg=_LOGISTIC_SOLVER_CONVERGENCE_MSG,\n"
          ]
        },
        {
          "output_type": "stream",
          "name": "stdout",
          "text": [
            "로지스틱 회귀 정확도: 0.7849510240427426\n"
          ]
        },
        {
          "output_type": "stream",
          "name": "stderr",
          "text": [
            "/usr/local/lib/python3.7/dist-packages/sklearn/svm/_base.py:1208: ConvergenceWarning: Liblinear failed to converge, increase the number of iterations.\n",
            "  ConvergenceWarning,\n"
          ]
        },
        {
          "output_type": "stream",
          "name": "stdout",
          "text": [
            "선형 서포트 벡터 머신 정확도: 0.7408726625111309\n",
            "결정 트리 정확도: 0.6260017809439002\n",
            "랜덤 포레스트 정확도: 0.705253784505788\n",
            "그래디언트 부스팅 트리 정확도: 0.7666963490650045\n",
            "보팅 정확도: 0.8045414069456812\n"
          ]
        }
      ]
    },
    {
      "cell_type": "markdown",
      "source": [
        "\n",
        "## 딥러닝 모델과 비교해 보기\n"
      ],
      "metadata": {
        "id": "O-CwWLxXS8hb"
      }
    },
    {
      "cell_type": "code",
      "source": [
        "(x_train_5k, y_train_5k), (x_test_5k, y_test_5k) = reuters.load_data(num_words=5000, test_split=0.2)"
      ],
      "metadata": {
        "id": "sYF9ymGI-BfV"
      },
      "execution_count": 56,
      "outputs": []
    },
    {
      "cell_type": "code",
      "source": [
        "vocab_size = 5000    # 어휘 사전의 크기\n",
        "word_vector_dim = 16 # 워드 벡터의 차원수"
      ],
      "metadata": {
        "id": "YCVosYKMtLvn"
      },
      "execution_count": 50,
      "outputs": []
    },
    {
      "cell_type": "code",
      "source": [
        "# RNN 모델\n",
        "model = tf.keras.Sequential(name='RNN')\n",
        "model.add(tf.keras.layers.Embedding(vocab_size, word_vector_dim, input_shape=(None,)))\n",
        "model.add(tf.keras.layers.Conv1D(16, 7, activation='relu'))\n",
        "model.add(tf.keras.layers.MaxPooling1D(5))\n",
        "model.add(tf.keras.layers.Conv1D(16, 7, activation='relu'))\n",
        "model.add(tf.keras.layers.GlobalMaxPooling1D())\n",
        "model.add(tf.keras.layers.Dense(8, activation='relu'))\n",
        "model.add(tf.keras.layers.Dense(1, activation='sigmoid')) \n",
        "\n",
        "model.summary()"
      ],
      "metadata": {
        "colab": {
          "base_uri": "https://localhost:8080/"
        },
        "id": "kbnrSYNYtLyL",
        "outputId": "e06b788e-64f1-4fa1-bd48-68eb1e897e67"
      },
      "execution_count": 51,
      "outputs": [
        {
          "output_type": "stream",
          "name": "stdout",
          "text": [
            "Model: \"RNN\"\n",
            "_________________________________________________________________\n",
            " Layer (type)                Output Shape              Param #   \n",
            "=================================================================\n",
            " embedding (Embedding)       (None, None, 16)          80000     \n",
            "                                                                 \n",
            " conv1d (Conv1D)             (None, None, 16)          1808      \n",
            "                                                                 \n",
            " max_pooling1d (MaxPooling1D  (None, None, 16)         0         \n",
            " )                                                               \n",
            "                                                                 \n",
            " conv1d_1 (Conv1D)           (None, None, 16)          1808      \n",
            "                                                                 \n",
            " global_max_pooling1d (Globa  (None, 16)               0         \n",
            " lMaxPooling1D)                                                  \n",
            "                                                                 \n",
            " dense (Dense)               (None, 8)                 136       \n",
            "                                                                 \n",
            " dense_1 (Dense)             (None, 1)                 9         \n",
            "                                                                 \n",
            "=================================================================\n",
            "Total params: 83,761\n",
            "Trainable params: 83,761\n",
            "Non-trainable params: 0\n",
            "_________________________________________________________________\n"
          ]
        }
      ]
    },
    {
      "cell_type": "code",
      "source": [
        "print(x_train_5k[:5])"
      ],
      "metadata": {
        "colab": {
          "base_uri": "https://localhost:8080/"
        },
        "id": "ynmwh8_7-Via",
        "outputId": "a1da91c9-32d9-46a5-bdd4-83dd7d8c7abd"
      },
      "execution_count": 58,
      "outputs": [
        {
          "output_type": "stream",
          "name": "stdout",
          "text": [
            "[list([1, 2, 2, 8, 43, 10, 447, 5, 25, 207, 270, 5, 3095, 111, 16, 369, 186, 90, 67, 7, 89, 5, 19, 102, 6, 19, 124, 15, 90, 67, 84, 22, 482, 26, 7, 48, 4, 49, 8, 864, 39, 209, 154, 6, 151, 6, 83, 11, 15, 22, 155, 11, 15, 7, 48, 9, 4579, 1005, 504, 6, 258, 6, 272, 11, 15, 22, 134, 44, 11, 15, 16, 8, 197, 1245, 90, 67, 52, 29, 209, 30, 32, 132, 6, 109, 15, 17, 12])\n",
            " list([1, 3267, 699, 3434, 2295, 56, 2, 2, 9, 56, 3906, 1073, 81, 5, 1198, 57, 366, 737, 132, 20, 4093, 7, 2, 49, 2295, 2, 1037, 3267, 699, 3434, 8, 7, 10, 241, 16, 855, 129, 231, 783, 5, 4, 587, 2295, 2, 2, 775, 7, 48, 34, 191, 44, 35, 1795, 505, 17, 12])\n",
            " list([1, 53, 12, 284, 15, 14, 272, 26, 53, 959, 32, 818, 15, 14, 272, 26, 39, 684, 70, 11, 14, 12, 3886, 18, 180, 183, 187, 70, 11, 14, 102, 32, 11, 29, 53, 44, 704, 15, 14, 19, 758, 15, 53, 959, 47, 1013, 15, 14, 19, 132, 15, 39, 965, 32, 11, 14, 147, 72, 11, 180, 183, 187, 44, 11, 14, 102, 19, 11, 123, 186, 90, 67, 960, 4, 78, 13, 68, 467, 511, 110, 59, 89, 90, 67, 1390, 55, 2678, 92, 617, 80, 1274, 46, 905, 220, 13, 4, 346, 48, 235, 629, 5, 211, 5, 1118, 7, 2, 81, 5, 187, 11, 15, 9, 1709, 201, 5, 47, 3615, 18, 478, 4514, 5, 1118, 7, 232, 2, 71, 5, 160, 63, 11, 9, 2, 81, 5, 102, 59, 11, 17, 12])\n",
            " list([1, 4, 686, 867, 558, 4, 37, 38, 309, 2276, 465, 893, 3541, 114, 2902, 69, 312, 35, 15, 7, 335, 1679, 21, 25, 3675, 2, 3498, 58, 69, 68, 493, 5, 25, 465, 377, 2430, 4, 293, 1172, 739, 4379, 8, 7, 1510, 1131, 13, 899, 6, 4, 990, 309, 415, 4519, 2, 645, 3916, 791, 5, 4379, 75, 8, 24, 10, 1311, 4677, 5, 344, 756, 7, 2, 231, 2, 2603, 1413, 43, 509, 43, 68, 327, 5, 2, 3498, 297, 638, 73, 430, 22, 4, 580, 7, 48, 41, 30, 2, 136, 4, 344, 298, 4, 580, 40, 344, 2, 2, 291, 1488, 10, 3148, 5, 231, 2, 1308, 5, 2, 2, 21, 2, 1622, 990, 309, 415, 265, 2, 2, 1149, 2, 2, 4, 344, 2, 756, 3729, 2, 4667, 2, 3249, 28, 10, 2190, 24, 77, 41, 682, 10, 4851, 2048, 7, 4, 2, 2926, 1598, 22, 370, 2, 2, 5, 54, 2, 1685, 2916, 10, 1571, 946, 60, 51, 3249, 2, 4, 73, 2135, 669, 4, 580, 64, 10, 4280, 6, 2, 25, 482, 35, 150, 377, 2430, 7, 10, 2, 836, 2, 4730, 2, 5, 4379, 2, 2, 3541, 8, 4, 344, 291, 2, 298, 4228, 6, 2223, 24, 2, 41, 343, 430, 210, 6, 3498, 297, 64, 10, 2281, 455, 5, 2, 125, 222, 17, 12])\n",
            " list([1, 2, 111, 8, 25, 166, 40, 638, 10, 436, 22, 265, 9, 621, 575, 1080, 4742, 1149, 2, 6, 438, 2, 13, 102, 388, 15, 90, 67, 7, 197, 2, 8, 4, 270, 416, 23, 527, 6, 2, 4891, 4, 1055, 742, 16, 8, 36, 1480, 6, 2124, 100, 543, 5, 645, 362, 6, 2912, 4, 49, 8, 2, 976, 124, 20, 5, 2, 80, 9, 100, 362, 543, 395, 61, 44, 20, 2, 8, 16, 40, 1276, 42, 1436, 166, 415, 6, 888, 4, 116, 9, 40, 3089, 4, 303, 163, 16, 64, 772, 13, 94, 156, 17, 12])]\n"
          ]
        }
      ]
    },
    {
      "cell_type": "code",
      "source": [
        "X_train = tf.keras.preprocessing.sequence.pad_sequences(x_train_5k,\n",
        "                                                        value=0,\n",
        "                                                        padding='pre', \n",
        "                                                        maxlen=150)\n",
        "\n",
        "X_test = tf.keras.preprocessing.sequence.pad_sequences(x_test_5k,\n",
        "                                                       value=0,\n",
        "                                                       padding='pre',\n",
        "                                                       maxlen=150)"
      ],
      "metadata": {
        "id": "LxLEbhxB_8ZD"
      },
      "execution_count": 60,
      "outputs": []
    },
    {
      "cell_type": "code",
      "source": [
        "from keras.callbacks import EarlyStopping\n",
        "from tensorflow import keras\n",
        "\n",
        "es = keras.callbacks.EarlyStopping(monitor='val_loss', mode='min', verbose=1, patience=4)\n",
        "\n",
        "model.compile(optimizer='adam',\n",
        "              loss='binary_crossentropy',\n",
        "              metrics=['accuracy'])\n",
        "              \n",
        "epochs=20\n",
        "\n",
        "history = model.fit(X_train,\n",
        "                    y_train_5k,\n",
        "                    epochs=epochs,\n",
        "                    batch_size=128,\n",
        "                    callbacks=[es],\n",
        "                    validation_data=(X_test, y_test_5k),\n",
        "                    verbose=1)"
      ],
      "metadata": {
        "colab": {
          "base_uri": "https://localhost:8080/"
        },
        "id": "fHpLS5PktL0T",
        "outputId": "3fa66bba-db45-4e3f-846c-08acfcf93d58"
      },
      "execution_count": 61,
      "outputs": [
        {
          "output_type": "stream",
          "name": "stdout",
          "text": [
            "Epoch 1/20\n",
            "71/71 [==============================] - 11s 11ms/step - loss: -1.4261 - accuracy: 0.0466 - val_loss: -14.4444 - val_accuracy: 0.0467\n",
            "Epoch 2/20\n",
            "71/71 [==============================] - 0s 7ms/step - loss: -512.6939 - accuracy: 0.0481 - val_loss: -2194.8320 - val_accuracy: 0.0467\n",
            "Epoch 3/20\n",
            "71/71 [==============================] - 0s 6ms/step - loss: -11961.2383 - accuracy: 0.0481 - val_loss: -33126.9648 - val_accuracy: 0.0467\n",
            "Epoch 4/20\n",
            "71/71 [==============================] - 1s 7ms/step - loss: -95743.5469 - accuracy: 0.0481 - val_loss: -201486.7812 - val_accuracy: 0.0467\n",
            "Epoch 5/20\n",
            "71/71 [==============================] - 1s 7ms/step - loss: -426445.5000 - accuracy: 0.0481 - val_loss: -759974.6875 - val_accuracy: 0.0467\n",
            "Epoch 6/20\n",
            "71/71 [==============================] - 0s 7ms/step - loss: -1347160.6250 - accuracy: 0.0481 - val_loss: -2157751.0000 - val_accuracy: 0.0467\n",
            "Epoch 7/20\n",
            "71/71 [==============================] - 0s 7ms/step - loss: -3431426.0000 - accuracy: 0.0481 - val_loss: -5077666.5000 - val_accuracy: 0.0467\n",
            "Epoch 8/20\n",
            "71/71 [==============================] - 1s 7ms/step - loss: -7475427.5000 - accuracy: 0.0481 - val_loss: -10454526.0000 - val_accuracy: 0.0467\n",
            "Epoch 9/20\n",
            "71/71 [==============================] - 1s 7ms/step - loss: -14559966.0000 - accuracy: 0.0481 - val_loss: -19518544.0000 - val_accuracy: 0.0467\n",
            "Epoch 10/20\n",
            "71/71 [==============================] - 0s 7ms/step - loss: -26065888.0000 - accuracy: 0.0481 - val_loss: -33742084.0000 - val_accuracy: 0.0467\n",
            "Epoch 11/20\n",
            "71/71 [==============================] - 0s 6ms/step - loss: -43621836.0000 - accuracy: 0.0481 - val_loss: -55023292.0000 - val_accuracy: 0.0467\n",
            "Epoch 12/20\n",
            "71/71 [==============================] - 0s 6ms/step - loss: -69276216.0000 - accuracy: 0.0481 - val_loss: -85291864.0000 - val_accuracy: 0.0467\n",
            "Epoch 13/20\n",
            "71/71 [==============================] - 0s 6ms/step - loss: -104971576.0000 - accuracy: 0.0481 - val_loss: -126965992.0000 - val_accuracy: 0.0467\n",
            "Epoch 14/20\n",
            "71/71 [==============================] - 0s 6ms/step - loss: -153417936.0000 - accuracy: 0.0481 - val_loss: -182718272.0000 - val_accuracy: 0.0467\n",
            "Epoch 15/20\n",
            "71/71 [==============================] - 1s 8ms/step - loss: -217355616.0000 - accuracy: 0.0481 - val_loss: -254958496.0000 - val_accuracy: 0.0467\n",
            "Epoch 16/20\n",
            "71/71 [==============================] - 1s 8ms/step - loss: -299532160.0000 - accuracy: 0.0481 - val_loss: -347466016.0000 - val_accuracy: 0.0467\n",
            "Epoch 17/20\n",
            "71/71 [==============================] - 1s 7ms/step - loss: -403883680.0000 - accuracy: 0.0481 - val_loss: -463845600.0000 - val_accuracy: 0.0467\n",
            "Epoch 18/20\n",
            "71/71 [==============================] - 1s 7ms/step - loss: -532975072.0000 - accuracy: 0.0481 - val_loss: -606232960.0000 - val_accuracy: 0.0467\n",
            "Epoch 19/20\n",
            "71/71 [==============================] - 1s 7ms/step - loss: -690824128.0000 - accuracy: 0.0481 - val_loss: -779872832.0000 - val_accuracy: 0.0467\n",
            "Epoch 20/20\n",
            "71/71 [==============================] - 1s 7ms/step - loss: -881799296.0000 - accuracy: 0.0481 - val_loss: -988926208.0000 - val_accuracy: 0.0467\n"
          ]
        }
      ]
    },
    {
      "cell_type": "code",
      "source": [
        "results = model.evaluate(X_train, y_train_5k, verbose=2)\n",
        "print(results)"
      ],
      "metadata": {
        "id": "CEC_5i4WtL2D",
        "colab": {
          "base_uri": "https://localhost:8080/"
        },
        "outputId": "57698fd4-d327-41d2-bd6e-0dc82c08a5bb"
      },
      "execution_count": 63,
      "outputs": [
        {
          "output_type": "stream",
          "name": "stdout",
          "text": [
            "281/281 - 1s - loss: -9.9269e+08 - accuracy: 0.0481 - 776ms/epoch - 3ms/step\n",
            "[-992692928.0, 0.0480961911380291]\n"
          ]
        }
      ]
    },
    {
      "cell_type": "code",
      "source": [
        "import matplotlib.pyplot as plt"
      ],
      "metadata": {
        "id": "LuiCfxiOo3JP"
      },
      "execution_count": 64,
      "outputs": []
    },
    {
      "cell_type": "code",
      "source": [
        "history_dict = history.history\n",
        "print(history_dict.keys()) # epoch에 따른 그래프를 그려볼 수 있는 항목들"
      ],
      "metadata": {
        "id": "RIAoor8OtaKQ",
        "colab": {
          "base_uri": "https://localhost:8080/"
        },
        "outputId": "4c0532b6-9338-4d7c-8219-bdacf9aa9ce2"
      },
      "execution_count": 65,
      "outputs": [
        {
          "output_type": "stream",
          "name": "stdout",
          "text": [
            "dict_keys(['loss', 'accuracy', 'val_loss', 'val_accuracy'])\n"
          ]
        }
      ]
    },
    {
      "cell_type": "code",
      "source": [
        "# RNN 그래프\n",
        "\n",
        "acc = history_dict['accuracy']\n",
        "val_acc = history_dict['val_accuracy']\n",
        "loss = history_dict['loss']\n",
        "val_loss = history_dict['val_loss']\n",
        "\n",
        "epochs = range(1, len(acc) + 1)\n",
        "\n",
        "plt.figure(figsize=(12,4))\n",
        "\n",
        "plt.subplot(1, 2, 1)\n",
        "plt.plot(epochs, loss, 'bo', label='Training loss') # \"bo\"는 \"파란색 점\"입니다\n",
        "plt.plot(epochs, val_loss, 'b', label='Validation loss') # b는 \"파란 실선\"입니다\n",
        "plt.title('Training and validation loss')\n",
        "plt.xlabel('Epochs')\n",
        "plt.ylabel('Loss')\n",
        "plt.legend()\n",
        "\n",
        "plt.subplot(1, 2, 2)\n",
        "plt.plot(epochs, acc, 'bo', label='Training acc')\n",
        "plt.plot(epochs, val_acc, 'b', label='Validation acc')\n",
        "plt.title('Training and validation accuracy')\n",
        "plt.xlabel('Epochs')\n",
        "plt.ylabel('Accuracy')\n",
        "plt.legend()\n",
        "\n",
        "plt.show()"
      ],
      "metadata": {
        "id": "cyMItovntaMw",
        "colab": {
          "base_uri": "https://localhost:8080/",
          "height": 295
        },
        "outputId": "ee7e3e1c-1d42-4fca-a232-cc5b6e642b78"
      },
      "execution_count": 66,
      "outputs": [
        {
          "output_type": "display_data",
          "data": {
            "text/plain": [
              "<Figure size 864x288 with 2 Axes>"
            ],
            "image/png": "[encoded data removed]"
          },
          "metadata": {
            "needs_background": "light"
          }
        }
      ]
    },
    {
      "cell_type": "markdown",
      "source": [
        "|모델|all|10000|5000|2500|\n",
        "|---|---|---|---|---|\n",
        "|nb|0.59|0.65|0.67|**0.69**|\n",
        "|cb|0.76|**0.77**|**0.77**|0.76|\n",
        "|lr|**0.81**|0.80|0.80|0.78|\n",
        "|svm|**0.78**|0.77|0.77|0.73|\n",
        "|d.tree|0.62|0.62|0.61|0.62|\n",
        "|r.forest|0.65|0.67|**0.70**|**0.70**|\n",
        "|grbt|**0.77**|0.76|0.76|0.76|\n",
        "|voting|0.81|0.81|0.81|0.80|"
      ],
      "metadata": {
        "id": "U40gWryE1rPd"
      }
    },
    {
      "cell_type": "markdown",
      "source": [
        "루브릭\n",
        "\n",
        "아래의 기준을 바탕으로 프로젝트를 평가합니다.\n",
        "\n",
        "|평가문항|상세기준|\n",
        "|:---|:---|\n",
        "|1. 분류 모델의 accuracy가 기준 이상 높게 나왔는가?|3가지 단어 개수에 대해 8가지 머신러닝 기법을 적용하여 그중 최적의 솔루션을 도출하였다.|\n",
        "|2. 분류 모델의 F1 score가 기준 이상 높게 나왔는가?|Vocabulary size에 따른 각 머신러닝 모델의 성능변화 추이를 살피고, 해당 머신러닝 알고리즘의 특성에 근거해 원인을 분석하였다.|\n",
        "|3. 딥러닝 모델을 활용해 성능이 비교 및 확인되었는가?|동일한 데이터셋과 전처리 조건으로 딥러닝 모델의 성능과 비교하여 결과에 따른 원인을 분석하였다.|"
      ],
      "metadata": {
        "id": "A_lfIJqIo3wW"
      }
    },
    {
      "cell_type": "markdown",
      "source": [
        "## 회고\n",
        "\n",
        "빈도수에 따른 단어 사용을 분류하여 8가지의 알고리즘 모델들을 비교해보았다.<br>\n",
        "종합적으로 정리해본 결과 로지스틱회귀와 보팅이 제일 높은 정확도를 보였다.<br>\n",
        "단어 개수는 정확도에 큰 차이를 보이지 않은 것 같으나 나이브 베이즈 정리는 단어 빈도수를 줄일 수록 정확도가 높아졌다.<br>\n",
        "왜 단어 개수가 적을 수록 정확도가 높아질까?? 궁금증이 생겼다.\n",
        "\n",
        "\n"
      ],
      "metadata": {
        "id": "EHA7JC6TSf83"
      }
    },
    {
      "cell_type": "markdown",
      "source": [
        ">https://needjarvis.tistory.com/620<br>\n",
        " https://gomguard.tistory.com/69 예제:(스팸메일 분류)\n",
        "\n",
        "### 나이브 베이즈\n",
        "\n",
        "\n",
        "베이즈 정리의 대표적인 예시로, 베이즈 정리는 일반인들이 알고 있던 통계의 지식을 무너트리는 역할을 한다. <br>\n",
        "위 사이트는 베이즈 정리의 예시를 보여주는데 읽으면 좋을 것같다.(대장암 진단 검사기)<br>\n",
        "핵심은 우리는 상당히 많은 통계의 함정에 빠지게 되고, 어설프게 판단하는 가설이 무서운것이라고 한다.\n",
        "\n",
        "![](https://cs50.harvard.edu/ai/2020/notes/6/bayesrule.png)\n",
        "![](https://cs50.harvard.edu/ai/2020/notes/6/naivebayes.png)\n",
        "\n",
        "P(positive | \"my grandson loved it\")\n",
        "\n",
        "Applying Bayes' ruled \n",
        "- P(\"my\", \"grandson\", \"loved\", \"it\" | positive)*P(positive)/P(\"my\", \"grandson\", \"loved\", \"it\"). \n",
        "\n",
        "\n",
        "나이브 베이즈의 개념\n",
        "- 목표 값을 예측하는 모든 기능이 **서로 독립적**이라는 가정하에 Bayes의 정리를 기반으로하는 분류 기술이다.\n",
        "- 각 클래스의 확률을 계산한 다음 확률이 가장 높은 클래스를 선택하는 방법이다.\n",
        "- 특히 자연어 처리(NLP) 문제에서 잘 작동한다.\n",
        "- 데이터가 각 클래스에 속할 특징 확률을 계산하는 조건부 확률 기반의 분류 방법이다.\n",
        "- 나이브(Naïve) : 나이브라는 의미는 순진하다라는 뜻을 담고 있으며 모든 변수(특징)들이 동등하다는 것을 의미한다.\n",
        "\n",
        "\n",
        "나이브 베이즈의 장점\n",
        "- 간단하고 빠르며 효율적인 알고리즘\n",
        "- 잡음과 누락 데이터를 잘 처리한다.\n",
        "- 훈련을 할 때 데이터의 크기에 상관없이 잘 동작한다.\n",
        "- 예측을 위한 추정 확률을 쉽게 얻을 수 있다.\n",
        "\n",
        "나이브 베이즈의 단점\n",
        "- 수치 특징이 많은 데이터셋에는 이상적이지 않다.\n",
        "- 모든 데이터의 특징을 독립적인 사건이라고 분류하기 때문에 다른 분류 모델에 따라 제약이 크다.\n",
        "\n",
        "\n",
        "\n"
      ],
      "metadata": {
        "id": "k4HRdtwKgYpJ"
      }
    },
    {
      "cell_type": "markdown",
      "source": [
        "나이브 베이즈는 간단한 이론으로 구현한 분류기로 **상호 독립적**인 개념때문에 많은 단어장을 가질 수록 단어간의 연관성을 가지지 못해서 결과값이 좋지 않은 것 같다."
      ],
      "metadata": {
        "id": "gIpqLflxuXbS"
      }
    }
  ]
}