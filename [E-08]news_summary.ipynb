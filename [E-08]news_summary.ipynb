{
 "cells": [
  {
   "cell_type": "markdown",
   "id": "f4b6de79",
   "metadata": {},
   "source": [
    "# 8-13. 프로젝트: 뉴스기사 요약해보기\n",
    "새로운 데이터셋에 대해서 추상적 요약과 추출적 요약을 모두 해보는 시간을 가져봐요."
   ]
  },
  {
   "cell_type": "markdown",
   "id": "76a6f3ec",
   "metadata": {},
   "source": [
    "## Step 1. 데이터 수집하기\n",
    "데이터는 아래 링크에 있는 뉴스 기사 데이터(news_summary_more.csv)를 사용하세요."
   ]
  },
  {
   "cell_type": "code",
   "execution_count": 1,
   "id": "f42190cb",
   "metadata": {},
   "outputs": [],
   "source": [
    "import numpy as np\n",
    "import pandas as pd\n",
    "import os\n",
    "import re\n",
    "import matplotlib.pyplot as plt\n",
    "from bs4 import BeautifulSoup \n",
    "from tensorflow.keras.preprocessing.text import Tokenizer \n",
    "from tensorflow.keras.preprocessing.sequence import pad_sequences\n",
    "import urllib.request\n",
    "import warnings\n",
    "warnings.filterwarnings(\"ignore\", category=UserWarning, module='bs4')\n",
    "import urllib.request"
   ]
  },
  {
   "cell_type": "code",
   "execution_count": 2,
   "id": "6891c571",
   "metadata": {},
   "outputs": [],
   "source": [
    "urllib.request.urlretrieve(\"https://raw.githubusercontent.com/sunnysai12345/News_Summary/master/news_summary_more.csv\", filename=\"news_summary_more.csv\")\n",
    "data = pd.read_csv('news_summary_more.csv', encoding='iso-8859-1')"
   ]
  },
  {
   "cell_type": "code",
   "execution_count": 3,
   "id": "3400e9dc",
   "metadata": {},
   "outputs": [
    {
     "data": {
      "text/html": [
       "<div>\n",
       "<style scoped>\n",
       "    .dataframe tbody tr th:only-of-type {\n",
       "        vertical-align: middle;\n",
       "    }\n",
       "\n",
       "    .dataframe tbody tr th {\n",
       "        vertical-align: top;\n",
       "    }\n",
       "\n",
       "    .dataframe thead th {\n",
       "        text-align: right;\n",
       "    }\n",
       "</style>\n",
       "<table border=\"1\" class=\"dataframe\">\n",
       "  <thead>\n",
       "    <tr style=\"text-align: right;\">\n",
       "      <th></th>\n",
       "      <th>headlines</th>\n",
       "      <th>text</th>\n",
       "    </tr>\n",
       "  </thead>\n",
       "  <tbody>\n",
       "    <tr>\n",
       "      <th>31284</th>\n",
       "      <td>Make records on ex-PM Shastri's death public: ...</td>\n",
       "      <td>The Central Information Commission has directe...</td>\n",
       "    </tr>\n",
       "    <tr>\n",
       "      <th>72424</th>\n",
       "      <td>N Korea sentences S Korean journos to death fo...</td>\n",
       "      <td>Four South Korean journalists have been senten...</td>\n",
       "    </tr>\n",
       "    <tr>\n",
       "      <th>33680</th>\n",
       "      <td>Club charged as fans invade pitch to take pics...</td>\n",
       "      <td>Real Madrid's Champions League semifinal oppon...</td>\n",
       "    </tr>\n",
       "    <tr>\n",
       "      <th>56016</th>\n",
       "      <td>Australia wins its 33rd Ashes, has more wins t...</td>\n",
       "      <td>Australia won the Ashes for the 33rd time afte...</td>\n",
       "    </tr>\n",
       "    <tr>\n",
       "      <th>47889</th>\n",
       "      <td>What are the origins of Valentine's Day?</td>\n",
       "      <td>Valentine's Day is thought to have originated ...</td>\n",
       "    </tr>\n",
       "    <tr>\n",
       "      <th>31004</th>\n",
       "      <td>Kin of man killed by rashly-driven mini bus gr...</td>\n",
       "      <td>The family of a 73-year-old man who was killed...</td>\n",
       "    </tr>\n",
       "    <tr>\n",
       "      <th>24377</th>\n",
       "      <td>Body of newborn with paper stuffed in mouth fo...</td>\n",
       "      <td>The body of a newborn was found with toilet pa...</td>\n",
       "    </tr>\n",
       "    <tr>\n",
       "      <th>2557</th>\n",
       "      <td>New Zealand beat Sri Lanka by 35 runs in the s...</td>\n",
       "      <td>New Zealand went from 55/5 to 179/7 to registe...</td>\n",
       "    </tr>\n",
       "    <tr>\n",
       "      <th>92940</th>\n",
       "      <td>Jeweller awarded 2 yrs in jail for hiding Swis...</td>\n",
       "      <td>An owner of a jewellery store in Dehradun, Raj...</td>\n",
       "    </tr>\n",
       "    <tr>\n",
       "      <th>74284</th>\n",
       "      <td>Gang takes cigarettes worth Ã¢ÂÂ¹4.11 crore a...</td>\n",
       "      <td>A gang of robbers stole cigarettes worth Ã¢ÂÂ...</td>\n",
       "    </tr>\n",
       "  </tbody>\n",
       "</table>\n",
       "</div>"
      ],
      "text/plain": [
       "                                               headlines  \\\n",
       "31284  Make records on ex-PM Shastri's death public: ...   \n",
       "72424  N Korea sentences S Korean journos to death fo...   \n",
       "33680  Club charged as fans invade pitch to take pics...   \n",
       "56016  Australia wins its 33rd Ashes, has more wins t...   \n",
       "47889           What are the origins of Valentine's Day?   \n",
       "31004  Kin of man killed by rashly-driven mini bus gr...   \n",
       "24377  Body of newborn with paper stuffed in mouth fo...   \n",
       "2557   New Zealand beat Sri Lanka by 35 runs in the s...   \n",
       "92940  Jeweller awarded 2 yrs in jail for hiding Swis...   \n",
       "74284  Gang takes cigarettes worth Ã¢ÂÂ¹4.11 crore a...   \n",
       "\n",
       "                                                    text  \n",
       "31284  The Central Information Commission has directe...  \n",
       "72424  Four South Korean journalists have been senten...  \n",
       "33680  Real Madrid's Champions League semifinal oppon...  \n",
       "56016  Australia won the Ashes for the 33rd time afte...  \n",
       "47889  Valentine's Day is thought to have originated ...  \n",
       "31004  The family of a 73-year-old man who was killed...  \n",
       "24377  The body of a newborn was found with toilet pa...  \n",
       "2557   New Zealand went from 55/5 to 179/7 to registe...  \n",
       "92940  An owner of a jewellery store in Dehradun, Raj...  \n",
       "74284  A gang of robbers stole cigarettes worth Ã¢ÂÂ...  "
      ]
     },
     "execution_count": 3,
     "metadata": {},
     "output_type": "execute_result"
    }
   ],
   "source": [
    "data.sample(10)"
   ]
  },
  {
   "cell_type": "markdown",
   "id": "298df512",
   "metadata": {},
   "source": [
    "이 데이터는 기사의 본문에 해당되는 text와 headlines 두 가지 열로 구성되어져 있습니다.\n",
    "\n",
    "추상적 요약을 하는 경우에는 text를 본문, headlines를 이미 요약된 데이터로 삼아서 모델을 학습할 수 있어요. 추출적 요약을 하는 경우에는 오직 text열만을 사용하세요."
   ]
  },
  {
   "cell_type": "markdown",
   "id": "b50a2968",
   "metadata": {},
   "source": [
    "## Step 2. 데이터 전처리하기 (추상적 요약)\n",
    "실습에서 사용된 전처리를 참고하여 각자 필요하다고 생각하는 전처리를 추가 사용하여 텍스트를 정규화 또는 정제해 보세요. 만약, 불용어 제거를 선택한다면 상대적으로 길이가 짧은 요약 데이터에 대해서도 불용어를 제거하는 것이 좋을지 고민해 보세요."
   ]
  },
  {
   "cell_type": "markdown",
   "id": "26c8cfe9",
   "metadata": {},
   "source": [
    "### 데이터 중복 유무 확인"
   ]
  },
  {
   "cell_type": "code",
   "execution_count": 4,
   "id": "aa279f15",
   "metadata": {},
   "outputs": [
    {
     "name": "stdout",
     "output_type": "stream",
     "text": [
      "headlines 열에서 중복을 배제한 유일한 샘플의 수 : 98280\n",
      "text 열에서 중복을 배제한 유일한 샘플의 수 : 98360\n"
     ]
    }
   ],
   "source": [
    "print('headlines 열에서 중복을 배제한 유일한 샘플의 수 :', data['headlines'].nunique())\n",
    "print('text 열에서 중복을 배제한 유일한 샘플의 수 :', data['text'].nunique())"
   ]
  },
  {
   "cell_type": "code",
   "execution_count": 5,
   "id": "1dc8f115",
   "metadata": {},
   "outputs": [
    {
     "name": "stdout",
     "output_type": "stream",
     "text": [
      "전체 샘플수 : 98280\n"
     ]
    }
   ],
   "source": [
    "# inplace=True 를 설정하면 DataFrame 타입 값을 return 하지 않고 data 내부를 직접적으로 바꿉니다\n",
    "data.drop_duplicates(subset = ['headlines'], inplace=True)\n",
    "print('전체 샘플수 :', (len(data)))"
   ]
  },
  {
   "cell_type": "markdown",
   "id": "d0644297",
   "metadata": {},
   "source": [
    "### Null값이 있는지 확인"
   ]
  },
  {
   "cell_type": "code",
   "execution_count": 6,
   "id": "21dba030",
   "metadata": {},
   "outputs": [
    {
     "name": "stdout",
     "output_type": "stream",
     "text": [
      "headlines    0\n",
      "text         0\n",
      "dtype: int64\n"
     ]
    }
   ],
   "source": [
    "print(data.isnull().sum())"
   ]
  },
  {
   "cell_type": "markdown",
   "id": "cb951b3f",
   "metadata": {},
   "source": [
    "중복 데이터를 제외한 결과<br>\n",
    "headlines는 98280, text는 98360개로 추려짐\n",
    "\n",
    "headlines의 경우 text와는 다르게 짧은 문장으로 요약되어 있어서 동일한 문장이 더 많았을 것으로 판단"
   ]
  },
  {
   "cell_type": "markdown",
   "id": "5f8413cf",
   "metadata": {},
   "source": [
    "### 텍스트 정규화와 불용어 제거"
   ]
  },
  {
   "cell_type": "markdown",
   "id": "ef2feaca",
   "metadata": {},
   "source": [
    "텍스트 정규화를 위한 사전(dictionary) 구성"
   ]
  },
  {
   "cell_type": "code",
   "execution_count": 7,
   "id": "f9499c1f",
   "metadata": {},
   "outputs": [
    {
     "name": "stdout",
     "output_type": "stream",
     "text": [
      "정규화 사전의 수:  120\n"
     ]
    }
   ],
   "source": [
    "contractions = {\"ain't\": \"is not\", \"aren't\": \"are not\",\"can't\": \"cannot\", \"'cause\": \"because\", \"could've\": \"could have\", \"couldn't\": \"could not\",\n",
    "                           \"didn't\": \"did not\",  \"doesn't\": \"does not\", \"don't\": \"do not\", \"hadn't\": \"had not\", \"hasn't\": \"has not\", \"haven't\": \"have not\",\n",
    "                           \"he'd\": \"he would\",\"he'll\": \"he will\", \"he's\": \"he is\", \"how'd\": \"how did\", \"how'd'y\": \"how do you\", \"how'll\": \"how will\", \"how's\": \"how is\",\n",
    "                           \"I'd\": \"I would\", \"I'd've\": \"I would have\", \"I'll\": \"I will\", \"I'll've\": \"I will have\",\"I'm\": \"I am\", \"I've\": \"I have\", \"i'd\": \"i would\",\n",
    "                           \"i'd've\": \"i would have\", \"i'll\": \"i will\",  \"i'll've\": \"i will have\",\"i'm\": \"i am\", \"i've\": \"i have\", \"isn't\": \"is not\", \"it'd\": \"it would\",\n",
    "                           \"it'd've\": \"it would have\", \"it'll\": \"it will\", \"it'll've\": \"it will have\",\"it's\": \"it is\", \"let's\": \"let us\", \"ma'am\": \"madam\",\n",
    "                           \"mayn't\": \"may not\", \"might've\": \"might have\",\"mightn't\": \"might not\",\"mightn't've\": \"might not have\", \"must've\": \"must have\",\n",
    "                           \"mustn't\": \"must not\", \"mustn't've\": \"must not have\", \"needn't\": \"need not\", \"needn't've\": \"need not have\",\"o'clock\": \"of the clock\",\n",
    "                           \"oughtn't\": \"ought not\", \"oughtn't've\": \"ought not have\", \"shan't\": \"shall not\", \"sha'n't\": \"shall not\", \"shan't've\": \"shall not have\",\n",
    "                           \"she'd\": \"she would\", \"she'd've\": \"she would have\", \"she'll\": \"she will\", \"she'll've\": \"she will have\", \"she's\": \"she is\",\n",
    "                           \"should've\": \"should have\", \"shouldn't\": \"should not\", \"shouldn't've\": \"should not have\", \"so've\": \"so have\",\"so's\": \"so as\",\n",
    "                           \"this's\": \"this is\",\"that'd\": \"that would\", \"that'd've\": \"that would have\", \"that's\": \"that is\", \"there'd\": \"there would\",\n",
    "                           \"there'd've\": \"there would have\", \"there's\": \"there is\", \"here's\": \"here is\",\"they'd\": \"they would\", \"they'd've\": \"they would have\",\n",
    "                           \"they'll\": \"they will\", \"they'll've\": \"they will have\", \"they're\": \"they are\", \"they've\": \"they have\", \"to've\": \"to have\",\n",
    "                           \"wasn't\": \"was not\", \"we'd\": \"we would\", \"we'd've\": \"we would have\", \"we'll\": \"we will\", \"we'll've\": \"we will have\", \"we're\": \"we are\",\n",
    "                           \"we've\": \"we have\", \"weren't\": \"were not\", \"what'll\": \"what will\", \"what'll've\": \"what will have\", \"what're\": \"what are\",\n",
    "                           \"what's\": \"what is\", \"what've\": \"what have\", \"when's\": \"when is\", \"when've\": \"when have\", \"where'd\": \"where did\", \"where's\": \"where is\",\n",
    "                           \"where've\": \"where have\", \"who'll\": \"who will\", \"who'll've\": \"who will have\", \"who's\": \"who is\", \"who've\": \"who have\",\n",
    "                           \"why's\": \"why is\", \"why've\": \"why have\", \"will've\": \"will have\", \"won't\": \"will not\", \"won't've\": \"will not have\",\n",
    "                           \"would've\": \"would have\", \"wouldn't\": \"would not\", \"wouldn't've\": \"would not have\", \"y'all\": \"you all\",\n",
    "                           \"y'all'd\": \"you all would\",\"y'all'd've\": \"you all would have\",\"y'all're\": \"you all are\",\"y'all've\": \"you all have\",\n",
    "                           \"you'd\": \"you would\", \"you'd've\": \"you would have\", \"you'll\": \"you will\", \"you'll've\": \"you will have\",\n",
    "                           \"you're\": \"you are\", \"you've\": \"you have\"}\n",
    "\n",
    "print(\"정규화 사전의 수: \", len(contractions))"
   ]
  },
  {
   "cell_type": "markdown",
   "id": "a9dabcbe",
   "metadata": {},
   "source": [
    "불용어 제거\n",
    "- NLTK에서 제공하는 불용어 리스트를 참조하여 불용어를 제거"
   ]
  },
  {
   "cell_type": "code",
   "execution_count": 8,
   "id": "ce47406b",
   "metadata": {},
   "outputs": [
    {
     "name": "stdout",
     "output_type": "stream",
     "text": [
      "불용어 개수 : 179\n",
      "['i', 'me', 'my', 'myself', 'we', 'our', 'ours', 'ourselves', 'you', \"you're\", \"you've\", \"you'll\", \"you'd\", 'your', 'yours', 'yourself', 'yourselves', 'he', 'him', 'his', 'himself', 'she', \"she's\", 'her', 'hers', 'herself', 'it', \"it's\", 'its', 'itself', 'they', 'them', 'their', 'theirs', 'themselves', 'what', 'which', 'who', 'whom', 'this', 'that', \"that'll\", 'these', 'those', 'am', 'is', 'are', 'was', 'were', 'be', 'been', 'being', 'have', 'has', 'had', 'having', 'do', 'does', 'did', 'doing', 'a', 'an', 'the', 'and', 'but', 'if', 'or', 'because', 'as', 'until', 'while', 'of', 'at', 'by', 'for', 'with', 'about', 'against', 'between', 'into', 'through', 'during', 'before', 'after', 'above', 'below', 'to', 'from', 'up', 'down', 'in', 'out', 'on', 'off', 'over', 'under', 'again', 'further', 'then', 'once', 'here', 'there', 'when', 'where', 'why', 'how', 'all', 'any', 'both', 'each', 'few', 'more', 'most', 'other', 'some', 'such', 'no', 'nor', 'not', 'only', 'own', 'same', 'so', 'than', 'too', 'very', 's', 't', 'can', 'will', 'just', 'don', \"don't\", 'should', \"should've\", 'now', 'd', 'll', 'm', 'o', 're', 've', 'y', 'ain', 'aren', \"aren't\", 'couldn', \"couldn't\", 'didn', \"didn't\", 'doesn', \"doesn't\", 'hadn', \"hadn't\", 'hasn', \"hasn't\", 'haven', \"haven't\", 'isn', \"isn't\", 'ma', 'mightn', \"mightn't\", 'mustn', \"mustn't\", 'needn', \"needn't\", 'shan', \"shan't\", 'shouldn', \"shouldn't\", 'wasn', \"wasn't\", 'weren', \"weren't\", 'won', \"won't\", 'wouldn', \"wouldn't\"]\n"
     ]
    },
    {
     "name": "stderr",
     "output_type": "stream",
     "text": [
      "[nltk_data] Downloading package stopwords to /aiffel/nltk_data...\n",
      "[nltk_data]   Package stopwords is already up-to-date!\n"
     ]
    }
   ],
   "source": [
    "import nltk\n",
    "nltk.download('stopwords')\n",
    "from nltk.corpus import stopwords\n",
    "\n",
    "print('불용어 개수 :', len(stopwords.words('english') ))\n",
    "print(stopwords.words('english'))"
   ]
  },
  {
   "cell_type": "code",
   "execution_count": 9,
   "id": "efd464b8",
   "metadata": {},
   "outputs": [],
   "source": [
    "# 데이터 전처리 함수\n",
    "def preprocess_sentence(sentence, remove_stopwords=True):\n",
    "    sentence = sentence.lower() # 텍스트 소문자화\n",
    "    sentence = BeautifulSoup(sentence, \"lxml\").text # <br />, <a href = ...> 등의 html 태그 제거\n",
    "    sentence = re.sub(r'\\([^)]*\\)', '', sentence) # 괄호로 닫힌 문자열 (...) 제거 Ex) my husband (and myself!) for => my husband for\n",
    "    sentence = re.sub('\"','', sentence) # 쌍따옴표 \" 제거\n",
    "    sentence = ' '.join([contractions[t] if t in contractions else t for t in sentence.split(\" \")]) # 약어 정규화\n",
    "    sentence = re.sub(r\"'s\\b\",\"\", sentence) # 소유격 제거. Ex) roland's -> roland\n",
    "    sentence = re.sub(\"[^a-zA-Z]\", \" \", sentence) # 영어 외 문자(숫자, 특수문자 등) 공백으로 변환\n",
    "    sentence = re.sub('[m]{2,}', 'mm', sentence) # m이 3개 이상이면 2개로 변경. Ex) ummmmmmm yeah -> umm yeah\n",
    "    \n",
    "    # 불용어 제거    # 불용어 미제거 \n",
    "    if remove_stopwords:\n",
    "        tokens = ' '.join(word for word in sentence.split() if not word in stopwords.words('english') if len(word) > 1)\n",
    "    else:\n",
    "        tokens = ' '.join(word for word in sentence.split() if len(word) > 1)\n",
    "    return tokens"
   ]
  },
  {
   "cell_type": "markdown",
   "id": "f18eac12",
   "metadata": {},
   "source": [
    "문장 길이가 상대적으로 짧은 headlines은 불용어를 제거하지 않고 text문장만 제거"
   ]
  },
  {
   "cell_type": "code",
   "execution_count": 10,
   "id": "84705c42",
   "metadata": {},
   "outputs": [
    {
     "name": "stdout",
     "output_type": "stream",
     "text": [
      "headlines 전처리 후 결과:  ['upgrad learner switches career ml al salary hike', 'delhi techie wins free food swiggy one year cred', 'new zealand end rohit sharma led india match winning streak', 'aegon life iterm insurance plan helps customers save tax', 'known hirani yrs metoo claims true sonam']\n"
     ]
    }
   ],
   "source": [
    "clean_headlines = []\n",
    "# 전체 Text 데이터에 대한 전처리 : 10분 이상 시간이 걸릴 수 있습니다. \n",
    "for s in data['headlines']:\n",
    "    clean_headlines.append(preprocess_sentence(s))\n",
    "\n",
    "# 전처리 후 출력\n",
    "print(\"headlines 전처리 후 결과: \", clean_headlines[:5])"
   ]
  },
  {
   "cell_type": "code",
   "execution_count": 11,
   "id": "6ac72af9",
   "metadata": {},
   "outputs": [
    {
     "name": "stdout",
     "output_type": "stream",
     "text": [
      "text 전처리 후 결과:  ['saurav kant an alumnus of upgrad and iiit pg program in machine learning and artificial intelligence was sr systems engineer at infosys with almost years of work experience the program and upgrad degree career support helped him transition to data scientist at tech mahindra with salary hike upgrad online power learning has powered lakh careers', 'kunal shah credit card bill payment platform cred gave users chance to win free food from swiggy for one year pranav kaushik delhi techie bagged this reward after spending cred coins users get one cred coin per rupee of bill paid which can be used to avail rewards from brands like ixigo bookmyshow ubereats cult fit and more', 'new zealand defeated india by wickets in the fourth odi at hamilton on thursday to win their first match of the five match odi series india lost an international match under rohit sharma captaincy after consecutive victories dating back to march the match witnessed india getting all out for their seventh lowest total in odi cricket history', 'with aegon life iterm insurance plan customers can enjoy tax benefits on your premiums paid and save up to on taxes the plan provides life cover up to the age of years also customers have options to insure against critical illnesses disability and accidental death benefit rider with life cover up to the age of years', 'speaking about the sexual harassment allegations against rajkumar hirani sonam kapoor said have known hirani for many years what if it is not true the metoo movement will get derailed in the metoo movement always believe woman but in this case we need to reserve our judgment she added hirani has been accused by an assistant who worked in sanju']\n"
     ]
    }
   ],
   "source": [
    "clean_text = []\n",
    "# 전체 Summary 데이터에 대한 전처리 : 5분 이상 시간이 걸릴 수 있습니다. \n",
    "for s in data['text']:\n",
    "    clean_text.append(preprocess_sentence(s, False))\n",
    "\n",
    "print(\"text 전처리 후 결과: \", clean_text[:5])"
   ]
  },
  {
   "cell_type": "markdown",
   "id": "c598211d",
   "metadata": {},
   "source": [
    "정제 과정을 거친 후 다시 한번 빈 샘플이 생긴지 확인"
   ]
  },
  {
   "cell_type": "code",
   "execution_count": 12,
   "id": "f6d68a6e",
   "metadata": {},
   "outputs": [],
   "source": [
    "data['headlines'] = clean_headlines\n",
    "data['text'] = clean_text\n",
    "\n",
    "# 빈 값을 Null 값으로 변환\n",
    "data.replace('', np.nan, inplace=True)"
   ]
  },
  {
   "cell_type": "code",
   "execution_count": 13,
   "id": "475e2313",
   "metadata": {},
   "outputs": [
    {
     "data": {
      "text/plain": [
       "headlines    0\n",
       "text         0\n",
       "dtype: int64"
      ]
     },
     "execution_count": 13,
     "metadata": {},
     "output_type": "execute_result"
    }
   ],
   "source": [
    "data.isnull().sum()"
   ]
  },
  {
   "cell_type": "markdown",
   "id": "bc314276",
   "metadata": {},
   "source": [
    "### 데이터 샘플의 최대 길이 정하기"
   ]
  },
  {
   "cell_type": "code",
   "execution_count": 14,
   "id": "82f26618",
   "metadata": {},
   "outputs": [
    {
     "name": "stdout",
     "output_type": "stream",
     "text": [
      "텍스트의 최소 길이 : 1\n",
      "텍스트의 최대 길이 : 13\n",
      "텍스트의 평균 길이 : 7.1367317867317865\n",
      "요약의 최소 길이 : 1\n",
      "요약의 최대 길이 : 69\n",
      "요약의 평균 길이 : 56.18174603174603\n"
     ]
    },
    {
     "data": {
      "image/png": "[encoded data removed]",
      "text/plain": [
       "<Figure size 432x288 with 2 Axes>"
      ]
     },
     "metadata": {
      "needs_background": "light"
     },
     "output_type": "display_data"
    },
    {
     "data": {
      "image/png": "[encoded data removed]",
      "text/plain": [
       "<Figure size 432x288 with 1 Axes>"
      ]
     },
     "metadata": {
      "needs_background": "light"
     },
     "output_type": "display_data"
    },
    {
     "data": {
      "image/png": "[encoded data removed]",
      "text/plain": [
       "<Figure size 432x288 with 1 Axes>"
      ]
     },
     "metadata": {
      "needs_background": "light"
     },
     "output_type": "display_data"
    }
   ],
   "source": [
    "#Text와 Summary의 최소, 최대, 평균 길이를 구하고 또한 길이 분포를 시각화해서 볼게요.\n",
    "# 길이 분포 출력\n",
    "\n",
    "headlines_len = [len(s.split()) for s in data['headlines']]\n",
    "text_len = [len(s.split()) for s in data['text']]\n",
    "\n",
    "print('텍스트의 최소 길이 : {}'.format(np.min(headlines_len)))\n",
    "print('텍스트의 최대 길이 : {}'.format(np.max(headlines_len)))\n",
    "print('텍스트의 평균 길이 : {}'.format(np.mean(headlines_len)))\n",
    "print('요약의 최소 길이 : {}'.format(np.min(text_len)))\n",
    "print('요약의 최대 길이 : {}'.format(np.max(text_len)))\n",
    "print('요약의 평균 길이 : {}'.format(np.mean(text_len)))\n",
    "\n",
    "plt.subplot(1,2,1)\n",
    "plt.boxplot(headlines_len)\n",
    "plt.title('headlines')\n",
    "plt.subplot(1,2,2)\n",
    "plt.boxplot(text_len)\n",
    "plt.title('text')\n",
    "plt.tight_layout()\n",
    "plt.show()\n",
    "\n",
    "plt.title('headlines')\n",
    "plt.hist(headlines_len, bins = 40) #가로축 구간의 개수\n",
    "plt.xlabel('length of samples')\n",
    "plt.ylabel('number of samples')\n",
    "plt.show()\n",
    "\n",
    "plt.title('text')\n",
    "plt.hist(text_len, bins = 70)\n",
    "plt.xlabel('length of samples')\n",
    "plt.ylabel('number of samples')\n",
    "plt.show()"
   ]
  },
  {
   "cell_type": "markdown",
   "id": "a99db075",
   "metadata": {},
   "source": [
    "대략 headlines은 5-8에 몰려있는게 보이고, text는 50-60에 모여있는게 보인다."
   ]
  },
  {
   "cell_type": "markdown",
   "id": "8267a155",
   "metadata": {},
   "source": [
    "max를 8 과 60으로 했는데 전체 샘플 수가 1이 나왔다.<br>\n",
    "크게 길지 않으니 정제하지 않아도 될듯 하다"
   ]
  },
  {
   "cell_type": "markdown",
   "id": "4f867ff4",
   "metadata": {},
   "source": [
    "### 시작 토큰과 종료토큰 추가하기"
   ]
  },
  {
   "cell_type": "markdown",
   "id": "825b7d5f",
   "metadata": {},
   "source": [
    "seq2seq 훈련을 위해서는 디코더의 입력과 레이블에 시작 토큰과 종료 토큰을 추가할 필요가 있어요. \n",
    "- 시작 토큰은 sostoken\n",
    "- 종료 토큰은 eostoken\n",
    "디코더의 입력에 해당하면서 시작 토큰이 맨 앞에 있는 문장의 이름을 decoder_input, 디코더의 출력 또는 레이블에 해당되면서 종료 토큰이 맨 뒤에 붙는 문장의 이름을 decoder_target이라고 이름을 정했어요. \n",
    "두 개의 문장 모두 text 열로부터 만들 거예요."
   ]
  },
  {
   "cell_type": "code",
   "execution_count": 16,
   "id": "8e9d5e70",
   "metadata": {},
   "outputs": [
    {
     "data": {
      "text/html": [
       "<div>\n",
       "<style scoped>\n",
       "    .dataframe tbody tr th:only-of-type {\n",
       "        vertical-align: middle;\n",
       "    }\n",
       "\n",
       "    .dataframe tbody tr th {\n",
       "        vertical-align: top;\n",
       "    }\n",
       "\n",
       "    .dataframe thead th {\n",
       "        text-align: right;\n",
       "    }\n",
       "</style>\n",
       "<table border=\"1\" class=\"dataframe\">\n",
       "  <thead>\n",
       "    <tr style=\"text-align: right;\">\n",
       "      <th></th>\n",
       "      <th>headlines</th>\n",
       "      <th>text</th>\n",
       "      <th>decoder_input</th>\n",
       "      <th>decoder_target</th>\n",
       "    </tr>\n",
       "  </thead>\n",
       "  <tbody>\n",
       "    <tr>\n",
       "      <th>0</th>\n",
       "      <td>upgrad learner switches career ml al salary hike</td>\n",
       "      <td>saurav kant an alumnus of upgrad and iiit pg p...</td>\n",
       "      <td>sostoken saurav kant an alumnus of upgrad and ...</td>\n",
       "      <td>saurav kant an alumnus of upgrad and iiit pg p...</td>\n",
       "    </tr>\n",
       "    <tr>\n",
       "      <th>1</th>\n",
       "      <td>delhi techie wins free food swiggy one year cred</td>\n",
       "      <td>kunal shah credit card bill payment platform c...</td>\n",
       "      <td>sostoken kunal shah credit card bill payment p...</td>\n",
       "      <td>kunal shah credit card bill payment platform c...</td>\n",
       "    </tr>\n",
       "    <tr>\n",
       "      <th>2</th>\n",
       "      <td>new zealand end rohit sharma led india match w...</td>\n",
       "      <td>new zealand defeated india by wickets in the f...</td>\n",
       "      <td>sostoken new zealand defeated india by wickets...</td>\n",
       "      <td>new zealand defeated india by wickets in the f...</td>\n",
       "    </tr>\n",
       "    <tr>\n",
       "      <th>3</th>\n",
       "      <td>aegon life iterm insurance plan helps customer...</td>\n",
       "      <td>with aegon life iterm insurance plan customers...</td>\n",
       "      <td>sostoken with aegon life iterm insurance plan ...</td>\n",
       "      <td>with aegon life iterm insurance plan customers...</td>\n",
       "    </tr>\n",
       "    <tr>\n",
       "      <th>4</th>\n",
       "      <td>known hirani yrs metoo claims true sonam</td>\n",
       "      <td>speaking about the sexual harassment allegatio...</td>\n",
       "      <td>sostoken speaking about the sexual harassment ...</td>\n",
       "      <td>speaking about the sexual harassment allegatio...</td>\n",
       "    </tr>\n",
       "  </tbody>\n",
       "</table>\n",
       "</div>"
      ],
      "text/plain": [
       "                                           headlines  \\\n",
       "0   upgrad learner switches career ml al salary hike   \n",
       "1   delhi techie wins free food swiggy one year cred   \n",
       "2  new zealand end rohit sharma led india match w...   \n",
       "3  aegon life iterm insurance plan helps customer...   \n",
       "4           known hirani yrs metoo claims true sonam   \n",
       "\n",
       "                                                text  \\\n",
       "0  saurav kant an alumnus of upgrad and iiit pg p...   \n",
       "1  kunal shah credit card bill payment platform c...   \n",
       "2  new zealand defeated india by wickets in the f...   \n",
       "3  with aegon life iterm insurance plan customers...   \n",
       "4  speaking about the sexual harassment allegatio...   \n",
       "\n",
       "                                       decoder_input  \\\n",
       "0  sostoken saurav kant an alumnus of upgrad and ...   \n",
       "1  sostoken kunal shah credit card bill payment p...   \n",
       "2  sostoken new zealand defeated india by wickets...   \n",
       "3  sostoken with aegon life iterm insurance plan ...   \n",
       "4  sostoken speaking about the sexual harassment ...   \n",
       "\n",
       "                                      decoder_target  \n",
       "0  saurav kant an alumnus of upgrad and iiit pg p...  \n",
       "1  kunal shah credit card bill payment platform c...  \n",
       "2  new zealand defeated india by wickets in the f...  \n",
       "3  with aegon life iterm insurance plan customers...  \n",
       "4  speaking about the sexual harassment allegatio...  "
      ]
     },
     "execution_count": 16,
     "metadata": {},
     "output_type": "execute_result"
    }
   ],
   "source": [
    "# 요약 데이터에는 시작 토큰과 종료 토큰을 추가한다.\n",
    "data['decoder_input'] = data['text'].apply(lambda x : 'sostoken '+ x)\n",
    "data['decoder_target'] = data['text'].apply(lambda x : x + ' eostoken')\n",
    "data.head()"
   ]
  },
  {
   "cell_type": "code",
   "execution_count": 17,
   "id": "18ca5c1b",
   "metadata": {},
   "outputs": [],
   "source": [
    "encoder_input = np.array(data['headlines']) # 인코더의 입력\n",
    "decoder_input = np.array(data['decoder_input']) # 디코더의 입력\n",
    "decoder_target = np.array(data['decoder_target']) # 디코더의 레이블"
   ]
  },
  {
   "cell_type": "markdown",
   "id": "b544fde4",
   "metadata": {},
   "source": [
    "### 훈련 데이터와 테스트 데이터 분리"
   ]
  },
  {
   "cell_type": "code",
   "execution_count": 18,
   "id": "0b700237",
   "metadata": {},
   "outputs": [
    {
     "name": "stdout",
     "output_type": "stream",
     "text": [
      "98280\n",
      "[ 8181 95485  6847 ... 27852 41449 19891]\n"
     ]
    }
   ],
   "source": [
    "indices = np.arange(encoder_input.shape[0])\n",
    "np.random.shuffle(indices)\n",
    "print(encoder_input.shape[0])\n",
    "print(indices)"
   ]
  },
  {
   "cell_type": "code",
   "execution_count": 19,
   "id": "aeed52d9",
   "metadata": {},
   "outputs": [],
   "source": [
    "encoder_input = encoder_input[indices]\n",
    "decoder_input = decoder_input[indices]\n",
    "decoder_target = decoder_target[indices]"
   ]
  },
  {
   "cell_type": "code",
   "execution_count": 20,
   "id": "975bc3e4",
   "metadata": {},
   "outputs": [
    {
     "name": "stdout",
     "output_type": "stream",
     "text": [
      "테스트 데이터의 수 : 19656\n"
     ]
    }
   ],
   "source": [
    "n_of_val = int(len(encoder_input)*0.2)\n",
    "print('테스트 데이터의 수 :', n_of_val)"
   ]
  },
  {
   "cell_type": "code",
   "execution_count": 21,
   "id": "7caebc8c",
   "metadata": {},
   "outputs": [
    {
     "name": "stdout",
     "output_type": "stream",
     "text": [
      "훈련 데이터의 개수 : 78624\n",
      "훈련 레이블의 개수 : 78624\n",
      "테스트 데이터의 개수 : 19656\n",
      "테스트 레이블의 개수 : 19656\n"
     ]
    }
   ],
   "source": [
    "encoder_input_train = encoder_input[:-n_of_val]\n",
    "decoder_input_train = decoder_input[:-n_of_val]\n",
    "decoder_target_train = decoder_target[:-n_of_val]\n",
    "\n",
    "encoder_input_test = encoder_input[-n_of_val:]\n",
    "decoder_input_test = decoder_input[-n_of_val:]\n",
    "decoder_target_test = decoder_target[-n_of_val:]\n",
    "\n",
    "print('훈련 데이터의 개수 :', len(encoder_input_train))\n",
    "print('훈련 레이블의 개수 :', len(decoder_input_train))\n",
    "print('테스트 데이터의 개수 :', len(encoder_input_test))\n",
    "print('테스트 레이블의 개수 :', len(decoder_input_test))"
   ]
  },
  {
   "cell_type": "markdown",
   "id": "c395417a",
   "metadata": {},
   "source": [
    "### 정수 인코딩"
   ]
  },
  {
   "cell_type": "markdown",
   "id": "4a7a914c",
   "metadata": {},
   "source": [
    "정수인코딩: 텍스트를 숫자로 처리할 수 있도록 데이터의 단어들을 모두 정수로 바꾸는 작업<br>\n",
    "이를 위해서는 각 단어에 고유한 정수를 맵핑하는 작업이 필요<br>\n",
    "\n",
    "- 훈련 데이터 원문에 해당되는 encoder_input_train에 대해서 단어 집합을 만들것\n",
    "(Keras의 토크나이저를 사용하면, 입력된 훈련 데이터로부터 단어 집합을 만들 수 있음.)"
   ]
  },
  {
   "cell_type": "code",
   "execution_count": 22,
   "id": "ba86ed83",
   "metadata": {},
   "outputs": [],
   "source": [
    "src_tokenizer = Tokenizer() # 토크나이저 정의\n",
    "src_tokenizer.fit_on_texts(encoder_input_train) # 입력된 데이터로부터 단어 집합 생성"
   ]
  },
  {
   "cell_type": "code",
   "execution_count": 23,
   "id": "17d3e88e",
   "metadata": {},
   "outputs": [
    {
     "name": "stdout",
     "output_type": "stream",
     "text": [
      "단어 집합(vocabulary)의 크기 : 29972\n",
      "등장 빈도가 6번 이하인 희귀 단어의 수: 20611\n",
      "단어 집합에서 희귀 단어를 제외시킬 경우의 단어 집합의 크기 9361\n",
      "단어 집합에서 희귀 단어의 비율: 68.76751634859201\n",
      "전체 등장 빈도에서 희귀 단어 등장 빈도 비율: 7.681095894316331\n"
     ]
    }
   ],
   "source": [
    "threshold = 7\n",
    "total_cnt = len(src_tokenizer.word_index) # 단어의 수\n",
    "rare_cnt = 0 # 등장 빈도수가 threshold보다 작은 단어의 개수를 카운트\n",
    "total_freq = 0 # 훈련 데이터의 전체 단어 빈도수 총 합\n",
    "rare_freq = 0 # 등장 빈도수가 threshold보다 작은 단어의 등장 빈도수의 총 합\n",
    "\n",
    "# 단어와 빈도수의 쌍(pair)을 key와 value로 받는다.\n",
    "for key, value in src_tokenizer.word_counts.items():\n",
    "    total_freq = total_freq + value\n",
    "\n",
    "    # 단어의 등장 빈도수가 threshold보다 작으면\n",
    "    if(value < threshold):\n",
    "        rare_cnt = rare_cnt + 1\n",
    "        rare_freq = rare_freq + value\n",
    "\n",
    "print('단어 집합(vocabulary)의 크기 :', total_cnt)\n",
    "print('등장 빈도가 %s번 이하인 희귀 단어의 수: %s'%(threshold - 1, rare_cnt))\n",
    "print('단어 집합에서 희귀 단어를 제외시킬 경우의 단어 집합의 크기 %s'%(total_cnt - rare_cnt))\n",
    "print(\"단어 집합에서 희귀 단어의 비율:\", (rare_cnt / total_cnt)*100)\n",
    "print(\"전체 등장 빈도에서 희귀 단어 등장 빈도 비율:\", (rare_freq / total_freq)*100)"
   ]
  },
  {
   "cell_type": "markdown",
   "id": "0936ce18",
   "metadata": {},
   "source": [
    "등장 빈도가 7회 미만의 단어들은 단어집합에서의 비율이 70% 하지만 등장 빈도의 비중은 7% 밖에 되지 않음<br>\n",
    "    -> 등장 빈도가 6회 이하인 단어들은 정수 인코딩 과정에서 빼고, 훈련 데이터에서 제거"
   ]
  },
  {
   "cell_type": "code",
   "execution_count": 24,
   "id": "6217f047",
   "metadata": {},
   "outputs": [],
   "source": [
    "src_vocab = 9000 \n",
    "src_tokenizer = Tokenizer(num_words=src_vocab) # 단어 집합의 크기를 9,000으로 제한\n",
    "src_tokenizer.fit_on_texts(encoder_input_train) # 단어 집합 재생성"
   ]
  },
  {
   "cell_type": "code",
   "execution_count": 25,
   "id": "bbf7e859",
   "metadata": {},
   "outputs": [
    {
     "name": "stdout",
     "output_type": "stream",
     "text": [
      "[[525, 1856, 3120, 72, 72, 652, 197], [1562, 4722, 23, 6081, 1653, 5085, 411, 1173], [2373, 6738, 1979, 140, 3196, 85, 1822]]\n"
     ]
    }
   ],
   "source": [
    "# 텍스트 시퀀스를 정수 시퀀스로 변환\n",
    "encoder_input_train = src_tokenizer.texts_to_sequences(encoder_input_train) \n",
    "encoder_input_test = src_tokenizer.texts_to_sequences(encoder_input_test)\n",
    "\n",
    "# 잘 진행되었는지 샘플 출력\n",
    "print(encoder_input_train[:3])"
   ]
  },
  {
   "cell_type": "markdown",
   "id": "24f6993f",
   "metadata": {},
   "source": [
    "headline 데이터도 동일한 작업을 수행할게요. \n",
    "\n",
    "Keras의 토크나이저를 사용하여 decoder_input_train을 입력으로 전체 단어 집합과 각 단어에 대한 빈도수를 계산"
   ]
  },
  {
   "cell_type": "code",
   "execution_count": 26,
   "id": "0bb4ba3e",
   "metadata": {},
   "outputs": [],
   "source": [
    "tar_tokenizer = Tokenizer()\n",
    "tar_tokenizer.fit_on_texts(decoder_input_train)"
   ]
  },
  {
   "cell_type": "code",
   "execution_count": 29,
   "id": "d0c6da4d",
   "metadata": {},
   "outputs": [
    {
     "name": "stdout",
     "output_type": "stream",
     "text": [
      "단어 집합(vocabulary)의 크기 : 69706\n",
      "등장 빈도가 5번 이하인 희귀 단어의 수: 45551\n",
      "단어 집합에서 희귀 단어를 제외시킬 경우의 단어 집합의 크기 24155\n",
      "단어 집합에서 희귀 단어의 비율: 65.34731586950909\n",
      "전체 등장 빈도에서 희귀 단어 등장 빈도 비율: 1.8948810100219764\n"
     ]
    }
   ],
   "source": [
    "threshold = 6\n",
    "total_cnt = len(tar_tokenizer.word_index) # 단어의 수\n",
    "rare_cnt = 0 # 등장 빈도수가 threshold보다 작은 단어의 개수를 카운트\n",
    "total_freq = 0 # 훈련 데이터의 전체 단어 빈도수 총 합\n",
    "rare_freq = 0 # 등장 빈도수가 threshold보다 작은 단어의 등장 빈도수의 총 합\n",
    "\n",
    "# 단어와 빈도수의 쌍(pair)을 key와 value로 받는다.\n",
    "for key, value in tar_tokenizer.word_counts.items():\n",
    "    total_freq = total_freq + value\n",
    "\n",
    "    # 단어의 등장 빈도수가 threshold보다 작으면\n",
    "    if(value < threshold):\n",
    "        rare_cnt = rare_cnt + 1\n",
    "        rare_freq = rare_freq + value\n",
    "\n",
    "print('단어 집합(vocabulary)의 크기 :', total_cnt)\n",
    "print('등장 빈도가 %s번 이하인 희귀 단어의 수: %s'%(threshold - 1, rare_cnt))\n",
    "print('단어 집합에서 희귀 단어를 제외시킬 경우의 단어 집합의 크기 %s'%(total_cnt - rare_cnt))\n",
    "print(\"단어 집합에서 희귀 단어의 비율:\", (rare_cnt / total_cnt)*100)\n",
    "print(\"전체 등장 빈도에서 희귀 단어 등장 빈도 비율:\", (rare_freq / total_freq)*100)"
   ]
  },
  {
   "cell_type": "code",
   "execution_count": 30,
   "id": "52d2d9d5",
   "metadata": {},
   "outputs": [
    {
     "name": "stdout",
     "output_type": "stream",
     "text": [
      "input\n",
      "input  [[11, 1, 95, 106, 1097, 334, 6, 136, 9, 10, 1, 95, 49, 23, 1974, 2, 11113, 854, 3247, 21, 1, 98, 61, 16, 61, 67, 70, 4, 1, 730, 92, 49, 1654, 24, 302, 111, 13, 99, 632, 6, 9114, 15, 33, 46, 877, 261, 448, 3, 1728, 1675, 642, 15, 9, 1, 92, 323, 1829, 87, 2875, 1, 98], [11, 8161, 310, 1, 509, 8953, 103, 8161, 14, 210, 2, 197, 39, 6393, 2514, 2, 627, 3, 120, 132, 1151, 6, 157, 698, 7, 9, 1, 8161, 13, 48, 249, 3, 5, 3, 5, 2934, 10628, 8161, 12678, 147, 612, 8, 19, 470, 1, 18516, 5, 556, 9, 698], [11, 1629, 1, 503, 6, 5261, 3, 2091, 3957, 5836, 138, 2849, 11373, 10, 216, 5172, 5, 3405, 30, 367, 219, 1361, 2525, 6, 1, 435, 42, 10862, 4532, 2, 71, 7388, 4, 8685, 2239, 3356, 5, 6247, 18517, 3957, 138, 46, 676, 291, 1936, 229, 471, 201, 15, 29, 1980, 1, 2091, 49, 2, 3518, 1, 503, 6, 1, 57], [11, 3, 2201, 4, 1, 483, 628, 49, 7482, 1523, 1, 13422, 3, 1041, 6606, 152, 1, 2233, 4, 25, 2414, 5262, 2, 519, 2822, 89, 6, 937, 1142, 571, 15, 831, 1064, 170, 1, 3248, 25, 237, 21, 1, 89, 369, 17, 615, 3054, 1408, 1, 5262, 24, 18, 222, 5510, 60, 2, 2667, 18, 1183], [11, 50, 28, 160, 155, 51, 20, 77, 95, 106, 2592, 3190, 100, 10, 18, 450, 77, 1156, 29, 34, 1076, 16, 51, 6, 159, 673, 1, 158, 171, 13, 27, 1273, 24, 18, 223, 69, 1, 305, 144, 327, 38, 13, 221, 2284, 305, 54, 4, 119, 285, 28, 34, 405, 2592, 3190, 13, 3630, 22, 230]]\n",
      "target\n",
      "decoder  [[1, 95, 106, 1097, 334, 6, 136, 9, 10, 1, 95, 49, 23, 1974, 2, 11113, 854, 3247, 21, 1, 98, 61, 16, 61, 67, 70, 4, 1, 730, 92, 49, 1654, 24, 302, 111, 13, 99, 632, 6, 9114, 15, 33, 46, 877, 261, 448, 3, 1728, 1675, 642, 15, 9, 1, 92, 323, 1829, 87, 2875, 1, 98, 12], [8161, 310, 1, 509, 8953, 103, 8161, 14, 210, 2, 197, 39, 6393, 2514, 2, 627, 3, 120, 132, 1151, 6, 157, 698, 7, 9, 1, 8161, 13, 48, 249, 3, 5, 3, 5, 2934, 10628, 8161, 12678, 147, 612, 8, 19, 470, 1, 18516, 5, 556, 9, 698, 12], [1629, 1, 503, 6, 5261, 3, 2091, 3957, 5836, 138, 2849, 11373, 10, 216, 5172, 5, 3405, 30, 367, 219, 1361, 2525, 6, 1, 435, 42, 10862, 4532, 2, 71, 7388, 4, 8685, 2239, 3356, 5, 6247, 18517, 3957, 138, 46, 676, 291, 1936, 229, 471, 201, 15, 29, 1980, 1, 2091, 49, 2, 3518, 1, 503, 6, 1, 57, 12], [3, 2201, 4, 1, 483, 628, 49, 7482, 1523, 1, 13422, 3, 1041, 6606, 152, 1, 2233, 4, 25, 2414, 5262, 2, 519, 2822, 89, 6, 937, 1142, 571, 15, 831, 1064, 170, 1, 3248, 25, 237, 21, 1, 89, 369, 17, 615, 3054, 1408, 1, 5262, 24, 18, 222, 5510, 60, 2, 2667, 18, 1183, 12], [50, 28, 160, 155, 51, 20, 77, 95, 106, 2592, 3190, 100, 10, 18, 450, 77, 1156, 29, 34, 1076, 16, 51, 6, 159, 673, 1, 158, 171, 13, 27, 1273, 24, 18, 223, 69, 1, 305, 144, 327, 38, 13, 221, 2284, 305, 54, 4, 119, 285, 28, 34, 405, 2592, 3190, 13, 3630, 22, 230, 12]]\n"
     ]
    }
   ],
   "source": [
    "tar_vocab = 20000\n",
    "tar_tokenizer = Tokenizer(num_words=tar_vocab) \n",
    "tar_tokenizer.fit_on_texts(decoder_input_train)\n",
    "tar_tokenizer.fit_on_texts(decoder_target_train)\n",
    "\n",
    "# 텍스트 시퀀스를 정수 시퀀스로 변환\n",
    "decoder_input_train = tar_tokenizer.texts_to_sequences(decoder_input_train) \n",
    "decoder_target_train = tar_tokenizer.texts_to_sequences(decoder_target_train)\n",
    "decoder_input_test = tar_tokenizer.texts_to_sequences(decoder_input_test)\n",
    "decoder_target_test = tar_tokenizer.texts_to_sequences(decoder_target_test)\n",
    "\n",
    "# 잘 변환되었는지 확인\n",
    "print('input')\n",
    "print('input ',decoder_input_train[:5])\n",
    "print('target')\n",
    "print('decoder ',decoder_target_train[:5])"
   ]
  },
  {
   "cell_type": "markdown",
   "id": "084f31bc",
   "metadata": {},
   "source": [
    "마지막으로 빈 샘플 확인"
   ]
  },
  {
   "cell_type": "code",
   "execution_count": 31,
   "id": "d431a595",
   "metadata": {},
   "outputs": [
    {
     "name": "stdout",
     "output_type": "stream",
     "text": [
      "삭제할 훈련 데이터의 개수 : 0\n",
      "삭제할 테스트 데이터의 개수 : 0\n",
      "훈련 데이터의 개수 : 78624\n",
      "훈련 레이블의 개수 : 78624\n",
      "테스트 데이터의 개수 : 19656\n",
      "테스트 레이블의 개수 : 19656\n"
     ]
    }
   ],
   "source": [
    "drop_train = [index for index, sentence in enumerate(decoder_input_train) if len(sentence) == 1]\n",
    "drop_test = [index for index, sentence in enumerate(decoder_input_test) if len(sentence) == 1]\n",
    "\n",
    "print('삭제할 훈련 데이터의 개수 :', len(drop_train))\n",
    "print('삭제할 테스트 데이터의 개수 :', len(drop_test))\n",
    "\n",
    "encoder_input_train = [sentence for index, sentence in enumerate(encoder_input_train) if index not in drop_train]\n",
    "decoder_input_train = [sentence for index, sentence in enumerate(decoder_input_train) if index not in drop_train]\n",
    "decoder_target_train = [sentence for index, sentence in enumerate(decoder_target_train) if index not in drop_train]\n",
    "\n",
    "encoder_input_test = [sentence for index, sentence in enumerate(encoder_input_test) if index not in drop_test]\n",
    "decoder_input_test = [sentence for index, sentence in enumerate(decoder_input_test) if index not in drop_test]\n",
    "decoder_target_test = [sentence for index, sentence in enumerate(decoder_target_test) if index not in drop_test]\n",
    "\n",
    "print('훈련 데이터의 개수 :', len(encoder_input_train))\n",
    "print('훈련 레이블의 개수 :', len(decoder_input_train))\n",
    "print('테스트 데이터의 개수 :', len(encoder_input_test))\n",
    "print('테스트 레이블의 개수 :', len(decoder_input_test))"
   ]
  },
  {
   "cell_type": "markdown",
   "id": "a98efc7b",
   "metadata": {},
   "source": [
    "### 패딩"
   ]
  },
  {
   "cell_type": "code",
   "execution_count": 34,
   "id": "6f15baed",
   "metadata": {},
   "outputs": [],
   "source": [
    "encoder_input_train = pad_sequences(encoder_input_train, maxlen=13, padding='post')\n",
    "encoder_input_test = pad_sequences(encoder_input_test, maxlen=13, padding='post')\n",
    "decoder_input_train = pad_sequences(decoder_input_train, maxlen=69, padding='post')\n",
    "decoder_target_train = pad_sequences(decoder_target_train, maxlen=69, padding='post')\n",
    "decoder_input_test = pad_sequences(decoder_input_test, maxlen=69, padding='post')\n",
    "decoder_target_test = pad_sequences(decoder_target_test, maxlen=69, padding='post')"
   ]
  },
  {
   "cell_type": "markdown",
   "id": "5fd44f48",
   "metadata": {},
   "source": [
    "## Step 3. 어텐션 메커니즘 사용하기 (추상적 요약)\n",
    "일반적인 seq2seq보다는 어텐션 메커니즘을 사용한 seq2seq를 사용하는 것이 더 나은 성능을 얻을 수 있어요. 실습 내용을 참고하여 어텐션 메커니즘을 사용한 seq2seq를 설계해 보세요."
   ]
  },
  {
   "cell_type": "markdown",
   "id": "8c9397fd",
   "metadata": {},
   "source": [
    "### 모델설계"
   ]
  },
  {
   "cell_type": "code",
   "execution_count": 36,
   "id": "34148035",
   "metadata": {},
   "outputs": [
    {
     "name": "stdout",
     "output_type": "stream",
     "text": [
      "WARNING:tensorflow:Layer lstm will not use cuDNN kernels since it doesn't meet the criteria. It will use a generic GPU kernel as fallback when running on GPU.\n",
      "WARNING:tensorflow:Layer lstm_1 will not use cuDNN kernels since it doesn't meet the criteria. It will use a generic GPU kernel as fallback when running on GPU.\n",
      "WARNING:tensorflow:Layer lstm_2 will not use cuDNN kernels since it doesn't meet the criteria. It will use a generic GPU kernel as fallback when running on GPU.\n"
     ]
    }
   ],
   "source": [
    "from tensorflow.keras.layers import Input, LSTM, Embedding, Dense, Concatenate, TimeDistributed\n",
    "from tensorflow.keras.models import Model\n",
    "from tensorflow.keras.callbacks import EarlyStopping, ModelCheckpoint\n",
    "\n",
    "\n",
    "# 인코더 설계 시작\n",
    "embedding_dim = 128\n",
    "hidden_size = 256\n",
    "\n",
    "# 인코더\n",
    "encoder_inputs = Input(shape=(13,))#headlines_max len \n",
    "\n",
    "# 인코더의 임베딩 층\n",
    "enc_emb = Embedding(src_vocab, embedding_dim)(encoder_inputs)\n",
    "\n",
    "# 인코더의 LSTM 1\n",
    "encoder_lstm1 = LSTM(hidden_size, return_sequences=True, return_state=True ,dropout = 0.4, recurrent_dropout = 0.4)\n",
    "encoder_output1, state_h1, state_c1 = encoder_lstm1(enc_emb)\n",
    "\n",
    "# 인코더의 LSTM 2\n",
    "encoder_lstm2 = LSTM(hidden_size, return_sequences=True, return_state=True, dropout=0.4, recurrent_dropout=0.4)\n",
    "encoder_output2, state_h2, state_c2 = encoder_lstm2(encoder_output1)\n",
    "\n",
    "# 인코더의 LSTM 3\n",
    "encoder_lstm3 = LSTM(hidden_size, return_state=True, return_sequences=True, dropout=0.4, recurrent_dropout=0.4)\n",
    "encoder_outputs, state_h, state_c= encoder_lstm3(encoder_output2)"
   ]
  },
  {
   "cell_type": "markdown",
   "id": "ef5ebd99",
   "metadata": {},
   "source": [
    "(경고문)\n",
    "\n",
    "recurrent dropout을 사용할 시 cuDNN을 사용할 수 없어서 recurrent dropout을 사용하지 않을 때보다 학습 시간이 오래 걸림"
   ]
  },
  {
   "cell_type": "code",
   "execution_count": 37,
   "id": "6af68d9b",
   "metadata": {},
   "outputs": [
    {
     "name": "stdout",
     "output_type": "stream",
     "text": [
      "WARNING:tensorflow:Layer lstm_3 will not use cuDNN kernels since it doesn't meet the criteria. It will use a generic GPU kernel as fallback when running on GPU.\n"
     ]
    }
   ],
   "source": [
    "# 디코더 설계\n",
    "decoder_inputs = Input(shape=(None,))\n",
    "\n",
    "# 디코더의 임베딩 층\n",
    "dec_emb_layer = Embedding(tar_vocab, embedding_dim)\n",
    "dec_emb = dec_emb_layer(decoder_inputs)\n",
    "\n",
    "# 디코더의 LSTM\n",
    "decoder_lstm = LSTM(hidden_size, return_sequences=True, return_state=True, dropout=0.4, recurrent_dropout=0.2)\n",
    "decoder_outputs, _, _ = decoder_lstm(dec_emb, initial_state=[state_h, state_c])"
   ]
  },
  {
   "cell_type": "code",
   "execution_count": 38,
   "id": "6d802888",
   "metadata": {},
   "outputs": [
    {
     "name": "stdout",
     "output_type": "stream",
     "text": [
      "Model: \"model\"\n",
      "__________________________________________________________________________________________________\n",
      "Layer (type)                    Output Shape         Param #     Connected to                     \n",
      "==================================================================================================\n",
      "input_1 (InputLayer)            [(None, 13)]         0                                            \n",
      "__________________________________________________________________________________________________\n",
      "embedding (Embedding)           (None, 13, 128)      1152000     input_1[0][0]                    \n",
      "__________________________________________________________________________________________________\n",
      "lstm (LSTM)                     [(None, 13, 256), (N 394240      embedding[0][0]                  \n",
      "__________________________________________________________________________________________________\n",
      "input_2 (InputLayer)            [(None, None)]       0                                            \n",
      "__________________________________________________________________________________________________\n",
      "lstm_1 (LSTM)                   [(None, 13, 256), (N 525312      lstm[0][0]                       \n",
      "__________________________________________________________________________________________________\n",
      "embedding_1 (Embedding)         (None, None, 128)    2560000     input_2[0][0]                    \n",
      "__________________________________________________________________________________________________\n",
      "lstm_2 (LSTM)                   [(None, 13, 256), (N 525312      lstm_1[0][0]                     \n",
      "__________________________________________________________________________________________________\n",
      "lstm_3 (LSTM)                   [(None, None, 256),  394240      embedding_1[0][0]                \n",
      "                                                                 lstm_2[0][1]                     \n",
      "                                                                 lstm_2[0][2]                     \n",
      "__________________________________________________________________________________________________\n",
      "dense (Dense)                   (None, None, 20000)  5140000     lstm_3[0][0]                     \n",
      "==================================================================================================\n",
      "Total params: 10,691,104\n",
      "Trainable params: 10,691,104\n",
      "Non-trainable params: 0\n",
      "__________________________________________________________________________________________________\n"
     ]
    }
   ],
   "source": [
    "# 디코더의 출력층\n",
    "decoder_softmax_layer = Dense(tar_vocab, activation='softmax')\n",
    "decoder_softmax_outputs = decoder_softmax_layer(decoder_outputs) \n",
    "\n",
    "# 모델 정의\n",
    "model = Model([encoder_inputs, decoder_inputs], decoder_softmax_outputs)\n",
    "model.summary()"
   ]
  },
  {
   "cell_type": "markdown",
   "id": "9ed15ceb",
   "metadata": {},
   "source": [
    "### 어텐션 메커니즘\n",
    "\n",
    "\n",
    "어텐션 함수 설계- TensorFlow에 이미 구현된 어텐션 함수 사용\n",
    "\n",
    "와서 디코더의 출력층에 어떤 방식으로 결합하는지 보자\n",
    "\n",
    "아래와 같이 어텐션 층을 만들고, 위에서 설계한 디코더의 출력층을 수정해 봅시다."
   ]
  },
  {
   "cell_type": "code",
   "execution_count": 39,
   "id": "6ebeff26",
   "metadata": {},
   "outputs": [
    {
     "name": "stdout",
     "output_type": "stream",
     "text": [
      "Model: \"model_1\"\n",
      "__________________________________________________________________________________________________\n",
      "Layer (type)                    Output Shape         Param #     Connected to                     \n",
      "==================================================================================================\n",
      "input_1 (InputLayer)            [(None, 13)]         0                                            \n",
      "__________________________________________________________________________________________________\n",
      "embedding (Embedding)           (None, 13, 128)      1152000     input_1[0][0]                    \n",
      "__________________________________________________________________________________________________\n",
      "lstm (LSTM)                     [(None, 13, 256), (N 394240      embedding[0][0]                  \n",
      "__________________________________________________________________________________________________\n",
      "input_2 (InputLayer)            [(None, None)]       0                                            \n",
      "__________________________________________________________________________________________________\n",
      "lstm_1 (LSTM)                   [(None, 13, 256), (N 525312      lstm[0][0]                       \n",
      "__________________________________________________________________________________________________\n",
      "embedding_1 (Embedding)         (None, None, 128)    2560000     input_2[0][0]                    \n",
      "__________________________________________________________________________________________________\n",
      "lstm_2 (LSTM)                   [(None, 13, 256), (N 525312      lstm_1[0][0]                     \n",
      "__________________________________________________________________________________________________\n",
      "lstm_3 (LSTM)                   [(None, None, 256),  394240      embedding_1[0][0]                \n",
      "                                                                 lstm_2[0][1]                     \n",
      "                                                                 lstm_2[0][2]                     \n",
      "__________________________________________________________________________________________________\n",
      "attention_layer (AdditiveAttent (None, None, 256)    256         lstm_3[0][0]                     \n",
      "                                                                 lstm_2[0][0]                     \n",
      "__________________________________________________________________________________________________\n",
      "concat_layer (Concatenate)      (None, None, 512)    0           lstm_3[0][0]                     \n",
      "                                                                 attention_layer[0][0]            \n",
      "__________________________________________________________________________________________________\n",
      "dense_1 (Dense)                 (None, None, 20000)  10260000    concat_layer[0][0]               \n",
      "==================================================================================================\n",
      "Total params: 15,811,360\n",
      "Trainable params: 15,811,360\n",
      "Non-trainable params: 0\n",
      "__________________________________________________________________________________________________\n"
     ]
    }
   ],
   "source": [
    "from tensorflow.keras.layers import AdditiveAttention\n",
    "\n",
    "# 어텐션 층(어텐션 함수)\n",
    "attn_layer = AdditiveAttention(name='attention_layer')\n",
    "\n",
    "# 인코더와 디코더의 모든 time step의 hidden state를 어텐션 층에 전달하고 결과를 리턴\n",
    "attn_out = attn_layer([decoder_outputs, encoder_outputs])\n",
    "\n",
    "\n",
    "# 어텐션의 결과와 디코더의 hidden state들을 연결\n",
    "decoder_concat_input = Concatenate(axis=-1, name='concat_layer')([decoder_outputs, attn_out])\n",
    "\n",
    "# 디코더의 출력층\n",
    "decoder_softmax_layer = Dense(tar_vocab, activation='softmax')\n",
    "decoder_softmax_outputs = decoder_softmax_layer(decoder_concat_input)\n",
    "\n",
    "# 모델 정의\n",
    "model = Model([encoder_inputs, decoder_inputs], decoder_softmax_outputs)\n",
    "model.summary()"
   ]
  },
  {
   "cell_type": "markdown",
   "id": "636c67d3",
   "metadata": {},
   "source": [
    "### 모델 훈련"
   ]
  },
  {
   "cell_type": "code",
   "execution_count": 40,
   "id": "479954f2",
   "metadata": {},
   "outputs": [
    {
     "name": "stdout",
     "output_type": "stream",
     "text": [
      "Epoch 1/50\n",
      "308/308 [==============================] - 256s 781ms/step - loss: 5.6908 - val_loss: 5.1751\n",
      "Epoch 2/50\n",
      "308/308 [==============================] - 240s 780ms/step - loss: 4.9040 - val_loss: 4.6354\n",
      "Epoch 3/50\n",
      "308/308 [==============================] - 240s 778ms/step - loss: 4.5236 - val_loss: 4.3717\n",
      "Epoch 4/50\n",
      "308/308 [==============================] - 241s 781ms/step - loss: 4.2983 - val_loss: 4.2032\n",
      "Epoch 5/50\n",
      "308/308 [==============================] - 241s 782ms/step - loss: 4.1355 - val_loss: 4.0773\n",
      "Epoch 6/50\n",
      "308/308 [==============================] - 241s 784ms/step - loss: 4.0116 - val_loss: 3.9827\n",
      "Epoch 7/50\n",
      "308/308 [==============================] - 242s 785ms/step - loss: 3.9122 - val_loss: 3.9084\n",
      "Epoch 8/50\n",
      "308/308 [==============================] - 241s 783ms/step - loss: 3.8311 - val_loss: 3.8485\n",
      "Epoch 9/50\n",
      "308/308 [==============================] - 242s 785ms/step - loss: 3.7629 - val_loss: 3.8064\n",
      "Epoch 10/50\n",
      "308/308 [==============================] - 241s 784ms/step - loss: 3.7052 - val_loss: 3.7655\n",
      "Epoch 11/50\n",
      "308/308 [==============================] - 242s 784ms/step - loss: 3.6541 - val_loss: 3.7361\n",
      "Epoch 12/50\n",
      "308/308 [==============================] - 241s 784ms/step - loss: 3.6082 - val_loss: 3.7086\n",
      "Epoch 13/50\n",
      "308/308 [==============================] - 241s 784ms/step - loss: 3.5682 - val_loss: 3.6798\n",
      "Epoch 14/50\n",
      "308/308 [==============================] - 241s 784ms/step - loss: 3.5328 - val_loss: 3.6579\n",
      "Epoch 15/50\n",
      "308/308 [==============================] - 241s 783ms/step - loss: 3.5004 - val_loss: 3.6484\n",
      "Epoch 16/50\n",
      "308/308 [==============================] - 241s 784ms/step - loss: 3.4706 - val_loss: 3.6378\n",
      "Epoch 17/50\n",
      "308/308 [==============================] - 241s 784ms/step - loss: 3.4441 - val_loss: 3.6140\n",
      "Epoch 18/50\n",
      "308/308 [==============================] - 241s 784ms/step - loss: 3.4199 - val_loss: 3.6049\n",
      "Epoch 19/50\n",
      "308/308 [==============================] - 242s 785ms/step - loss: 3.3977 - val_loss: 3.5916\n",
      "Epoch 20/50\n",
      "308/308 [==============================] - 241s 784ms/step - loss: 3.3759 - val_loss: 3.5814\n",
      "Epoch 21/50\n",
      "308/308 [==============================] - 242s 786ms/step - loss: 3.3574 - val_loss: 3.5726\n",
      "Epoch 22/50\n",
      "308/308 [==============================] - 242s 787ms/step - loss: 3.3400 - val_loss: 3.5657\n",
      "Epoch 23/50\n",
      "308/308 [==============================] - 242s 785ms/step - loss: 3.3235 - val_loss: 3.5668\n",
      "Epoch 24/50\n",
      "308/308 [==============================] - 242s 784ms/step - loss: 3.3076 - val_loss: 3.5564\n",
      "Epoch 25/50\n",
      "308/308 [==============================] - 242s 786ms/step - loss: 3.2934 - val_loss: 3.5489\n",
      "Epoch 26/50\n",
      "308/308 [==============================] - 242s 786ms/step - loss: 3.2781 - val_loss: 3.5459\n",
      "Epoch 27/50\n",
      "308/308 [==============================] - 242s 786ms/step - loss: 3.2658 - val_loss: 3.5396\n",
      "Epoch 28/50\n",
      "308/308 [==============================] - 242s 784ms/step - loss: 3.2534 - val_loss: 3.5380\n",
      "Epoch 29/50\n",
      "308/308 [==============================] - 241s 784ms/step - loss: 3.2411 - val_loss: 3.5323\n",
      "Epoch 30/50\n",
      "308/308 [==============================] - 242s 786ms/step - loss: 3.2297 - val_loss: 3.5413\n",
      "Epoch 31/50\n",
      "308/308 [==============================] - 243s 788ms/step - loss: 3.2191 - val_loss: 3.5333\n",
      "Epoch 00031: early stopping\n"
     ]
    }
   ],
   "source": [
    "model.compile(optimizer='rmsprop', loss='sparse_categorical_crossentropy')\n",
    "es = EarlyStopping(monitor='val_loss', patience=2, verbose=1)\n",
    "history = model.fit(x=[encoder_input_train, decoder_input_train], y=decoder_target_train, \\\n",
    "          validation_data=([encoder_input_test, decoder_input_test], decoder_target_test), \\\n",
    "          batch_size=256, callbacks=[es], epochs=50)"
   ]
  },
  {
   "cell_type": "markdown",
   "id": "108c7cf4",
   "metadata": {},
   "source": [
    "'조기 종료'를 뜻하는 EarlyStopping은 특정 조건이 충족되면 훈련을 멈추는 역할\n",
    "\n",
    "위 코드에서는 val_loss(검증 데이터의 손실)을 관찰하다가, 검증 데이터의 손실이 줄어들지 않고 증가하는 현상이 2회(patience=2) 관측되면 학습을 멈추도록 설정돼 있어요."
   ]
  },
  {
   "cell_type": "code",
   "execution_count": 41,
   "id": "600071e9",
   "metadata": {},
   "outputs": [
    {
     "data": {
      "image/png": "[encoded data removed]",
      "text/plain": [
       "<Figure size 432x288 with 1 Axes>"
      ]
     },
     "metadata": {
      "needs_background": "light"
     },
     "output_type": "display_data"
    }
   ],
   "source": [
    "plt.plot(history.history['loss'], label='train')\n",
    "plt.plot(history.history['val_loss'], label='test')\n",
    "plt.legend()\n",
    "plt.show()"
   ]
  },
  {
   "cell_type": "markdown",
   "id": "cac082a0",
   "metadata": {},
   "source": [
    "## Step 4. 실제 결과와 요약문 비교하기 (추상적 요약)\n",
    "원래의 요약문(headlines 열)과 학습을 통해 얻은 추상적 요약의 결과를 비교해 보세요."
   ]
  },
  {
   "cell_type": "markdown",
   "id": "85a7e3fd",
   "metadata": {},
   "source": [
    "### 인퍼런스 모델 구현"
   ]
  },
  {
   "cell_type": "code",
   "execution_count": 42,
   "id": "ae0fea63",
   "metadata": {},
   "outputs": [],
   "source": [
    "src_index_to_word = src_tokenizer.index_word # 원문 단어 집합에서 정수 -> 단어를 얻음\n",
    "tar_word_to_index = tar_tokenizer.word_index # 요약 단어 집합에서 단어 -> 정수를 얻음\n",
    "tar_index_to_word = tar_tokenizer.index_word # 요약 단어 집합에서 정수 -> 단어를 얻음"
   ]
  },
  {
   "cell_type": "markdown",
   "id": "5714b453",
   "metadata": {},
   "source": [
    "seq2seq는 훈련할 때와 실제 동작할 때(인퍼런스 단계)의 방식이 다르므로 그에 맞게 모델 설계를 별개로 진행해야 한다.\n",
    "정답 문장이 없는 인퍼런스 단계에서는 만들어야 할 문장의 길이만큼 디코더가 반복 구조로 동작해야 하기 때문에 부득이하게 인퍼런스를 위한 모델 설계를 별도로 해주어야 합니다. 이때는 인코더 모델과 디코더 모델을 분리해서 설계합니다."
   ]
  },
  {
   "cell_type": "code",
   "execution_count": 43,
   "id": "fb3e13b5",
   "metadata": {},
   "outputs": [],
   "source": [
    "# 인코더 설계\n",
    "encoder_model = Model(inputs=encoder_inputs, outputs=[encoder_outputs, state_h, state_c])\n",
    "\n",
    "# 이전 시점의 상태들을 저장하는 텐서\n",
    "decoder_state_input_h = Input(shape=(hidden_size,))\n",
    "decoder_state_input_c = Input(shape=(hidden_size,))\n",
    "\n",
    "dec_emb2 = dec_emb_layer(decoder_inputs)\n",
    "\n",
    "# 문장의 다음 단어를 예측하기 위해서 초기 상태(initial_state)를 이전 시점의 상태로 사용. 이는 뒤의 함수 decode_sequence()에 구현\n",
    "# 훈련 과정에서와 달리 LSTM의 리턴하는 은닉 상태와 셀 상태인 state_h와 state_c를 버리지 않음.\n",
    "decoder_outputs2, state_h2, state_c2 = decoder_lstm(dec_emb2, initial_state=[decoder_state_input_h, decoder_state_input_c])"
   ]
  },
  {
   "cell_type": "code",
   "execution_count": 44,
   "id": "23120887",
   "metadata": {},
   "outputs": [],
   "source": [
    "# 어텐션 함수\n",
    "decoder_hidden_state_input = Input(shape=(13, hidden_size)) # h_max_len\n",
    "attn_out_inf = attn_layer([decoder_outputs2, decoder_hidden_state_input])\n",
    "decoder_inf_concat = Concatenate(axis=-1, name='concat')([decoder_outputs2, attn_out_inf])\n",
    "\n",
    "# 디코더의 출력층\n",
    "decoder_outputs2 = decoder_softmax_layer(decoder_inf_concat) \n",
    "\n",
    "# 최종 디코더 모델\n",
    "decoder_model = Model(\n",
    "    [decoder_inputs] + [decoder_hidden_state_input,decoder_state_input_h, decoder_state_input_c],\n",
    "    [decoder_outputs2] + [state_h2, state_c2])"
   ]
  },
  {
   "cell_type": "code",
   "execution_count": 45,
   "id": "b681a4b5",
   "metadata": {},
   "outputs": [],
   "source": [
    "def decode_sequence(input_seq):\n",
    "    # 입력으로부터 인코더의 상태를 얻음\n",
    "    e_out, e_h, e_c = encoder_model.predict(input_seq)\n",
    "\n",
    "     # <SOS>에 해당하는 토큰 생성\n",
    "    target_seq = np.zeros((1,1))\n",
    "    target_seq[0, 0] = tar_word_to_index['sostoken']\n",
    "\n",
    "    stop_condition = False\n",
    "    decoded_sentence = ''\n",
    "    while not stop_condition: # stop_condition이 True가 될 때까지 루프 반복\n",
    "\n",
    "        output_tokens, h, c = decoder_model.predict([target_seq] + [e_out, e_h, e_c])\n",
    "        sampled_token_index = np.argmax(output_tokens[0, -1, :])\n",
    "        sampled_token = tar_index_to_word[sampled_token_index]\n",
    "\n",
    "        if (sampled_token!='eostoken'):\n",
    "            decoded_sentence += ' '+sampled_token\n",
    "\n",
    "        #  <eos>에 도달하거나 최대 길이를 넘으면 중단.\n",
    "        if (sampled_token == 'eostoken'  or len(decoded_sentence.split()) >= (68)):#text_max_len-1\n",
    "            stop_condition = True\n",
    "\n",
    "        # 길이가 1인 타겟 시퀀스를 업데이트\n",
    "        target_seq = np.zeros((1,1))\n",
    "        target_seq[0, 0] = sampled_token_index\n",
    "\n",
    "        # 상태를 업데이트 합니다.\n",
    "        e_h, e_c = h, c\n",
    "\n",
    "    return decoded_sentence"
   ]
  },
  {
   "cell_type": "markdown",
   "id": "820dc093",
   "metadata": {},
   "source": [
    "### 모델 테스트하기"
   ]
  },
  {
   "cell_type": "code",
   "execution_count": 46,
   "id": "ceac01a8",
   "metadata": {},
   "outputs": [],
   "source": [
    "# 원문의 정수 시퀀스를 텍스트 시퀀스로 변환\n",
    "def seq2text(input_seq):\n",
    "    temp=''\n",
    "    for i in input_seq:\n",
    "        if (i!=0):\n",
    "            temp = temp + src_index_to_word[i]+' '\n",
    "    return temp\n",
    "\n",
    "# 요약문의 정수 시퀀스를 텍스트 시퀀스로 변환\n",
    "def seq2summary(input_seq):\n",
    "    temp=''\n",
    "    for i in input_seq:\n",
    "        if ((i!=0 and i!=tar_word_to_index['sostoken']) and i!=tar_word_to_index['eostoken']):\n",
    "            temp = temp + tar_index_to_word[i] + ' '\n",
    "    return temp"
   ]
  },
  {
   "cell_type": "code",
   "execution_count": 47,
   "id": "5e1c662d",
   "metadata": {},
   "outputs": [
    {
     "name": "stdout",
     "output_type": "stream",
     "text": [
      "원문 : bhojpuri director kumar commits suicide mumbai home \n",
      "실제 요약 : bhojpuri film director kumar allegedly committed suicide by hanging himself at his residence in mumbai as per the local police body was found hanging from the ceiling by his wife bano ahmed shaikh when she came home he was known for directing bhojpuri films like ek laila teen and se pyar \n",
      "예측 요약 :  the mumbai police on monday arrested year old woman for allegedly killing her year old son in mumbai bandra bandra bandra sea the police said the accused had committed suicide after suicide note was found hanging from ceiling fan and her family members were reportedly depressed after the incident occurred in mumbai on saturday night after suicide note\n",
      "\n",
      "\n",
      "원문 : universe actually exist scientists claim \n",
      "실제 요약 : geneva based cern physicists looking for fundamental differences between matter and have found complete between proton and anti proton based on which the lead physicist claimed the universe should not actually exist it is believed matter and were created in equal quantities after the big bang however the cause for matter is yet unknown \n",
      "예측 요약 :  university of researchers have developed an optical clock that can detect the universe and accuracy the team uses the universe to create the universe to create the universe and the universe is the first time in the universe the universe is the first time in the universe history of the universe and the universe is the first time in the universe\n",
      "\n",
      "\n",
      "원문 : pak singer ali perform varanasi temple \n",
      "실제 요약 : pakistani maestro ghulam ali is scheduled to perform at the temple in varanasi next month for the third year in row ali had performed at the temple in despite protests by the shiv sena the performance is likely to be part of the opening ceremony of the sangeet scheduled between april and \n",
      "예측 요약 :  actor salman khan has said that he will not be able to make biopic on the ongoing biopic on the ongoing pakistan super league which will be held in india for the first time in the upcoming biopic on the cauvery management board he added that the singer will be seen playing the role of the indian army in the upcoming biopic on the film\n",
      "\n",
      "\n",
      "원문 : mary kom becomes st indian woman win boxing gold cwg \n",
      "실제 요약 : five time world champion and olympic bronze medallist mc mary kom has become the first indian woman boxer to win gold medal at the commonwealth games mary kom achieved the feat after defeating northern ireland in the kg category final at gold coast on saturday the year old boxer from manipur is participating in her maiden commonwealth games \n",
      "예측 요약 :  boxer mary kom who won gold medal in the kg category at the commonwealth games in the kg category at the commonwealth games in the kg category at the commonwealth games on saturday the year old who was the first time in the tournament history was the first time in the world championship since the edition of the tournament\n",
      "\n",
      "\n",
      "원문 : missing boat indian migrants may headed nz police \n",
      "실제 요약 : in case of suspected human trafficking missing fishing boat carrying indian migrants may be headed to new zealand the kerala police has said the group reportedly left the coast of kerala from on january the investigation began after authorities found over abandoned bags near the area \n",
      "예측 요약 :  the indian navy on wednesday rescued the coast of the country navy and rescue operation in the country the navy said the navy has been rescued by the navy and the navy vessel the navy has been rescued by the navy and the navy vessel the navy has been deployed to rescue the boats\n",
      "\n",
      "\n",
      "원문 : palestinian prez cancels meet us vp jerusalem move \n",
      "실제 요약 : following us president donald trump decision to recognise jerusalem as israel capital palestinian president mahmoud abbas cancelled meeting with us vice president mike pence the matter is bigger than mere meeting because the us in its decisions on jerusalem crossed red lines palestinian officials said they were scheduled to meet on december in cairo \n",
      "예측 요약 :  israeli pm benjamin netanyahu on wednesday said that the country will not recognise jerusalem as israel capital and israel capital adding that the country will not recognise jerusalem as israel capital and israel capital jerusalem as israel capital jerusalem as israel capital jerusalem as israel capital jerusalem as israel capital and palestine capital jerusalem as israel capital\n",
      "\n",
      "\n",
      "원문 : fighter ko opponent walking back corner \n",
      "실제 요약 : mma fighter defeated his opponent by knocking him out while he was walking back to his corner in the second round at the glory had been hit by knee kick following which he let his guard down and walked towards his corner the knockout which was widely called unfair was however legal \n",
      "예측 요약 :  actor henry has said that he was not aware of his teammate james anderson who was not aware of his car he added that he was not aware of his car and was not going to be part of his upcoming film race he further said that he was not aware of his car and was not allowed to shoot him\n",
      "\n",
      "\n",
      "원문 : harbhajan slams twitter user asked retire \n",
      "실제 요약 : indian spinner harbhajan singh slammed twitter user who asked him to retire from international cricket saying that the cricketer best days were over the user cited the saying you cannot teach an old dog new tricks and asked harbhajan to stop making fool of himself harbhajan called the user an old dog and said he can only \n",
      "예측 요약 :  reacting to the controversy over rising pune supergiant user tweeted user tweeted am not sure to be the most expensive thing to do not know what is not going to be the world cup winning cricketer harbhajan singh tweeted that he is not going to be the world cup winning the world cup winning squad for the next time\n",
      "\n",
      "\n",
      "원문 : shut reveal narayan warns thackeray \n",
      "실제 요약 : former maharashtra cm narayan rane on saturday asked shiv sena president uddhav thackeray to keep his mouth shut or else he will reveal all this comes after uddhav alleged that rane had harassed shiv sena founder bal thackeray have seen with my own eyes how uddhav and his family had tortured balasaheb will not hesitate to expose them rane warned \n",
      "예측 요약 :  shiv sena chief uddhav thackeray on wednesday said that the government should not be allowed to enter the temple if it is not good thackeray added that the government will not be able to make it compulsory for thackeray further said that the government will not be able to make it compulsory for thackeray and the government\n",
      "\n",
      "\n",
      "원문 : lions hungry go near akhilesh cm \n",
      "실제 요약 : amid the crackdown on slaughterhouses ex up cm akhilesh yadav has cautioned his successor yogi adityanath not to go near his lions as they would be hungry the akhilesh led government had imported gujarat lions for the lion safari project around lakh is reportedly spent monthly on the upbringing of each pair of animals which are currently being fed chicken \n",
      "예측 요약 :  samajwadi party chief akhilesh yadav on wednesday said that the party will not contest the lok sabha elections adding that the party will not be able to use the word if the party will be given the deadline for the upcoming polls he added that the government will not be able to bring the foundation stone for the upcoming elections\n",
      "\n",
      "\n",
      "원문 : pak hikes interest rate year high amid bailout reports \n",
      "실제 요약 : pakistan hiked its key interest rate by to three year high of on saturday citing rising inflation and concerns over large fiscal and current account the hike comes amid speculation that pakistan may need another bailout from the international monetary fund the country forex reserves plunged by third this year to below billion \n",
      "예측 요약 :  the rbi has approved the lender fiscal year lender hdfc bank to raise crore in fy the bank shares surged to crore after the lender stock fell to crore in the quarter the bank said the lender had earlier lowered its debt forecast to the bank of baroda and its profit forecast for the quarter\n",
      "\n",
      "\n",
      "원문 : car taken railway platform minister walk \n",
      "실제 요약 : madhya pradesh sports minister raje scindia car was driven to the platform of railway station so that she does not have to walk after the train the whole incident was caught on camera and some policemen also accompanied the car while it waited at the platform scindia later said she was not aware of the rules of the station \n",
      "예측 요약 :  the railways has announced that it will not be mandatory for the first time in the state run by the railways ministry of railways for the first time in the state the driver said the railways will be able to ensure that the driver of the railways will be trained to ensure that the driver is not going to be taken to the hospital\n",
      "\n",
      "\n",
      "원문 : pay crore refund investors sc \n",
      "실제 요약 : the supreme court on monday directed real estate firm to deposit crore for refunding money to the investors who wanted to opt out of its emerald towers project in noida however told the court that it had already paid crore to the investors adding that depositing crore would be too much for it \n",
      "예측 요약 :  the supreme court on tuesday asked the supreme court to pay crore to the government for the auction of the aamby valley in the process of sahara group aamby valley the court said it was not the right to deposit the money of the property the court said it was not the right to pay the money to the court\n",
      "\n",
      "\n",
      "원문 : year old falls ill dies despite plane making emergency landing \n",
      "실제 요약 : kolkata bengaluru indigo flight made an emergency landing in bhubaneswar today after year old male passenger fell ill mid flight however the passenger rajkumar karmakar had passed away by that time and was declared dead at capital hospital where he was taken karmakar had complained of uneasiness and his pulse rate dropped as soon as the flight took off \n",
      "예측 요약 :  year old air india flight was killed on wednesday after he was found dead at the airport in mumbai on wednesday the incident happened when the plane was carrying the air and was taken into the air the incident took place when the plane landed safely the flight was taken to hospital where the incident happened\n",
      "\n",
      "\n",
      "원문 : german chancellor merkel attempt form government fails \n",
      "실제 요약 : german chancellor angela merkel efforts to form new government collapsed after talks on forming coalition failed the free democratic party pulled out of negotiations with coalition partners citing no basis of trust between them expressing disappointment merkel said she would consult with president frank walter on how to move forward \n",
      "예측 요약 :  german chancellor angela merkel has said that the country will not be allowed to ukraine and europe to the country if they are voted to power in europe adding that the eu is not the right to merkel the german chancellor angela merkel said that the eu is ready to power to europe and europe to protect the country and europe\n",
      "\n",
      "\n",
      "원문 : robot dog climbs steps rings bell deliver package ces \n",
      "실제 요약 : german auto parts manufacturer continental unveiled concept delivery system at ces in las vegas in the demo four legged robotic dog out of driverless delivery van crossed an obstacle climbed stairs and rang with one of its limbs to deliver the package continental partnered with swiss robotics company for the dog named \n",
      "예측 요약 :  humanoid robot robot has been suspended for robot robot that can be controlled by robot robot which can be controlled by robot the robot can be seen in the robot which can be controlled by robot can be seen in the robot the robot can be seen in the robot which can be seen in the robot\n",
      "\n",
      "\n",
      "원문 : jim maker pays crore settle india bribery claims \n",
      "실제 요약 : jim beam whiskey maker beam has agreed to pay million to us regulators to settle claims it bribed indian government officials between and the company allegedly made payments through third party distributors to increase sales and clear regulatory hurdles in one instance third party allegedly paid an official lakh to approve product registration \n",
      "예측 요약 :  the enforcement directorate has ruled that the company is facing million in damages for the first time in the us presidential elections the company said it was not able to pay million for the first time in the us the court said it was not able to pay the money for the company but it was not clear about the issue\n",
      "\n",
      "\n",
      "원문 : astronaut training quits nasa st time years \n",
      "실제 요약 : astronaut candidate has resigned halfway through his two years of training at nasa over personal reasons marking first since when another astronaut in training quit the former spacex manager was among astronauts chosen last summer from record applicants notably indian origin us air force lieutenant colonel raja is also part of the astronaut class \n",
      "예측 요약 :  nasa astronaut randy bresnik has said that astronauts will be aboard the international space station in the us space agency astronaut thomas pesquet said that the astronauts will be able to send astronauts to the iss for the first time in the us space agency astronaut thomas pesquet said that astronauts will be aboard the iss\n",
      "\n",
      "\n",
      "원문 : yr old hangs self performing better board exam \n",
      "실제 요약 : year old girl in bihar hanged herself to death on thursday reportedly over performance in the science paper of class board examination the police said the girl used her scarf as and committed suicide in the balcony of her house the girl mother found her dead when she went to check on her at am \n",
      "예측 요약 :  year old boy who was allegedly assaulted by his father in law after he was allegedly assaulted by his father in law on wednesday said he was not aware of the incident but he was not aware of the incident the boy was admitted to the hospital after he complained about his examination and was declared brought to the hospital\n",
      "\n",
      "\n",
      "원문 : dead injured hoarding falls passing vehicles pune \n",
      "실제 요약 : at least three people died and nine were injured on friday after an iron holding flex banner collapsed on moving vehicles in pune reportedly the work of cutting the flex banner was in progress without proper support due to which it collapsed around eight vehicles are said to be damaged in the incident \n",
      "예측 요약 :  at least people were killed and others were injured after fire broke out in the vehicle in uttar pradesh on saturday the police said the police had rushed to the spot after the accident occurred due to the accident the police said the cause of the accident was caused by the accident and caused the incident\n",
      "\n",
      "\n",
      "원문 : scientists claim develop vaccine \n",
      "실제 요약 : us based scientists claimed to have developed vaccine that can block the causing effects of the bacteria without harming its benefits the vaccine awaiting clinical trials has been successfully tested on skin samples from patients scientists said according to uk national healthcare system around of people aged to are affected by the disorder worldwide \n",
      "예측 요약 :  us based researchers have developed an artificial intelligence system that can predict the protein of protein cells in mice the team used to treat cancer cells and protein cells that can be used to produce protein in the brain to produce the protein of the disease the team has engineered mice to produce the gene editing cells\n",
      "\n",
      "\n",
      "원문 : rajasthan ips officer named bungalow \n",
      "실제 요약 : rajasthan ips officer indu kumar bhushan who lives in the state capital jaipur has named his bungalow named my bungalow as last year to show creativity am in police so chose name in police style only bhushan said the batch ips officer currently holds no post and is under awaiting posting orders status \n",
      "예측 요약 :  the telangana government has decided to set up government to ensure that the government will organise the state for the next years the government will also organise the state for the next five years the government will also be the first state to organise the state for the next five years in the state\n",
      "\n",
      "\n",
      "원문 : sells flipkart stake bn walmart \n",
      "실제 요약 : south african conglomerate naspers sold its entire stake in indian commerce firm flipkart to walmart for billion it said on wednesday naspers said the proceeds from the sale will be used to naspers balance sheet to fuel the growth of the company naspers backed flipkart in and had invested roughly million since that time \n",
      "예측 요약 :  us based retail giant walmart has raised billion in funding round led by walmart in the us based retail giant walmart deal with flipkart co founder sachin bansal and flipkart co founder sachin bansal and binny bansal will invest billion in flipkart walmart deal with walmart deal with walmart deal with walmart deal with walmart deal with walmart deal with walmart\n",
      "\n",
      "\n",
      "원문 : work used divide people facebook ceo \n",
      "실제 요약 : asking for forgiveness facebook ceo mark zuckerberg in post on the social media platform has said my work was used to divide people rather than bring us together he posted the message on the day of jewish day of he further asked for forgiveness from those he hurt and said he will work to do better \n",
      "예측 요약 :  facebook ceo mark zuckerberg has said that he is not interested in the company to mark zuckerberg and his facebook ceo mark zuckerberg zuckerberg added that he will not be able to delete the data he added that he will not be able to delete the data he added that he will not be able to take decisions on facebook\n",
      "\n",
      "\n",
      "원문 : us discusses potential missile defence cooperation india \n",
      "실제 요약 : the us has discussed potential missile defence cooperation with india the us said in its missile defence review this is natural of india status as major defence partner and key element of our indo pacific strategy the added russia china iran and north korea were described as current and emerging missile threats to the us \n",
      "예측 요약 :  the us defence ministry has said that the us has successfully tested its nuclear weapons programme in the us defence ministry for the first time in the us the us defence ministry said the exercise is aimed at improving the capabilities of the us and defence minister nirmala sitharaman said the us has been developed by the us and india to conduct the nuclear deal\n",
      "\n",
      "\n",
      "원문 : trump orders pentagon reduce us troops korea report \n",
      "실제 요약 : president donald trump has reportedly ordered the us defence department pentagon to prepare options for reducing the number of us troops stationed in south korea recently south korea had said the us troops stationed in the country should stay even if any peace treaty is signed with north korea \n",
      "예측 요약 :  us president donald trump has said that north korea will not tolerate north korea nuclear weapons program adding that the us does not want to be part of the us military adding that the us is willing to cooperate with north korea if it is going to be the us president trump said that the us has not been involved in the us\n",
      "\n",
      "\n",
      "원문 : woman police official arrested hyderabad \n",
      "실제 요약 : the central zone task force team on saturday arrested year old woman for impersonating the deputy commissioner of police in hyderabad the woman hailing from had installed police and red beacon on her car police uniform dcp identity cards car and two motorcycles were also seized from her possession \n",
      "예측 요약 :  woman in hyderabad was arrested on monday after she was allegedly abducted by her husband and two men in the men police said the woman was arrested after she was arrested for allegedly trying to extort money from her husband the woman was arrested after she was arrested for allegedly trying to extort money from the police\n",
      "\n",
      "\n",
      "원문 : trump treats women like meat unfit prez ex fbi chief \n",
      "실제 요약 : describing us president donald trump as on everyone who worked under him former fbi director james comey said that he treats women like meat and is morally unfit to be president comparing him to mafia boss he further called trump serial liar however comey said he does not wish for trump to be impeached \n",
      "예측 요약 :  us president donald trump has said that the us government is planning to ban on transgender women to be scrapped and called the us government shutdown in the us trump said that the us has not been scrapped by the us government to give the us to the us and the us to pay the bill trump added that the us has been criticised for the us\n",
      "\n",
      "\n",
      "원문 : indian economic thoughts iim prof \n",
      "실제 요약 : research by iim ahmedabad professor satish claims that history of indian economic thoughts goes back to composed at least years before and writings he said while the th century bc greek writings are considered to be the foundation of modern economic thoughts attention was paid to indian economic thoughts due to foreign \n",
      "예측 요약 :  the indian institute of india has announced that the country will be awarded the country to the university of the country for students the students who will be able to teach students to students and students in the country the students will be able to teach students to students and students in the country the students will be able to teach students to students\n",
      "\n",
      "\n",
      "원문 : indian team celebrates christmas sl series whitewash \n",
      "실제 요약 : the indian cricket team celebrated christmas eve wearing santa claus hats after finishing with their th victory in international cricket the second most in calendar year behind australia international wins in team members including ms dhoni later posed and took pictures with the trophy and with each other wearing the santa claus hats \n",
      "예측 요약 :  sri lanka has been named the indian team of the indian team to win the tri series against sri lanka in the tri series on wednesday the sri lankan team had earlier played the match in the sri lanka on the day of the tournament the sri lankan team had played the match in the tournament\n",
      "\n",
      "\n",
      "원문 : yana govt orders pay income state \n",
      "실제 요약 : the haryana government has issued notification directing sportspersons employed with the state to pay of their income earned professionally and through commercial endorsements to the state sports council they will have to submit their full income if they are considered to be on duty by the concerned authority the money will be used for development of sports in haryana \n",
      "예측 요약 :  the haryana government has decided to file an rti query on the state government for the state government for the state government for the state government has decided to pay lakh crore for the state government the government has decided to pay lakh for the state government for the state government the government has decided to pay lakh for the state government to pay lakh\n",
      "\n",
      "\n",
      "원문 : never received twitter data fb data scandal linked firm \n",
      "실제 요약 : after twitter confirmed that it sold data access to aleksandr kogan who leaked facebook users data british firm cambridge analytica has claimed it never received any data on twitter from kogan the firm also said it never worked with kogan firm global science research on twitter data however twitter blocked cambridge analytica from buying ads citing business practices \n",
      "예측 요약 :  facebook ceo mark zuckerberg has said that the company has been admitted to cambridge analytica data scandal linked to the company cambridge analytica scandal facebook had earlier admitted that cambridge analytica exploited to influence the elections in the us presidential elections earlier this week the cambridge analytica had earlier admitted that cambridge analytica exploited to influence the elections\n",
      "\n",
      "\n",
      "원문 : dept names entities crore taxes \n",
      "실제 요약 : the income tax department today published names of five entities based in delhi which owe over crore in taxes the public list contains details of individuals or entities like their pan and last known address among others notably the department began the exercise of naming and shaming defaulters few years earlier and had named such entities \n",
      "예측 요약 :  the income tax department has issued notices to the income tax department for the first time in the country to file returns for the first time in the country the government has said the government has issued notices to the government for the same period of the tax department the government has issued notices to the government for the same period\n",
      "\n",
      "\n",
      "원문 : aiadmk mps commit suicide cauvery board party mp \n",
      "실제 요약 : aiadmk mp on wednesday said that all aiadmk mps would commit suicide if the cauvery management board is not formed how can the centre not heed what the supreme court has said said party mps have themselves from the statement and said that his words did not reflect the party stance \n",
      "예측 요약 :  the tamil nadu government on wednesday said that the tamil nadu government will not allow the tamil nadu government to give the cauvery management system to the cauvery management board the dmk said that the party will not be able to recover the money from the party the dmk had earlier said that the government will not be able to recover from the cauvery management\n",
      "\n",
      "\n",
      "원문 : kathua rape accused claiming juvenile tried adult \n",
      "실제 요약 : the pathankot district court on thursday said one of the accused who was claiming to be juvenile in the kathua rape and murder case will be tried as an adult the medical report of the accused ascertained his age to be more than years an year old girl was raped and murdered near kathua in january \n",
      "예측 요약 :  the juvenile justice board has said that the juvenile justice act will be taken to the juvenile justice act of the juvenile justice act adding that the juvenile justice act is not juvenile justice she added that the juvenile justice act is the juvenile justice act of the juvenile justice act and kathua rape cases\n",
      "\n",
      "\n",
      "원문 : launch india first private sector built satellite fails \n",
      "실제 요약 : isro today failed to successfully place india first satellite built in collaboration with the private sector in orbit the satellite was launched from sriharikota andhra pradesh by pslv rocket the kg spacecraft was supposed to join india crore satellite based navigation system as back up for satellite whose all three atomic clocks have failed \n",
      "예측 요약 :  india has launched the first satellite test which can be launched in india for the first time in india the world most powerful rocket was launched in india and the first indian space agency was launched in the country the satellite was launched by the indian space agency and the indian space agency\n",
      "\n",
      "\n",
      "원문 : pakistan saudi arabia funds pak pm ex wife \n",
      "실제 요약 : pakistan pm imran khan ex wife reham khan has said that the country received financial help from saudi arabia through begging she further said that there is no democracy in the country at the moment and it is more of martial law that is governing the nation saudi arabia has agreed to give pakistan billion to ease the economic crisis \n",
      "예측 요약 :  pakistan has issued notice to pakistan pm imran khan to declare his daughter death sentence for the country in the country the court said that the country will not be able to return to the country if they want to return to the country the court said that the country will not be allowed to return to the country\n",
      "\n",
      "\n",
      "원문 : haasan appeals pm modi cauvery issue video message \n",
      "실제 요약 : in video message actor turned politician kamal haasan appealed to prime minister narendra modi to do justice to the people of tamil nadu and karnataka regarding the cauvery issue adding that people believe the delay in getting justice is due to the karnataka elections and pm modi interests in it haasan said want this belief to be \n",
      "예측 요약 :  actor kamal haasan on sunday said that he will not be able to enter politics if he will be the prime minister of the upcoming biopic on the cauvery river in tamil nadu haasan added that he will not be able to speak about the film haasan added that he will not be able to enter politics and will be the actor\n",
      "\n",
      "\n",
      "원문 : anyone teacher yr old abuse victim \n",
      "실제 요약 : after year old delhi schoolboy complained about being sexually abused by three seniors to his teacher she said anyone would him since he was cute after returning from school the boy had held knife and threatened to commit suicide if he was sent to school his parents claimed the school issued show cause notice to the teacher \n",
      "예측 요약 :  year old boy in uttar pradesh has been arrested for allegedly sexually assaulting year old girl in the washroom of the school the boy who was reportedly admitted to the hospital in the incident was reportedly taken to hospital where he was rushed to hospital where he was rushed to hospital where he was rushed to hospital\n",
      "\n",
      "\n",
      "원문 : taylor swift releases new song call want \n",
      "실제 요약 : singer taylor swift has released the video of the new call it what you want from her album reputation this is swift fourth song from reputation which is scheduled to release on november while some fans called it sequel to her earlier song love story others speculated that it is about her rumoured boyfriend actor joe \n",
      "예측 요약 :  actor tom taylor swift has said that he will not be able to sing the song from the upcoming film spider man homecoming he added that he will not be able to sing the song from the upcoming film spider man who is currently shooting for the song the song was taken to the song by the song lyrics by the song\n",
      "\n",
      "\n",
      "원문 : released pakistan ansari crosses border india \n",
      "실제 요약 : indian national hamid ansari crossed the attari wagah border to reach india on tuesday evening after completion of three year sentence in pakistani jail ansari was received by his family and journalist activist jatin desai who pursued his case software engineer year old ansari was taken into custody by pakistani intelligence agencies in claiming him to be an indian spy \n",
      "예측 요약 :  pakistan has been slammed for the post of the indian cricket team for the upcoming series of the pakistan cricket board on wednesday the year old had been named the indian army and the indian army team for the past three years in the country the year old was awarded the trophy to pakistan in the series\n",
      "\n",
      "\n",
      "원문 : bal thackeray used call nitin gadkari \n",
      "실제 요약 : road transport minister nitin gadkari on saturday revealed that late shiv sena chief bal thackeray used to call him because of his passion for roads adding that he does not have any expertise in civil engineering gadkari said he developed an interest in roads during his service in the public works department in maharashtra \n",
      "예측 요약 :  union minister nitin gadkari on sunday said that the government will not be able to make the country approval for the upcoming biopic on the state government adding that the government will not be able to bring the foundation stone for the upcoming biopic thackeray added that the government will not be able to bring the foundation stone for the upcoming biopic on the completion of the project\n",
      "\n",
      "\n",
      "원문 : us websites europe new privacy laws \n",
      "실제 요약 : major us media outlets including the new york daily news and la times were forced to close their websites in parts of europe following the roll out of general data protection regulation on friday the new european union laws hold severe penalties for breaching user privacy readers received error messages with mentioned in the redirected web page address \n",
      "예측 요약 :  us president donald trump has admitted that the company has been admitted to the us government data scandal which is not the reason behind the scandal of the company the company said that the company is not going to be the new rules of the company the company said that the us government is considering the proposal to end the us presidential election\n",
      "\n",
      "\n",
      "원문 : screen hacked show offensive messages uk \n",
      "실제 요약 : an outdoor screen in cardiff uk was hacked earlier this week to broadcast photo of donald trump as pepe the frog and other offensive messages one of the images said warning this is controlled zone no alcohol no gambling no porn while another displayed george novel quote big brother is watching you \n",
      "예측 요약 :  the creator of the upcoming web series game of thrones has been hacked to be released on april the hackers who stole the stolen email addresses and messages from the website and the hackers were hacked to the website the hackers were hacked to the hackers and the hackers were later hacked to the hackers\n",
      "\n",
      "\n",
      "원문 : whatsapp testing additional media menu features report \n",
      "실제 요약 : according to whatsapp is testing new features in its media menu including show in chat on opening the media menu android users will be able to trace where the image was shared in the chat via the option individual options use as wallpaper set as my profile picture and set as group icon now reportedly under set as option \n",
      "예측 요약 :  whatsapp has launched its first beta version of feature in beta version of the android beta version of the feature the feature will feature in the beta version of the beta version of the feature which will allow users to send messages to the feature the feature will be available on whatsapp and will be rolled out on whatsapp\n",
      "\n",
      "\n",
      "원문 : man cancels daughter engagement donates funds flood relief \n",
      "실제 요약 : kerala based journalist manoj has cancelled his daughter engagement ceremony and chose to donate the money he saved for the function to the chief minister distress relief fund the ceremony was scheduled for august however considering the unprecedented natural disaster the event was cancelled and both the families have decided to donate the money to he said on facebook \n",
      "예측 요약 :  kerala year old woman was arrested on wednesday for allegedly selling her shirt and shirt to buy her house in kerala kochi the woman was returning home after she was returning from the flood hit kerala kochi airport on wednesday the woman who was returning from kerala floods was donated to the hospital for the floods\n",
      "\n",
      "\n",
      "원문 : rcom shut operations november \n",
      "실제 요약 : anil ambani led reliance communications will shut down its direct to home business operating under reliance digital tv effective november reliance digital tv which is the smallest player with market share of cited expiry of dth licence as the reason for closure rcom has said that it is working with three other dth operators to migrate its customers \n",
      "예측 요약 :  telecom regulator trai has approved crore for its merger with aircel and aircel maxis deal rcom will reportedly be able to settle the dues of rcom and reliance communications company for the merger of aircel rcom will be held in october rcom will also be the first rcom to offer the merger of rcom largest telecom operator bharti airtel\n",
      "\n",
      "\n",
      "원문 : man beheaded land dispute modi chowk bihar cm \n",
      "실제 요약 : days after reports claimed that bjp leader father was beheaded over naming an intersection narendra modi chowk in bihar darbhanga cm nitish kumar said the man was murdered over land dispute however the deceased son tej narayan yadav said the murder was due to me naming the chowk after modi ji there is absolutely no other reason \n",
      "예측 요약 :  man was allegedly beaten up by mob in bihar village in bihar on friday after he was allegedly thrashed by the police the police said the man was detained by the police after the incident took place in the area the man was reportedly thrashed by the police after he was thrashed by the police\n",
      "\n",
      "\n",
      "원문 : th century tomb converted temple govt orders probe \n",
      "실제 요약 : delhi deputy cm manish sisodia has ordered probe into the alleged conversion of state notified th century tomb in into shiva temple in march the tomb which has been painted saffron and white was earlier listed for restoration but could not be accessed by authorities due to residents resistance department earlier registered police complaint in the case \n",
      "예측 요약 :  the temple in the temple has been built in the temple in the country for the first time in years the temple priest said the temple is being built in the temple in the temple the temple is believed to be the first time in the world temple in the country\n",
      "\n",
      "\n",
      "원문 : indian firm pulls heart drug us amid cancer risk probes \n",
      "실제 요약 : india drugs is recalling some batches of its blood pressure and heart medicine in the us amid wider probe into cancer risks associated with the drug was found to be using similar manufacturing process to china pharmaceutical for the drug made by had been found to contain probable human \n",
      "예측 요약 :  us based drug company has been arrested for allegedly bribing the us based drug company for allegedly diagnosed with cancer in the us the drug administration had earlier said that the drug administration could not be able to treat cancer patients and cancer patients the company said the drug administration has been affected by the us government\n",
      "\n",
      "\n"
     ]
    }
   ],
   "source": [
    "for i in range(50, 100):\n",
    "    print(\"원문 :\", seq2text(encoder_input_test[i]))\n",
    "    print(\"실제 요약 :\", seq2summary(decoder_input_test[i]))\n",
    "    print(\"예측 요약 :\", decode_sequence(encoder_input_test[i].reshape(1, 13))) # h_max_len\n",
    "    print(\"\\n\")"
   ]
  },
  {
   "cell_type": "markdown",
   "id": "d025eaf0",
   "metadata": {},
   "source": [
    "```\n",
    "the team uses the universe to create the universe to create the universe and the universe is the first time in the universe the universe is the first time in the universe history of the universe and\n",
    "```\n",
    "위는 예측요약을 일부 발췌해왔다.<br>\n",
    "\"team\", \"to create the universe\", \"the first time\"과 같은 문장이 계속해서 반복되어 나온다.<br>\n",
    "불필요하게 문장을 늘리고 무슨 말을 하는지 도통 모르겠다.<br>\n",
    "다른 문장들도 마찬가지로 똑같은 단어가 반복된다.<br>"
   ]
  },
  {
   "cell_type": "markdown",
   "id": "2c74fe93",
   "metadata": {},
   "source": [
    "## Step 5. Summa을 이용해서 추출적 요약해보기\n",
    "추상적 요약은 추출적 요약과는 달리 문장의 표현력을 다양하게 가져갈 수 있지만, 추출적 요약에 비해서 난이도가 높아요. 반대로 말하면 추출적 요약은 추상적 요약에 비해 난이도가 낮고 기존 문장에서 문장을 꺼내오는 것이므로 잘못된 요약이 나올 가능성이 낮아요.\n",
    "\n",
    "Summa의 summarize를 사용하여 추출적 요약을 해보세요."
   ]
  },
  {
   "cell_type": "markdown",
   "id": "5cc071d4",
   "metadata": {},
   "source": [
    "!pip list | grep summa"
   ]
  },
  {
   "cell_type": "markdown",
   "id": "abd4ebf3",
   "metadata": {},
   "source": [
    "### 데이터 다운로드"
   ]
  },
  {
   "cell_type": "code",
   "execution_count": 48,
   "id": "22075898",
   "metadata": {},
   "outputs": [],
   "source": [
    "import requests\n",
    "from summa.summarizer import summarize"
   ]
  },
  {
   "cell_type": "code",
   "execution_count": 49,
   "id": "26a01868",
   "metadata": {},
   "outputs": [
    {
     "data": {
      "text/plain": [
       "0        Saurav Kant, an alumnus of upGrad and IIIT-B's...\n",
       "1        Kunal Shah's credit card bill payment platform...\n",
       "2        New Zealand defeated India by 8 wickets in the...\n",
       "3        With Aegon Life iTerm Insurance plan, customer...\n",
       "4        Speaking about the sexual harassment allegatio...\n",
       "                               ...                        \n",
       "98396    A CRPF jawan was on Tuesday axed to death with...\n",
       "98397    'Uff Yeh', the first song from the Sonakshi Si...\n",
       "98398    According to reports, a new version of the 199...\n",
       "98399    A new music video shows rapper Snoop Dogg aimi...\n",
       "98400    Madhesi Morcha, an alliance of seven political...\n",
       "Name: text, Length: 98401, dtype: object"
      ]
     },
     "execution_count": 49,
     "metadata": {},
     "output_type": "execute_result"
    }
   ],
   "source": [
    "data_news = pd.read_csv('news_summary_more.csv', encoding='iso-8859-1')\n",
    "data_news[\"text\"]"
   ]
  },
  {
   "cell_type": "markdown",
   "id": "1b26c65f",
   "metadata": {},
   "source": [
    "### summarize 사용하기"
   ]
  },
  {
   "cell_type": "markdown",
   "id": "79c137f8",
   "metadata": {},
   "source": [
    "- text (str) : 요약할 테스트. \n",
    "- ratio (float, optional) – 요약문에서 원본에서 선택되는 문장 비율. 0~1 사이값 \n",
    "- words (int or None, optional) – 출력에 포함할 단어 수. \n",
    "- 만약, ratio와 함께 두 파라미터가 모두 제공되는 경우 ratio는 무시한다. \n",
    "- split (bool, optional) – True면 문장 list / False는 조인(join)된 문자열을 반환"
   ]
  },
  {
   "cell_type": "code",
   "execution_count": 53,
   "id": "0d651675",
   "metadata": {},
   "outputs": [
    {
     "name": "stdout",
     "output_type": "stream",
     "text": [
      "Summary:\n",
      "['He added decisions like demonetisation and RERA have put a check on black money that used to be \"parked in the real estate sector\".']\n"
     ]
    }
   ],
   "source": [
    "print('Summary:')\n",
    "print(summarize(data_news[\"text\"][i], ratio=0.5, split=True))"
   ]
  },
  {
   "cell_type": "code",
   "execution_count": 54,
   "id": "9638c4b3",
   "metadata": {},
   "outputs": [
    {
     "name": "stdout",
     "output_type": "stream",
     "text": [
      "Summary:\n",
      "Prime Minister Narendra Modi on Wednesday said his government's demonetisation decision made houses affordable for the aspiring youth.\n",
      "He added decisions like demonetisation and RERA have put a check on black money that used to be \"parked in the real estate sector\".\n"
     ]
    }
   ],
   "source": [
    "print('Summary:')\n",
    "print(summarize(data_news[\"text\"][i], words=50))"
   ]
  },
  {
   "cell_type": "markdown",
   "id": "77e07d41",
   "metadata": {},
   "source": [
    "# 회고\n",
    "\n",
    "이때까지 중 내용이 너무 많았고, 데이터 학습 시간도 너무 오래걸렸다.<br>\n",
    "모델 학습까지의 데이터 정제 파트는 어려워서 이해하고 적용하기까지 시간을 많이 들였던 것 같다.<br>\n",
    "데이터 최대길이를 정하는 부분은 특히<br>\n",
    "text_max_len, headlines_max_len의 값에 각각 13, 60으로 맞췄는데 그 결과 전체 샘플 수가 1이 나와서 길이 조정은 하지않았다.<br>\n",
    "그리고 훈련시간이 너무 오래 걸려서 두시간 자고 일어났다.<br>\n",
    "\n",
    "추상적 요약과 추출적 요약을 비교한 결과 추출적 요약의 문장이 훨씬 나았다.<br>\n",
    "추출적 요약은 원문에서 중요도가 높다고 생각하는 문장을 꺼내어 오는 것인데, 이는 문장과 문장 사이의 연결이 매끄럽지 않다는 단점이 있었다.<br>\n",
    "하지만 추상적 요약은 앞 단어와 뒤의 단어의 유사성을 따져서 새로운 문장을 생성해내어 추출적 요약의 단점은 해결할 것 같았지만 더 큰 문제는<br>\n",
    "아예 길이가 긴 문장은 똑같은 단어가 반복해서 나오며 문장력을 잃은 듯 하다..<br>\n",
    "이것은 RNN에서 발생하는 장기의존성 문제가 아닐까 생각이 든다.<br>\n",
    "추상적 요약의 모델 설계를 더 고민해보아야 할 것 같다."
   ]
  }
 ],
 "metadata": {
  "kernelspec": {
   "display_name": "Python 3 (ipykernel)",
   "language": "python",
   "name": "python3"
  },
  "language_info": {
   "codemirror_mode": {
    "name": "ipython",
    "version": 3
   },
   "file_extension": ".py",
   "mimetype": "text/x-python",
   "name": "python",
   "nbconvert_exporter": "python",
   "pygments_lexer": "ipython3",
   "version": "3.9.7"
  }
 },
 "nbformat": 4,
 "nbformat_minor": 5
}
