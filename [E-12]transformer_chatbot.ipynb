{
  "cells": [
    {
      "cell_type": "markdown",
      "source": [
        "# 12 프로젝트: 한국어 데이터로 챗봇 만들기"
      ],
      "metadata": {
        "id": "Ng8c-_wRA589"
      }
    },
    {
      "cell_type": "markdown",
      "source": [
        "## Step 1. 데이터 수집하기\n",
        "\n",
        "[songys/Chatbot_data](https://github.com/songys/Chatbot_data/blob/master/ChatbotData.csv)"
      ],
      "metadata": {
        "id": "PyqGjlkTA9lF"
      }
    },
    {
      "cell_type": "markdown",
      "source": [
        "## Step 2. 데이터 전처리하기"
      ],
      "metadata": {
        "id": "BbAky_6-BJgf"
      }
    },
    {
      "cell_type": "code",
      "execution_count": 1,
      "metadata": {
        "colab": {
          "base_uri": "https://localhost:8080/"
        },
        "id": "xj40dqpBdceM",
        "outputId": "92d35ee5-45bd-4772-e9f8-7b7f0f62d895"
      },
      "outputs": [
        {
          "output_type": "stream",
          "name": "stdout",
          "text": [
            "Mounted at /gdrive\n"
          ]
        }
      ],
      "source": [
        "import tensorflow as tf\n",
        "import tensorflow_datasets as tfds\n",
        "import os\n",
        "import re\n",
        "import numpy as np\n",
        "import matplotlib.pyplot as plt\n",
        "import pandas as pd\n",
        "from google.colab import drive\n",
        "drive.mount('/gdrive')"
      ]
    },
    {
      "cell_type": "code",
      "execution_count": 2,
      "metadata": {
        "colab": {
          "base_uri": "https://localhost:8080/"
        },
        "id": "87ZZmOx-f7O2",
        "outputId": "391fd7ae-b790-4498-cb73-f3b3c16cf98a"
      },
      "outputs": [
        {
          "output_type": "stream",
          "name": "stdout",
          "text": [
            "슝=3\n"
          ]
        }
      ],
      "source": [
        "# 포지셔널 인코딩 레이어\n",
        "class PositionalEncoding(tf.keras.layers.Layer):\n",
        "\n",
        "  def __init__(self, position, d_model):\n",
        "    super(PositionalEncoding, self).__init__()\n",
        "    self.pos_encoding = self.positional_encoding(position, d_model)\n",
        "\n",
        "  def get_angles(self, position, i, d_model):\n",
        "    angles = 1 / tf.pow(10000, (2 * (i // 2)) / tf.cast(d_model, tf.float32))\n",
        "    return position * angles\n",
        "\n",
        "  def positional_encoding(self, position, d_model):\n",
        "    # 각도 배열 생성\n",
        "    angle_rads = self.get_angles(\n",
        "        position=tf.range(position, dtype=tf.float32)[:, tf.newaxis],\n",
        "        i=tf.range(d_model, dtype=tf.float32)[tf.newaxis, :],\n",
        "        d_model=d_model)\n",
        "\n",
        "    # 배열의 짝수 인덱스에는 sin 함수 적용\n",
        "    sines = tf.math.sin(angle_rads[:, 0::2])\n",
        "    # 배열의 홀수 인덱스에는 cosine 함수 적용\n",
        "    cosines = tf.math.cos(angle_rads[:, 1::2])\n",
        "\n",
        "    # sin과 cosine이 교차되도록 재배열\n",
        "    pos_encoding = tf.stack([sines, cosines], axis=0)\n",
        "    pos_encoding = tf.transpose(pos_encoding,[1, 2, 0]) \n",
        "    pos_encoding = tf.reshape(pos_encoding, [position, d_model])\n",
        "\n",
        "    pos_encoding = pos_encoding[tf.newaxis, ...]\n",
        "    return tf.cast(pos_encoding, tf.float32)\n",
        "\n",
        "  def call(self, inputs):\n",
        "    return inputs + self.pos_encoding[:, :tf.shape(inputs)[1], :]\n",
        "\n",
        "print(\"슝=3\")"
      ]
    },
    {
      "cell_type": "code",
      "execution_count": 3,
      "metadata": {
        "colab": {
          "base_uri": "https://localhost:8080/"
        },
        "id": "nN6vwhaAf7U_",
        "outputId": "39cd893e-20c0-424c-ad31-81b7ea6b1cd8"
      },
      "outputs": [
        {
          "output_type": "stream",
          "name": "stdout",
          "text": [
            "슝=3\n"
          ]
        }
      ],
      "source": [
        "# 스케일드 닷 프로덕트 어텐션 함수\n",
        "def scaled_dot_product_attention(query, key, value, mask):\n",
        "  # 어텐션 가중치는 Q와 K의 닷 프로덕트\n",
        "  matmul_qk = tf.matmul(query, key, transpose_b=True)\n",
        "\n",
        "  # 가중치를 정규화\n",
        "  depth = tf.cast(tf.shape(key)[-1], tf.float32)\n",
        "  logits = matmul_qk / tf.math.sqrt(depth)\n",
        "\n",
        "  # 패딩에 마스크 추가\n",
        "  if mask is not None:\n",
        "    logits += (mask * -1e9)\n",
        "\n",
        "  # softmax적용\n",
        "  attention_weights = tf.nn.softmax(logits, axis=-1)\n",
        "\n",
        "  # 최종 어텐션은 가중치와 V의 닷 프로덕트\n",
        "  output = tf.matmul(attention_weights, value)\n",
        "  return output\n",
        "\n",
        "print(\"슝=3\")"
      ]
    },
    {
      "cell_type": "code",
      "execution_count": 4,
      "metadata": {
        "colab": {
          "base_uri": "https://localhost:8080/"
        },
        "id": "HgJ2orVsf-XF",
        "outputId": "21596bb6-b948-4b55-eb1f-14f299fdeff2"
      },
      "outputs": [
        {
          "output_type": "stream",
          "name": "stdout",
          "text": [
            "슝=3\n"
          ]
        }
      ],
      "source": [
        "class MultiHeadAttention(tf.keras.layers.Layer):\n",
        "\n",
        "  def __init__(self, d_model, num_heads, name=\"multi_head_attention\"):\n",
        "    super(MultiHeadAttention, self).__init__(name=name)\n",
        "    self.num_heads = num_heads\n",
        "    self.d_model = d_model\n",
        "\n",
        "    assert d_model % self.num_heads == 0\n",
        "\n",
        "    self.depth = d_model // self.num_heads\n",
        "\n",
        "    self.query_dense = tf.keras.layers.Dense(units=d_model)\n",
        "    self.key_dense = tf.keras.layers.Dense(units=d_model)\n",
        "    self.value_dense = tf.keras.layers.Dense(units=d_model)\n",
        "\n",
        "    self.dense = tf.keras.layers.Dense(units=d_model)\n",
        "\n",
        "  def split_heads(self, inputs, batch_size):\n",
        "    inputs = tf.reshape(\n",
        "        inputs, shape=(batch_size, -1, self.num_heads, self.depth))\n",
        "    return tf.transpose(inputs, perm=[0, 2, 1, 3])\n",
        "\n",
        "  def call(self, inputs):\n",
        "    query, key, value, mask = inputs['query'], inputs['key'], inputs[\n",
        "        'value'], inputs['mask']\n",
        "    batch_size = tf.shape(query)[0]\n",
        "\n",
        "    # Q, K, V에 각각 Dense를 적용합니다\n",
        "    query = self.query_dense(query)\n",
        "    key = self.key_dense(key)\n",
        "    value = self.value_dense(value)\n",
        "\n",
        "    # 병렬 연산을 위한 머리를 여러 개 만듭니다\n",
        "    query = self.split_heads(query, batch_size)\n",
        "    key = self.split_heads(key, batch_size)\n",
        "    value = self.split_heads(value, batch_size)\n",
        "\n",
        "    # 스케일드 닷 프로덕트 어텐션 함수\n",
        "    scaled_attention = scaled_dot_product_attention(query, key, value, mask)\n",
        "\n",
        "    scaled_attention = tf.transpose(scaled_attention, perm=[0, 2, 1, 3])\n",
        "\n",
        "    # 어텐션 연산 후에 각 결과를 다시 연결(concatenate)합니다\n",
        "    concat_attention = tf.reshape(scaled_attention,\n",
        "                                  (batch_size, -1, self.d_model))\n",
        "\n",
        "    # 최종 결과에도 Dense를 한 번 더 적용합니다\n",
        "    outputs = self.dense(concat_attention)\n",
        "\n",
        "    return outputs\n",
        "print(\"슝=3\")"
      ]
    },
    {
      "cell_type": "code",
      "execution_count": 5,
      "metadata": {
        "colab": {
          "base_uri": "https://localhost:8080/"
        },
        "id": "feLvo2Qqf-Zt",
        "outputId": "c65e5789-2f1c-4ff8-aef5-40f4260114e4"
      },
      "outputs": [
        {
          "output_type": "stream",
          "name": "stdout",
          "text": [
            "슝=3\n"
          ]
        }
      ],
      "source": [
        "def create_padding_mask(x):\n",
        "  mask = tf.cast(tf.math.equal(x, 0), tf.float32)\n",
        "  # (batch_size, 1, 1, sequence length)\n",
        "  return mask[:, tf.newaxis, tf.newaxis, :]\n",
        "print(\"슝=3\")"
      ]
    },
    {
      "cell_type": "code",
      "execution_count": 6,
      "metadata": {
        "colab": {
          "base_uri": "https://localhost:8080/"
        },
        "id": "TYk0xNbUf-cc",
        "outputId": "e36c4b4d-527a-4e4b-eed3-2fd2abab6bb6"
      },
      "outputs": [
        {
          "output_type": "stream",
          "name": "stdout",
          "text": [
            "슝=3\n"
          ]
        }
      ],
      "source": [
        "def create_look_ahead_mask(x):\n",
        "  seq_len = tf.shape(x)[1]\n",
        "  look_ahead_mask = 1 - tf.linalg.band_part(tf.ones((seq_len, seq_len)), -1, 0)\n",
        "  padding_mask = create_padding_mask(x)\n",
        "  return tf.maximum(look_ahead_mask, padding_mask)\n",
        "print(\"슝=3\")"
      ]
    },
    {
      "cell_type": "code",
      "execution_count": 7,
      "metadata": {
        "colab": {
          "base_uri": "https://localhost:8080/"
        },
        "id": "Zs0xvWOsgDfw",
        "outputId": "b276d982-b1f3-4d71-81cb-3c757cd72008"
      },
      "outputs": [
        {
          "output_type": "stream",
          "name": "stdout",
          "text": [
            "슝=3\n"
          ]
        }
      ],
      "source": [
        "# 인코더 하나의 레이어를 함수로 구현.\n",
        "# 이 하나의 레이어 안에는 두 개의 서브 레이어가 존재합니다.\n",
        "def encoder_layer(units, d_model, num_heads, dropout, name=\"encoder_layer\"):\n",
        "  inputs = tf.keras.Input(shape=(None, d_model), name=\"inputs\")\n",
        "\n",
        "  # 패딩 마스크 사용\n",
        "  padding_mask = tf.keras.Input(shape=(1, 1, None), name=\"padding_mask\")\n",
        "\n",
        "  # 첫 번째 서브 레이어 : 멀티 헤드 어텐션 수행 (셀프 어텐션)\n",
        "  attention = MultiHeadAttention(\n",
        "      d_model, num_heads, name=\"attention\")({\n",
        "          'query': inputs,\n",
        "          'key': inputs,\n",
        "          'value': inputs,\n",
        "          'mask': padding_mask\n",
        "      })\n",
        "\n",
        "  # 어텐션의 결과는 Dropout과 Layer Normalization이라는 훈련을 돕는 테크닉을 수행\n",
        "  attention = tf.keras.layers.Dropout(rate=dropout)(attention)\n",
        "  attention = tf.keras.layers.LayerNormalization(\n",
        "      epsilon=1e-6)(inputs + attention)\n",
        "\n",
        "  # 두 번째 서브 레이어 : 2개의 완전연결층\n",
        "  outputs = tf.keras.layers.Dense(units=units, activation='relu')(attention)\n",
        "  outputs = tf.keras.layers.Dense(units=d_model)(outputs)\n",
        "\n",
        "  # 완전연결층의 결과는 Dropout과 LayerNormalization이라는 훈련을 돕는 테크닉을 수행\n",
        "  outputs = tf.keras.layers.Dropout(rate=dropout)(outputs)\n",
        "  outputs = tf.keras.layers.LayerNormalization(\n",
        "      epsilon=1e-6)(attention + outputs)\n",
        "\n",
        "  return tf.keras.Model(\n",
        "      inputs=[inputs, padding_mask], outputs=outputs, name=name)\n",
        "print(\"슝=3\")"
      ]
    },
    {
      "cell_type": "code",
      "execution_count": 8,
      "metadata": {
        "colab": {
          "base_uri": "https://localhost:8080/"
        },
        "id": "VzmOz7SmgDiN",
        "outputId": "1bd13969-838d-4c28-ce6b-635cb8a87062"
      },
      "outputs": [
        {
          "output_type": "stream",
          "name": "stdout",
          "text": [
            "슝=3\n"
          ]
        }
      ],
      "source": [
        "def encoder(vocab_size,\n",
        "            num_layers,\n",
        "            units,\n",
        "            d_model,\n",
        "            num_heads,\n",
        "            dropout,\n",
        "            name=\"encoder\"):\n",
        "  inputs = tf.keras.Input(shape=(None,), name=\"inputs\")\n",
        "\n",
        "  # 패딩 마스크 사용\n",
        "  padding_mask = tf.keras.Input(shape=(1, 1, None), name=\"padding_mask\")\n",
        "\n",
        "  # 임베딩 레이어\n",
        "  embeddings = tf.keras.layers.Embedding(vocab_size, d_model)(inputs)\n",
        "  embeddings *= tf.math.sqrt(tf.cast(d_model, tf.float32))\n",
        "\n",
        "  # 포지셔널 인코딩\n",
        "  embeddings = PositionalEncoding(vocab_size, d_model)(embeddings)\n",
        "\n",
        "  outputs = tf.keras.layers.Dropout(rate=dropout)(embeddings)\n",
        "\n",
        "  # num_layers만큼 쌓아올린 인코더의 층.\n",
        "  for i in range(num_layers):\n",
        "    outputs = encoder_layer(\n",
        "        units=units,\n",
        "        d_model=d_model,\n",
        "        num_heads=num_heads,\n",
        "        dropout=dropout,\n",
        "        name=\"encoder_layer_{}\".format(i),\n",
        "    )([outputs, padding_mask])\n",
        "\n",
        "  return tf.keras.Model(\n",
        "      inputs=[inputs, padding_mask], outputs=outputs, name=name)\n",
        "print(\"슝=3\")"
      ]
    },
    {
      "cell_type": "code",
      "execution_count": 9,
      "metadata": {
        "colab": {
          "base_uri": "https://localhost:8080/"
        },
        "id": "1g3YIQhcgDlO",
        "outputId": "bd4ccf0a-113b-404f-95e7-075ce0450188"
      },
      "outputs": [
        {
          "output_type": "stream",
          "name": "stdout",
          "text": [
            "슝=3\n"
          ]
        }
      ],
      "source": [
        "# 디코더 하나의 레이어를 함수로 구현.\n",
        "# 이 하나의 레이어 안에는 세 개의 서브 레이어가 존재합니다.\n",
        "def decoder_layer(units, d_model, num_heads, dropout, name=\"decoder_layer\"):\n",
        "  inputs = tf.keras.Input(shape=(None, d_model), name=\"inputs\")\n",
        "  enc_outputs = tf.keras.Input(shape=(None, d_model), name=\"encoder_outputs\")\n",
        "  look_ahead_mask = tf.keras.Input(\n",
        "      shape=(1, None, None), name=\"look_ahead_mask\")\n",
        "  padding_mask = tf.keras.Input(shape=(1, 1, None), name='padding_mask')\n",
        "\n",
        "  # 첫 번째 서브 레이어 : 멀티 헤드 어텐션 수행 (셀프 어텐션)\n",
        "  attention1 = MultiHeadAttention(\n",
        "      d_model, num_heads, name=\"attention_1\")(inputs={\n",
        "          'query': inputs,\n",
        "          'key': inputs,\n",
        "          'value': inputs,\n",
        "          'mask': look_ahead_mask\n",
        "      })\n",
        "\n",
        "  # 멀티 헤드 어텐션의 결과는 LayerNormalization이라는 훈련을 돕는 테크닉을 수행\n",
        "  attention1 = tf.keras.layers.LayerNormalization(\n",
        "      epsilon=1e-6)(attention1 + inputs)\n",
        "\n",
        "  # 두 번째 서브 레이어 : 마스크드 멀티 헤드 어텐션 수행 (인코더-디코더 어텐션)\n",
        "  attention2 = MultiHeadAttention(\n",
        "      d_model, num_heads, name=\"attention_2\")(inputs={\n",
        "          'query': attention1,\n",
        "          'key': enc_outputs,\n",
        "          'value': enc_outputs,\n",
        "          'mask': padding_mask\n",
        "      })\n",
        "\n",
        "  # 마스크드 멀티 헤드 어텐션의 결과는\n",
        "  # Dropout과 LayerNormalization이라는 훈련을 돕는 테크닉을 수행\n",
        "  attention2 = tf.keras.layers.Dropout(rate=dropout)(attention2)\n",
        "  attention2 = tf.keras.layers.LayerNormalization(\n",
        "      epsilon=1e-6)(attention2 + attention1)\n",
        "\n",
        "  # 세 번째 서브 레이어 : 2개의 완전연결층\n",
        "  outputs = tf.keras.layers.Dense(units=units, activation='relu')(attention2)\n",
        "  outputs = tf.keras.layers.Dense(units=d_model)(outputs)\n",
        "\n",
        "  # 완전연결층의 결과는 Dropout과 LayerNormalization 수행\n",
        "  outputs = tf.keras.layers.Dropout(rate=dropout)(outputs)\n",
        "  outputs = tf.keras.layers.LayerNormalization(\n",
        "      epsilon=1e-6)(outputs + attention2)\n",
        "\n",
        "  return tf.keras.Model(\n",
        "      inputs=[inputs, enc_outputs, look_ahead_mask, padding_mask],\n",
        "      outputs=outputs,\n",
        "      name=name)\n",
        "print(\"슝=3\")"
      ]
    },
    {
      "cell_type": "code",
      "execution_count": 10,
      "metadata": {
        "colab": {
          "base_uri": "https://localhost:8080/"
        },
        "id": "tsQL7HvXgIQ8",
        "outputId": "a89b7b9c-badc-4e4f-94c0-a3b8f2b3c525"
      },
      "outputs": [
        {
          "output_type": "stream",
          "name": "stdout",
          "text": [
            "슝=3\n"
          ]
        }
      ],
      "source": [
        "def decoder(vocab_size,\n",
        "            num_layers,\n",
        "            units,\n",
        "            d_model,\n",
        "            num_heads,\n",
        "            dropout,\n",
        "            name='decoder'):\n",
        "  inputs = tf.keras.Input(shape=(None,), name='inputs')\n",
        "  enc_outputs = tf.keras.Input(shape=(None, d_model), name='encoder_outputs')\n",
        "  look_ahead_mask = tf.keras.Input(\n",
        "      shape=(1, None, None), name='look_ahead_mask')\n",
        "\n",
        "  # 패딩 마스크\n",
        "  padding_mask = tf.keras.Input(shape=(1, 1, None), name='padding_mask')\n",
        "  \n",
        "  # 임베딩 레이어\n",
        "  embeddings = tf.keras.layers.Embedding(vocab_size, d_model)(inputs)\n",
        "  embeddings *= tf.math.sqrt(tf.cast(d_model, tf.float32))\n",
        "\n",
        "  # 포지셔널 인코딩\n",
        "  embeddings = PositionalEncoding(vocab_size, d_model)(embeddings)\n",
        "\n",
        "  # Dropout이라는 훈련을 돕는 테크닉을 수행\n",
        "  outputs = tf.keras.layers.Dropout(rate=dropout)(embeddings)\n",
        "\n",
        "  for i in range(num_layers):\n",
        "    outputs = decoder_layer(\n",
        "        units=units,\n",
        "        d_model=d_model,\n",
        "        num_heads=num_heads,\n",
        "        dropout=dropout,\n",
        "        name='decoder_layer_{}'.format(i),\n",
        "    )(inputs=[outputs, enc_outputs, look_ahead_mask, padding_mask])\n",
        "\n",
        "  return tf.keras.Model(\n",
        "      inputs=[inputs, enc_outputs, look_ahead_mask, padding_mask],\n",
        "      outputs=outputs,\n",
        "      name=name)\n",
        "print(\"슝=3\")"
      ]
    },
    {
      "cell_type": "code",
      "execution_count": 10,
      "metadata": {
        "id": "MGZLIDwxf-io"
      },
      "outputs": [],
      "source": [
        ""
      ]
    },
    {
      "cell_type": "code",
      "execution_count": 11,
      "metadata": {
        "colab": {
          "base_uri": "https://localhost:8080/"
        },
        "id": "zkwND7z-ed2F",
        "outputId": "007385b2-b278-47b6-9e75-bda8bb95ddf8"
      },
      "outputs": [
        {
          "output_type": "stream",
          "name": "stdout",
          "text": [
            "슝=3\n"
          ]
        }
      ],
      "source": [
        "data = pd.read_csv('/gdrive/My Drive/Colab Notebooks/data/ChatbotData.csv')\n",
        "\n",
        "print(\"슝=3\")"
      ]
    },
    {
      "cell_type": "code",
      "execution_count": 12,
      "metadata": {
        "id": "TYeMs-R4g1YU"
      },
      "outputs": [],
      "source": [
        "# 전처리 함수\n",
        "\n",
        "\n",
        "def preprocess_sentence(sentence):\n",
        "# 영어 포함 시 소문자 변환, 양쪽 공백 제거\n",
        "  sentence = sentence.lower().strip()\n",
        "\n",
        "# 단어와 구두점 사이 공백 추가\n",
        "  sentence = re.sub(r\"([?.!,])\", r\" \\1 \", sentence)\n",
        "  sentence = re.sub(r'[\" \"]+', \" \", sentence)\n",
        "\n",
        "# 한글, 알파벳, .,?!을 제외한 문자 공백으로 대체\n",
        "  sentence = re.sub(r\"[^가-힣a-zA-Z0-9?.!,]+\", \" \", sentence)#한글이랑 숫자 들어가게\n",
        "  sentence = sentence.strip()\n",
        "\n",
        "  return sentence"
      ]
    },
    {
      "cell_type": "code",
      "execution_count": 13,
      "metadata": {
        "id": "5JkEfZSKg1bE"
      },
      "outputs": [],
      "source": [
        "# 질문과 답변의 쌍인 데이터셋을 구성하기 위한 데이터 로드 함수\n",
        "def load_conversations():\n",
        "\n",
        "# 라벨 데이터가 있으니 빈 리스트를 하나 더 생성, 따로 담을것.\n",
        "  inputs, outputs, label = [], [], []\n",
        "# 데이터셋을 연다.\n",
        "  with open('/gdrive/My Drive/Colab Notebooks/data/ChatbotData.csv', 'r') as file:\n",
        "# 줄 단위로 읽어오기.\n",
        "    lines = file.readlines()\n",
        "\n",
        "  for line in lines[1:]:\n",
        "    # 프로젝트의 데이터셋은 각 줄마다 쉼표 구분된 Q, A, label 로 구성\n",
        "    # 첫줄은 컬럼의 역할을 하므로 제외\n",
        "    # 줄바꿈 기호 제거\n",
        "    # 쉼표 기준으로 스플릿한다\n",
        "      conversation = line.replace('\\n', '').split(',')\n",
        "      # Q, A, label을 각각 전처리 후 리스트에 추가.\n",
        "      inputs.append(preprocess_sentence(conversation[0]))\n",
        "      outputs.append(preprocess_sentence(conversation[1]))\n",
        "      label.append(conversation[2])\n",
        "\n",
        "  return inputs, outputs, label"
      ]
    },
    {
      "cell_type": "code",
      "execution_count": 14,
      "metadata": {
        "colab": {
          "base_uri": "https://localhost:8080/"
        },
        "id": "0R2FnL6pg7S-",
        "outputId": "765b8cc7-0306-4930-ed22-410973ba2841"
      },
      "outputs": [
        {
          "output_type": "stream",
          "name": "stdout",
          "text": [
            "전체 샘플 수 : 11823\n",
            "전체 샘플 수 : 11823\n"
          ]
        }
      ],
      "source": [
        "# 데이터를 로드하고 전처리하여 질문을 questions, 답변을 answers에 저장합니다.\n",
        "questions, answers, label = load_conversations()\n",
        "print('전체 샘플 수 :', len(questions))\n",
        "print('전체 샘플 수 :', len(answers))"
      ]
    },
    {
      "cell_type": "code",
      "execution_count": 15,
      "metadata": {
        "colab": {
          "base_uri": "https://localhost:8080/"
        },
        "id": "bP35f8thmlgx",
        "outputId": "1d350077-8a4d-493c-c927-ca8b06e33c0f"
      },
      "outputs": [
        {
          "output_type": "stream",
          "name": "stdout",
          "text": [
            "질문의 최대 길이 : 16\n",
            "질문의 최대 길이 : 24\n"
          ]
        }
      ],
      "source": [
        "question_len = [len(s.split()) for s in questions]\n",
        "answer_len = [len(s.split()) for s in answers]\n",
        "\n",
        "print('질문의 최대 길이 : {}'.format(np.max(question_len)))\n",
        "print('질문의 최대 길이 : {}'.format(np.max(answer_len)))"
      ]
    },
    {
      "cell_type": "code",
      "execution_count": 16,
      "metadata": {
        "colab": {
          "base_uri": "https://localhost:8080/"
        },
        "id": "385zStwKg8Th",
        "outputId": "50f01c1a-afde-42e2-bcdf-2907c66a1119"
      },
      "outputs": [
        {
          "output_type": "stream",
          "name": "stdout",
          "text": [
            "전처리 후의 22번째 질문 샘플: 가스비 장난 아님\n",
            "전처리 후의 22번째 답변 샘플: 다음 달에는 더 절약해봐요 .\n"
          ]
        }
      ],
      "source": [
        "print('전처리 후의 22번째 질문 샘플: {}'.format(questions[21]))\n",
        "print('전처리 후의 22번째 답변 샘플: {}'.format(answers[21]))"
      ]
    },
    {
      "cell_type": "markdown",
      "source": [
        "## Step 3. SubwordTextEncoder 사용하기\n",
        "\n",
        "한국어 데이터는 형태소 분석기를 사용하여 토크나이징을 해야 한다고 많은 분이 알고 있습니다. 하지만 여기서는 형태소 분석기가 아닌 위 실습에서 사용했던 내부 단어 토크나이저인 ```SubwordTextEncoder```를 그대로 사용해보세요."
      ],
      "metadata": {
        "id": "0v7wh213BTSE"
      }
    },
    {
      "cell_type": "code",
      "execution_count": 17,
      "metadata": {
        "colab": {
          "base_uri": "https://localhost:8080/"
        },
        "id": "B0OCBkBHkcKf",
        "outputId": "859af0c2-97e6-491a-db01-6f14ace8c79d"
      },
      "outputs": [
        {
          "output_type": "stream",
          "name": "stdout",
          "text": [
            "살짝 오래 걸릴 수 있어요. 스트레칭 한 번 해볼까요? 👐\n",
            "슝=3 \n"
          ]
        }
      ],
      "source": [
        "import tensorflow_datasets as tfds\n",
        "print(\"살짝 오래 걸릴 수 있어요. 스트레칭 한 번 해볼까요? 👐\")\n",
        "\n",
        "# 질문과 답변 데이터셋에 대해서 Vocabulary 생성. (Tensorflow 2.3.0 이상) (클라우드는 2.4 입니다)\n",
        "tokenizer = tfds.deprecated.text.SubwordTextEncoder.build_from_corpus(questions + answers, target_vocab_size=2**13)\n",
        "print(\"슝=3 \")"
      ]
    },
    {
      "cell_type": "code",
      "execution_count": 18,
      "metadata": {
        "colab": {
          "base_uri": "https://localhost:8080/"
        },
        "id": "UTM0jjy9ke6Y",
        "outputId": "531f85aa-1174-4769-c13f-8826464b806f"
      },
      "outputs": [
        {
          "output_type": "stream",
          "name": "stdout",
          "text": [
            "슝=3\n"
          ]
        }
      ],
      "source": [
        "# 시작 토큰과 종료 토큰에 고유한 정수를 부여합니다.\n",
        "START_TOKEN, END_TOKEN = [tokenizer.vocab_size], [tokenizer.vocab_size + 1]\n",
        "print(\"슝=3\")"
      ]
    },
    {
      "cell_type": "code",
      "execution_count": 19,
      "metadata": {
        "colab": {
          "base_uri": "https://localhost:8080/"
        },
        "id": "h7J_50UfkgFj",
        "outputId": "f460e0ad-e2ac-4ee8-f67f-866cd2e39787"
      },
      "outputs": [
        {
          "output_type": "stream",
          "name": "stdout",
          "text": [
            "START_TOKEN의 번호 : [8139]\n",
            "END_TOKEN의 번호 : [8140]\n"
          ]
        }
      ],
      "source": [
        "print('START_TOKEN의 번호 :' ,[tokenizer.vocab_size])\n",
        "print('END_TOKEN의 번호 :' ,[tokenizer.vocab_size + 1])"
      ]
    },
    {
      "cell_type": "code",
      "execution_count": 20,
      "metadata": {
        "colab": {
          "base_uri": "https://localhost:8080/"
        },
        "id": "HvNtJFmmkhEc",
        "outputId": "4bd2eaa9-87f8-4889-d5f0-32dda99c5d59"
      },
      "outputs": [
        {
          "output_type": "stream",
          "name": "stdout",
          "text": [
            "8141\n"
          ]
        }
      ],
      "source": [
        "# 시작 토큰과 종료 토큰을 고려하여 +2를 하여 단어장의 크기를 산정합니다.\n",
        "VOCAB_SIZE = tokenizer.vocab_size + 2\n",
        "print(VOCAB_SIZE)"
      ]
    },
    {
      "cell_type": "code",
      "execution_count": 21,
      "metadata": {
        "colab": {
          "base_uri": "https://localhost:8080/"
        },
        "id": "ydp3C5XFkiDK",
        "outputId": "93e02c99-ecaf-43bb-f579-6ffd691a8136"
      },
      "outputs": [
        {
          "output_type": "stream",
          "name": "stdout",
          "text": [
            "정수 인코딩 후의 21번째 질문 샘플: [5736, 607, 2478, 4139]\n",
            "정수 인코딩 후의 21번째 답변 샘플: [2347, 7483, 7, 6246, 95, 1]\n"
          ]
        }
      ],
      "source": [
        "# 임의의 22번째 샘플에 대해서 정수 인코딩 작업을 수행.\n",
        "# 각 토큰을 고유한 정수로 변환\n",
        "print('정수 인코딩 후의 21번째 질문 샘플: {}'.format(tokenizer.encode(questions[21])))\n",
        "print('정수 인코딩 후의 21번째 답변 샘플: {}'.format(tokenizer.encode(answers[21])))"
      ]
    },
    {
      "cell_type": "code",
      "execution_count": 22,
      "metadata": {
        "colab": {
          "base_uri": "https://localhost:8080/",
          "height": 265
        },
        "id": "lCcEBx26okv1",
        "outputId": "90388018-5059-4703-a616-4bd58f758386"
      },
      "outputs": [
        {
          "output_type": "display_data",
          "data": {
            "image/png": "[encoded data removed]",
            "text/plain": [
              "<Figure size 432x288 with 1 Axes>"
            ]
          },
          "metadata": {
            "needs_background": "light"
          }
        }
      ],
      "source": [
        "\n",
        "import matplotlib.pyplot as plt\n",
        "\n",
        "weight = question_len\n",
        "\n",
        "plt.hist(weight)\n",
        "\n",
        "plt.show()"
      ]
    },
    {
      "cell_type": "code",
      "execution_count": 23,
      "metadata": {
        "colab": {
          "base_uri": "https://localhost:8080/",
          "height": 265
        },
        "id": "-dr_pSbKoyP-",
        "outputId": "1b5aa6c6-7bf0-479c-9068-8ff0414cfc5a"
      },
      "outputs": [
        {
          "output_type": "display_data",
          "data": {
            "image/png": "[encoded data removed]",
            "text/plain": [
              "<Figure size 432x288 with 1 Axes>"
            ]
          },
          "metadata": {
            "needs_background": "light"
          }
        }
      ],
      "source": [
        "weight = answer_len\n",
        "\n",
        "plt.hist(weight)\n",
        "\n",
        "plt.show()"
      ]
    },
    {
      "cell_type": "code",
      "execution_count": 24,
      "metadata": {
        "colab": {
          "base_uri": "https://localhost:8080/"
        },
        "id": "FqTDXsSFkjK7",
        "outputId": "0ee694c8-0fc6-4cae-8781-acb37aaf5012"
      },
      "outputs": [
        {
          "output_type": "stream",
          "name": "stdout",
          "text": [
            "9\n"
          ]
        }
      ],
      "source": [
        "# 샘플의 최대 허용 길이 또는 패딩 후의 최종 길이\n",
        "MAX_LENGTH = 9\n",
        "print(MAX_LENGTH)"
      ]
    },
    {
      "cell_type": "code",
      "execution_count": 25,
      "metadata": {
        "colab": {
          "base_uri": "https://localhost:8080/"
        },
        "id": "e5NYzX3-kkWZ",
        "outputId": "38309d34-9489-46da-8b89-f9a3fec4ecf9"
      },
      "outputs": [
        {
          "output_type": "stream",
          "name": "stdout",
          "text": [
            "슝=3\n"
          ]
        }
      ],
      "source": [
        "# 정수 인코딩, 최대 길이를 초과하는 샘플 제거, 패딩\n",
        "def tokenize_and_filter(inputs, outputs):\n",
        "  tokenized_inputs, tokenized_outputs = [], []\n",
        "  \n",
        "  for (sentence1, sentence2) in zip(inputs, outputs):\n",
        "    # 정수 인코딩 과정에서 시작 토큰과 종료 토큰을 추가\n",
        "    sentence1 = START_TOKEN + tokenizer.encode(sentence1) + END_TOKEN\n",
        "    sentence2 = START_TOKEN + tokenizer.encode(sentence2) + END_TOKEN\n",
        "\n",
        "    # 최대 길이 40 이하인 경우에만 데이터셋으로 허용\n",
        "    if len(sentence1) <= MAX_LENGTH and len(sentence2) <= MAX_LENGTH:\n",
        "      tokenized_inputs.append(sentence1)\n",
        "      tokenized_outputs.append(sentence2)\n",
        "  \n",
        "  # 최대 길이 40으로 모든 데이터셋을 패딩\n",
        "  tokenized_inputs = tf.keras.preprocessing.sequence.pad_sequences(\n",
        "      tokenized_inputs, maxlen=MAX_LENGTH, padding='post')\n",
        "  tokenized_outputs = tf.keras.preprocessing.sequence.pad_sequences(\n",
        "      tokenized_outputs, maxlen=MAX_LENGTH, padding='post')\n",
        "  \n",
        "  return tokenized_inputs, tokenized_outputs\n",
        "print(\"슝=3\")"
      ]
    },
    {
      "cell_type": "code",
      "execution_count": 26,
      "metadata": {
        "colab": {
          "base_uri": "https://localhost:8080/"
        },
        "id": "T85Ah5-WklhN",
        "outputId": "fcbf2979-6b8d-4d15-c93e-f0b03b8decbf"
      },
      "outputs": [
        {
          "output_type": "stream",
          "name": "stdout",
          "text": [
            "단어장의 크기 : 8141\n",
            "필터링 후의 질문 샘플 개수: 7861\n",
            "필터링 후의 답변 샘플 개수: 7861\n"
          ]
        }
      ],
      "source": [
        "questions, answers = tokenize_and_filter(questions, answers)\n",
        "print('단어장의 크기 :',(VOCAB_SIZE))\n",
        "print('필터링 후의 질문 샘플 개수: {}'.format(len(questions)))\n",
        "print('필터링 후의 답변 샘플 개수: {}'.format(len(answers)))"
      ]
    },
    {
      "cell_type": "markdown",
      "source": [
        "## Step 4. 모델 구성하기"
      ],
      "metadata": {
        "id": "7g1MuXF6Bf8F"
      }
    },
    {
      "cell_type": "code",
      "execution_count": 27,
      "metadata": {
        "colab": {
          "base_uri": "https://localhost:8080/"
        },
        "id": "JXi2s6yqlPQl",
        "outputId": "5b35f2c5-f7d5-41e0-cf0f-22345a341158"
      },
      "outputs": [
        {
          "output_type": "stream",
          "name": "stdout",
          "text": [
            "슝=3\n"
          ]
        }
      ],
      "source": [
        "BATCH_SIZE = 64\n",
        "BUFFER_SIZE = 20000\n",
        "\n",
        "# 디코더는 이전의 target을 다음의 input으로 사용합니다.\n",
        "# 이에 따라 outputs에서는 START_TOKEN을 제거하겠습니다.\n",
        "dataset = tf.data.Dataset.from_tensor_slices((\n",
        "    {\n",
        "        'inputs': questions,\n",
        "        'dec_inputs': answers[:, :-1]\n",
        "    },\n",
        "    {\n",
        "        'outputs': answers[:, 1:]\n",
        "    },\n",
        "))\n",
        "\n",
        "dataset = dataset.cache()\n",
        "dataset = dataset.shuffle(BUFFER_SIZE)\n",
        "dataset = dataset.batch(BATCH_SIZE)\n",
        "dataset = dataset.prefetch(tf.data.experimental.AUTOTUNE)\n",
        "print(\"슝=3\")"
      ]
    },
    {
      "cell_type": "code",
      "execution_count": 28,
      "metadata": {
        "colab": {
          "base_uri": "https://localhost:8080/"
        },
        "id": "yAXrL3RGlTWn",
        "outputId": "827a1749-6ca8-4b60-8a33-404fbefb8999"
      },
      "outputs": [
        {
          "output_type": "stream",
          "name": "stdout",
          "text": [
            "슝=3\n"
          ]
        }
      ],
      "source": [
        "def transformer(vocab_size,\n",
        "                num_layers,\n",
        "                units,\n",
        "                d_model,\n",
        "                num_heads,\n",
        "                dropout,\n",
        "                name=\"transformer\"):\n",
        "  inputs = tf.keras.Input(shape=(None,), name=\"inputs\")\n",
        "  dec_inputs = tf.keras.Input(shape=(None,), name=\"dec_inputs\")\n",
        "\n",
        "  # 인코더에서 패딩을 위한 마스크\n",
        "  enc_padding_mask = tf.keras.layers.Lambda(\n",
        "      create_padding_mask, output_shape=(1, 1, None),\n",
        "      name='enc_padding_mask')(inputs)\n",
        "\n",
        "  # 디코더에서 미래의 토큰을 마스크 하기 위해서 사용합니다.\n",
        "  # 내부적으로 패딩 마스크도 포함되어져 있습니다.\n",
        "  look_ahead_mask = tf.keras.layers.Lambda(\n",
        "      create_look_ahead_mask,\n",
        "      output_shape=(1, None, None),\n",
        "      name='look_ahead_mask')(dec_inputs)\n",
        "\n",
        "  # 두 번째 어텐션 블록에서 인코더의 벡터들을 마스킹\n",
        "  # 디코더에서 패딩을 위한 마스크\n",
        "  dec_padding_mask = tf.keras.layers.Lambda(\n",
        "      create_padding_mask, output_shape=(1, 1, None),\n",
        "      name='dec_padding_mask')(inputs)\n",
        "\n",
        "  # 인코더\n",
        "  enc_outputs = encoder(\n",
        "      vocab_size=vocab_size,\n",
        "      num_layers=num_layers,\n",
        "      units=units,\n",
        "      d_model=d_model,\n",
        "      num_heads=num_heads,\n",
        "      dropout=dropout,\n",
        "  )(inputs=[inputs, enc_padding_mask])\n",
        "\n",
        "  # 디코더\n",
        "  dec_outputs = decoder(\n",
        "      vocab_size=vocab_size,\n",
        "      num_layers=num_layers,\n",
        "      units=units,\n",
        "      d_model=d_model,\n",
        "      num_heads=num_heads,\n",
        "      dropout=dropout,\n",
        "  )(inputs=[dec_inputs, enc_outputs, look_ahead_mask, dec_padding_mask])\n",
        "\n",
        "  # 완전연결층\n",
        "  outputs = tf.keras.layers.Dense(units=vocab_size, name=\"outputs\")(dec_outputs)\n",
        "\n",
        "  return tf.keras.Model(inputs=[inputs, dec_inputs], outputs=outputs, name=name)\n",
        "print(\"슝=3\")"
      ]
    },
    {
      "cell_type": "code",
      "execution_count": 29,
      "metadata": {
        "colab": {
          "base_uri": "https://localhost:8080/"
        },
        "id": "bTRMtcsklVdQ",
        "outputId": "2d41d1f2-0b30-4dde-f1f8-da7df30b7ec5"
      },
      "outputs": [
        {
          "output_type": "stream",
          "name": "stdout",
          "text": [
            "Model: \"transformer\"\n",
            "__________________________________________________________________________________________________\n",
            " Layer (type)                   Output Shape         Param #     Connected to                     \n",
            "==================================================================================================\n",
            " inputs (InputLayer)            [(None, None)]       0           []                               \n",
            "                                                                                                  \n",
            " dec_inputs (InputLayer)        [(None, None)]       0           []                               \n",
            "                                                                                                  \n",
            " enc_padding_mask (Lambda)      (None, 1, 1, None)   0           ['inputs[0][0]']                 \n",
            "                                                                                                  \n",
            " encoder (Functional)           (None, None, 256)    3138304     ['inputs[0][0]',                 \n",
            "                                                                  'enc_padding_mask[0][0]']       \n",
            "                                                                                                  \n",
            " look_ahead_mask (Lambda)       (None, 1, None, Non  0           ['dec_inputs[0][0]']             \n",
            "                                e)                                                                \n",
            "                                                                                                  \n",
            " dec_padding_mask (Lambda)      (None, 1, 1, None)   0           ['inputs[0][0]']                 \n",
            "                                                                                                  \n",
            " decoder (Functional)           (None, None, 256)    3665664     ['dec_inputs[0][0]',             \n",
            "                                                                  'encoder[0][0]',                \n",
            "                                                                  'look_ahead_mask[0][0]',        \n",
            "                                                                  'dec_padding_mask[0][0]']       \n",
            "                                                                                                  \n",
            " outputs (Dense)                (None, None, 8141)   2092237     ['decoder[0][0]']                \n",
            "                                                                                                  \n",
            "==================================================================================================\n",
            "Total params: 8,896,205\n",
            "Trainable params: 8,896,205\n",
            "Non-trainable params: 0\n",
            "__________________________________________________________________________________________________\n"
          ]
        }
      ],
      "source": [
        "tf.keras.backend.clear_session()\n",
        "\n",
        "# 하이퍼파라미터\n",
        "NUM_LAYERS = 2 # 인코더와 디코더의 층의 개수\n",
        "D_MODEL = 256 # 인코더와 디코더 내부의 입, 출력의 고정 차원\n",
        "NUM_HEADS = 8 # 멀티 헤드 어텐션에서의 헤드 수 \n",
        "UNITS = 512 # 피드 포워드 신경망의 은닉층의 크기\n",
        "DROPOUT = 0.1 # 드롭아웃의 비율\n",
        "\n",
        "model = transformer(\n",
        "    vocab_size=VOCAB_SIZE,\n",
        "    num_layers=NUM_LAYERS,\n",
        "    units=UNITS,\n",
        "    d_model=D_MODEL,\n",
        "    num_heads=NUM_HEADS,\n",
        "    dropout=DROPOUT)\n",
        "\n",
        "model.summary()"
      ]
    },
    {
      "cell_type": "code",
      "execution_count": 30,
      "metadata": {
        "colab": {
          "base_uri": "https://localhost:8080/"
        },
        "id": "FSP3m_94lW4c",
        "outputId": "8328ec80-88ce-49d6-a757-6b7714c86917"
      },
      "outputs": [
        {
          "output_type": "stream",
          "name": "stdout",
          "text": [
            "슝=3\n"
          ]
        }
      ],
      "source": [
        "def loss_function(y_true, y_pred):\n",
        "  y_true = tf.reshape(y_true, shape=(-1, MAX_LENGTH - 1))\n",
        "  \n",
        "  loss = tf.keras.losses.SparseCategoricalCrossentropy(\n",
        "      from_logits=True, reduction='none')(y_true, y_pred)\n",
        "\n",
        "  mask = tf.cast(tf.not_equal(y_true, 0), tf.float32)\n",
        "  loss = tf.multiply(loss, mask)\n",
        "\n",
        "  return tf.reduce_mean(loss)\n",
        "print(\"슝=3\")"
      ]
    },
    {
      "cell_type": "code",
      "execution_count": 31,
      "metadata": {
        "colab": {
          "base_uri": "https://localhost:8080/"
        },
        "id": "lYBhUpozlYOY",
        "outputId": "07eb7234-52f8-4f4c-f122-d1e7ad14dbe7"
      },
      "outputs": [
        {
          "output_type": "stream",
          "name": "stdout",
          "text": [
            "슝=3\n"
          ]
        }
      ],
      "source": [
        "class CustomSchedule(tf.keras.optimizers.schedules.LearningRateSchedule):\n",
        "\n",
        "  def __init__(self, d_model, warmup_steps=4000):\n",
        "    super(CustomSchedule, self).__init__()\n",
        "\n",
        "    self.d_model = d_model\n",
        "    self.d_model = tf.cast(self.d_model, tf.float32)\n",
        "\n",
        "    self.warmup_steps = warmup_steps\n",
        "\n",
        "  def __call__(self, step):\n",
        "    arg1 = tf.math.rsqrt(step)\n",
        "    arg2 = step * (self.warmup_steps**-1.5)\n",
        "\n",
        "    return tf.math.rsqrt(self.d_model) * tf.math.minimum(arg1, arg2)\n",
        "print(\"슝=3\")"
      ]
    },
    {
      "cell_type": "code",
      "execution_count": 32,
      "metadata": {
        "colab": {
          "base_uri": "https://localhost:8080/",
          "height": 297
        },
        "id": "e3t2NkOGlZgf",
        "outputId": "4a1a69bc-40e5-49f0-eb3a-4d1e614c41cd"
      },
      "outputs": [
        {
          "output_type": "execute_result",
          "data": {
            "text/plain": [
              "Text(0.5, 0, 'Train Step')"
            ]
          },
          "metadata": {},
          "execution_count": 32
        },
        {
          "output_type": "display_data",
          "data": {
            "image/png": "[encoded data removed]",
            "text/plain": [
              "<Figure size 432x288 with 1 Axes>"
            ]
          },
          "metadata": {
            "needs_background": "light"
          }
        }
      ],
      "source": [
        "sample_learning_rate = CustomSchedule(d_model=128)\n",
        "\n",
        "plt.plot(sample_learning_rate(tf.range(200000, dtype=tf.float32)))\n",
        "plt.ylabel(\"Learning Rate\")\n",
        "plt.xlabel(\"Train Step\")"
      ]
    },
    {
      "cell_type": "code",
      "execution_count": 33,
      "metadata": {
        "colab": {
          "base_uri": "https://localhost:8080/"
        },
        "id": "7nMBIo4XlapO",
        "outputId": "1bbaaf73-4c0e-407a-864d-465497f8db50"
      },
      "outputs": [
        {
          "output_type": "stream",
          "name": "stdout",
          "text": [
            "슝=3\n"
          ]
        }
      ],
      "source": [
        "learning_rate = CustomSchedule(D_MODEL)\n",
        "\n",
        "optimizer = tf.keras.optimizers.Adam(\n",
        "    learning_rate, beta_1=0.9, beta_2=0.98, epsilon=1e-9)\n",
        "\n",
        "def accuracy(y_true, y_pred):\n",
        "  y_true = tf.reshape(y_true, shape=(-1, MAX_LENGTH - 1))\n",
        "  return tf.keras.metrics.sparse_categorical_accuracy(y_true, y_pred)\n",
        "\n",
        "model.compile(optimizer=optimizer, loss=loss_function, metrics=[accuracy])\n",
        "print(\"슝=3\")"
      ]
    },
    {
      "cell_type": "code",
      "execution_count": 34,
      "metadata": {
        "colab": {
          "base_uri": "https://localhost:8080/"
        },
        "id": "pCu2SF83lb4a",
        "outputId": "f88792c2-be9f-4aff-9baf-13731e16c962"
      },
      "outputs": [
        {
          "output_type": "stream",
          "name": "stdout",
          "text": [
            "Epoch 1/50\n",
            "123/123 [==============================] - 12s 26ms/step - loss: 5.9851 - accuracy: 0.1024\n",
            "Epoch 2/50\n",
            "123/123 [==============================] - 3s 26ms/step - loss: 5.1615 - accuracy: 0.2051\n",
            "Epoch 3/50\n",
            "123/123 [==============================] - 3s 27ms/step - loss: 4.3304 - accuracy: 0.2396\n",
            "Epoch 4/50\n",
            "123/123 [==============================] - 3s 26ms/step - loss: 3.8264 - accuracy: 0.2414\n",
            "Epoch 5/50\n",
            "123/123 [==============================] - 4s 28ms/step - loss: 3.5470 - accuracy: 0.2483\n",
            "Epoch 6/50\n",
            "123/123 [==============================] - 3s 27ms/step - loss: 3.3485 - accuracy: 0.2602\n",
            "Epoch 7/50\n",
            "123/123 [==============================] - 3s 26ms/step - loss: 3.1572 - accuracy: 0.2739\n",
            "Epoch 8/50\n",
            "123/123 [==============================] - 3s 26ms/step - loss: 2.9575 - accuracy: 0.2916\n",
            "Epoch 9/50\n",
            "123/123 [==============================] - 3s 26ms/step - loss: 2.7382 - accuracy: 0.3172\n",
            "Epoch 10/50\n",
            "123/123 [==============================] - 3s 26ms/step - loss: 2.5017 - accuracy: 0.3457\n",
            "Epoch 11/50\n",
            "123/123 [==============================] - 3s 26ms/step - loss: 2.2397 - accuracy: 0.3789\n",
            "Epoch 12/50\n",
            "123/123 [==============================] - 3s 26ms/step - loss: 1.9676 - accuracy: 0.4138\n",
            "Epoch 13/50\n",
            "123/123 [==============================] - 3s 26ms/step - loss: 1.6936 - accuracy: 0.4490\n",
            "Epoch 14/50\n",
            "123/123 [==============================] - 3s 26ms/step - loss: 1.4223 - accuracy: 0.4856\n",
            "Epoch 15/50\n",
            "123/123 [==============================] - 3s 26ms/step - loss: 1.1649 - accuracy: 0.5229\n",
            "Epoch 16/50\n",
            "123/123 [==============================] - 3s 26ms/step - loss: 0.9239 - accuracy: 0.5594\n",
            "Epoch 17/50\n",
            "123/123 [==============================] - 3s 26ms/step - loss: 0.7141 - accuracy: 0.5936\n",
            "Epoch 18/50\n",
            "123/123 [==============================] - 3s 26ms/step - loss: 0.5339 - accuracy: 0.6238\n",
            "Epoch 19/50\n",
            "123/123 [==============================] - 3s 26ms/step - loss: 0.3862 - accuracy: 0.6503\n",
            "Epoch 20/50\n",
            "123/123 [==============================] - 3s 26ms/step - loss: 0.2744 - accuracy: 0.6700\n",
            "Epoch 21/50\n",
            "123/123 [==============================] - 3s 26ms/step - loss: 0.1949 - accuracy: 0.6836\n",
            "Epoch 22/50\n",
            "123/123 [==============================] - 3s 26ms/step - loss: 0.1492 - accuracy: 0.6889\n",
            "Epoch 23/50\n",
            "123/123 [==============================] - 3s 26ms/step - loss: 0.1175 - accuracy: 0.6931\n",
            "Epoch 24/50\n",
            "123/123 [==============================] - 3s 26ms/step - loss: 0.0982 - accuracy: 0.6950\n",
            "Epoch 25/50\n",
            "123/123 [==============================] - 3s 26ms/step - loss: 0.0891 - accuracy: 0.6960\n",
            "Epoch 26/50\n",
            "123/123 [==============================] - 3s 27ms/step - loss: 0.0829 - accuracy: 0.6970\n",
            "Epoch 27/50\n",
            "123/123 [==============================] - 3s 26ms/step - loss: 0.0798 - accuracy: 0.6962\n",
            "Epoch 28/50\n",
            "123/123 [==============================] - 3s 26ms/step - loss: 0.0783 - accuracy: 0.6964\n",
            "Epoch 29/50\n",
            "123/123 [==============================] - 3s 26ms/step - loss: 0.0725 - accuracy: 0.6973\n",
            "Epoch 30/50\n",
            "123/123 [==============================] - 3s 26ms/step - loss: 0.0748 - accuracy: 0.6963\n",
            "Epoch 31/50\n",
            "123/123 [==============================] - 3s 26ms/step - loss: 0.0738 - accuracy: 0.6965\n",
            "Epoch 32/50\n",
            "123/123 [==============================] - 3s 26ms/step - loss: 0.0730 - accuracy: 0.6966\n",
            "Epoch 33/50\n",
            "123/123 [==============================] - 3s 26ms/step - loss: 0.0746 - accuracy: 0.6960\n",
            "Epoch 34/50\n",
            "123/123 [==============================] - 3s 26ms/step - loss: 0.0685 - accuracy: 0.6974\n",
            "Epoch 35/50\n",
            "123/123 [==============================] - 3s 26ms/step - loss: 0.0631 - accuracy: 0.6988\n",
            "Epoch 36/50\n",
            "123/123 [==============================] - 3s 26ms/step - loss: 0.0581 - accuracy: 0.7003\n",
            "Epoch 37/50\n",
            "123/123 [==============================] - 3s 26ms/step - loss: 0.0547 - accuracy: 0.7008\n",
            "Epoch 38/50\n",
            "123/123 [==============================] - 3s 26ms/step - loss: 0.0495 - accuracy: 0.7020\n",
            "Epoch 39/50\n",
            "123/123 [==============================] - 3s 26ms/step - loss: 0.0447 - accuracy: 0.7030\n",
            "Epoch 40/50\n",
            "123/123 [==============================] - 3s 26ms/step - loss: 0.0445 - accuracy: 0.7033\n",
            "Epoch 41/50\n",
            "123/123 [==============================] - 3s 26ms/step - loss: 0.0408 - accuracy: 0.7043\n",
            "Epoch 42/50\n",
            "123/123 [==============================] - 3s 26ms/step - loss: 0.0398 - accuracy: 0.7051\n",
            "Epoch 43/50\n",
            "123/123 [==============================] - 3s 26ms/step - loss: 0.0349 - accuracy: 0.7054\n",
            "Epoch 44/50\n",
            "123/123 [==============================] - 3s 26ms/step - loss: 0.0346 - accuracy: 0.7058\n",
            "Epoch 45/50\n",
            "123/123 [==============================] - 3s 26ms/step - loss: 0.0318 - accuracy: 0.7066\n",
            "Epoch 46/50\n",
            "123/123 [==============================] - 3s 26ms/step - loss: 0.0304 - accuracy: 0.7069\n",
            "Epoch 47/50\n",
            "123/123 [==============================] - 3s 26ms/step - loss: 0.0269 - accuracy: 0.7077\n",
            "Epoch 48/50\n",
            "123/123 [==============================] - 3s 26ms/step - loss: 0.0296 - accuracy: 0.7074\n",
            "Epoch 49/50\n",
            "123/123 [==============================] - 3s 26ms/step - loss: 0.0297 - accuracy: 0.7071\n",
            "Epoch 50/50\n",
            "123/123 [==============================] - 3s 26ms/step - loss: 0.0251 - accuracy: 0.7082\n"
          ]
        },
        {
          "output_type": "execute_result",
          "data": {
            "text/plain": [
              "<keras.callbacks.History at 0x7f1b50380c50>"
            ]
          },
          "metadata": {},
          "execution_count": 34
        }
      ],
      "source": [
        "EPOCHS = 50\n",
        "model.fit(dataset, epochs=EPOCHS, verbose=1)"
      ]
    },
    {
      "cell_type": "markdown",
      "source": [
        "## Step 5. 모델 평가하기"
      ],
      "metadata": {
        "id": "qxOJFaduBmWr"
      }
    },
    {
      "cell_type": "code",
      "execution_count": 35,
      "metadata": {
        "id": "-TH0hKoxldtw",
        "colab": {
          "base_uri": "https://localhost:8080/"
        },
        "outputId": "9b54628e-d7e7-4330-cf23-bc1d6e5ea016"
      },
      "outputs": [
        {
          "output_type": "stream",
          "name": "stdout",
          "text": [
            "슝=3\n"
          ]
        }
      ],
      "source": [
        "def decoder_inference(sentence):\n",
        "  sentence = preprocess_sentence(sentence)\n",
        "\n",
        "  # 입력된 문장을 정수 인코딩 후, 시작 토큰과 종료 토큰을 앞뒤로 추가.\n",
        "  # ex) Where have you been? → [[8331   86   30    5 1059    7 8332]]\n",
        "  sentence = tf.expand_dims(\n",
        "      START_TOKEN + tokenizer.encode(sentence) + END_TOKEN, axis=0)\n",
        "\n",
        "  # 디코더의 현재까지의 예측한 출력 시퀀스가 지속적으로 저장되는 변수.\n",
        "  # 처음에는 예측한 내용이 없음으로 시작 토큰만 별도 저장. ex) 8331\n",
        "  output_sequence = tf.expand_dims(START_TOKEN, 0)\n",
        "\n",
        "  # 디코더의 인퍼런스 단계\n",
        "  for i in range(MAX_LENGTH):\n",
        "    # 디코더는 최대 MAX_LENGTH의 길이만큼 다음 단어 예측을 반복합니다.\n",
        "    predictions = model(inputs=[sentence, output_sequence], training=False)\n",
        "    predictions = predictions[:, -1:, :]\n",
        "\n",
        "    # 현재 예측한 단어의 정수\n",
        "    predicted_id = tf.cast(tf.argmax(predictions, axis=-1), tf.int32)\n",
        "\n",
        "    # 만약 현재 예측한 단어가 종료 토큰이라면 for문을 종료\n",
        "    if tf.equal(predicted_id, END_TOKEN[0]):\n",
        "      break\n",
        "\n",
        "    # 예측한 단어들은 지속적으로 output_sequence에 추가됩니다.\n",
        "    # 이 output_sequence는 다시 디코더의 입력이 됩니다.\n",
        "    output_sequence = tf.concat([output_sequence, predicted_id], axis=-1)\n",
        "\n",
        "  return tf.squeeze(output_sequence, axis=0)\n",
        "print(\"슝=3\")"
      ]
    },
    {
      "cell_type": "code",
      "execution_count": 36,
      "metadata": {
        "id": "KpxcDozRlfGV",
        "colab": {
          "base_uri": "https://localhost:8080/"
        },
        "outputId": "ea031c83-af11-40b8-bd3b-2c07892c1690"
      },
      "outputs": [
        {
          "output_type": "stream",
          "name": "stdout",
          "text": [
            "슝=3\n"
          ]
        }
      ],
      "source": [
        "def sentence_generation(sentence):\n",
        "  # 입력 문장에 대해서 디코더를 동작 시켜 예측된 정수 시퀀스를 리턴받습니다.\n",
        "  prediction = decoder_inference(sentence)\n",
        "\n",
        "  # 정수 시퀀스를 다시 텍스트 시퀀스로 변환합니다.\n",
        "  predicted_sentence = tokenizer.decode(\n",
        "      [i for i in prediction if i < tokenizer.vocab_size])\n",
        "\n",
        "  print('입력 : {}'.format(sentence))\n",
        "  print('출력 : {}'.format(predicted_sentence))\n",
        "\n",
        "  return predicted_sentence\n",
        "print(\"슝=3\")"
      ]
    },
    {
      "cell_type": "code",
      "execution_count": 37,
      "metadata": {
        "id": "Bsm2sNPjlj7t",
        "colab": {
          "base_uri": "https://localhost:8080/",
          "height": 72
        },
        "outputId": "08634738-dbdf-4e4c-b877-0d0b3c979ea5"
      },
      "outputs": [
        {
          "output_type": "stream",
          "name": "stdout",
          "text": [
            "입력 : 수영\n",
            "출력 : 강습 받아보세요 .\n"
          ]
        },
        {
          "output_type": "execute_result",
          "data": {
            "application/vnd.google.colaboratory.intrinsic+json": {
              "type": "string"
            },
            "text/plain": [
              "'강습 받아보세요 .'"
            ]
          },
          "metadata": {},
          "execution_count": 37
        }
      ],
      "source": [
        "sentence_generation('수영')"
      ]
    },
    {
      "cell_type": "code",
      "execution_count": 38,
      "metadata": {
        "id": "THUQPlRNuQhw",
        "colab": {
          "base_uri": "https://localhost:8080/",
          "height": 72
        },
        "outputId": "e93ea6e3-6673-49de-8d31-65660efdccf4"
      },
      "outputs": [
        {
          "output_type": "stream",
          "name": "stdout",
          "text": [
            "입력 : 노래\n",
            "출력 : 노래가 당신의 이야기랑 비슷한가봐요 .\n"
          ]
        },
        {
          "output_type": "execute_result",
          "data": {
            "application/vnd.google.colaboratory.intrinsic+json": {
              "type": "string"
            },
            "text/plain": [
              "'노래가 당신의 이야기랑 비슷한가봐요 .'"
            ]
          },
          "metadata": {},
          "execution_count": 38
        }
      ],
      "source": [
        "sentence_generation('노래')"
      ]
    },
    {
      "cell_type": "code",
      "execution_count": 39,
      "metadata": {
        "id": "k5islCURuX_U",
        "colab": {
          "base_uri": "https://localhost:8080/",
          "height": 72
        },
        "outputId": "fc282546-2125-4442-cab0-487a11b65dcb"
      },
      "outputs": [
        {
          "output_type": "stream",
          "name": "stdout",
          "text": [
            "입력 : 대머리\n",
            "출력 : 바쁘면 좋을거죠 .\n"
          ]
        },
        {
          "output_type": "execute_result",
          "data": {
            "application/vnd.google.colaboratory.intrinsic+json": {
              "type": "string"
            },
            "text/plain": [
              "'바쁘면 좋을거죠 .'"
            ]
          },
          "metadata": {},
          "execution_count": 39
        }
      ],
      "source": [
        "sentence_generation('대머리')"
      ]
    },
    {
      "cell_type": "markdown",
      "source": [
        "# Step 6. 하이퍼파라미터 바꿔보기\n",
        "\n",
        "```\n",
        "NUM_LAYERS = 2 \n",
        "D_MODEL = 256\n",
        "```\n",
        "\n",
        "```\n",
        "NUM_LAYERS = 6 \n",
        "D_MODEL = 512 \n",
        "```"
      ],
      "metadata": {
        "id": "DqSE4XZvBsG2"
      }
    },
    {
      "cell_type": "code",
      "source": [
        "tf.keras.backend.clear_session()\n",
        "\n",
        "# 하이퍼파라미터\n",
        "NUM_LAYERS = 6 # 인코더와 디코더의 층의 개수\n",
        "D_MODEL = 512 # 인코더와 디코더 내부의 입, 출력의 고정 차원\n",
        "NUM_HEADS = 8 # 멀티 헤드 어텐션에서의 헤드 수 \n",
        "UNITS = 512 # 피드 포워드 신경망의 은닉층의 크기\n",
        "DROPOUT = 0.1 # 드롭아웃의 비율\n",
        "\n",
        "model = transformer(\n",
        "    vocab_size=VOCAB_SIZE,\n",
        "    num_layers=NUM_LAYERS,\n",
        "    units=UNITS,\n",
        "    d_model=D_MODEL,\n",
        "    num_heads=NUM_HEADS,\n",
        "    dropout=DROPOUT)\n",
        "\n",
        "model.summary()"
      ],
      "metadata": {
        "id": "mrariBQMABOk",
        "colab": {
          "base_uri": "https://localhost:8080/"
        },
        "outputId": "6204eb07-abe0-4fd0-d10e-f270809d8224"
      },
      "execution_count": 40,
      "outputs": [
        {
          "output_type": "stream",
          "name": "stdout",
          "text": [
            "Model: \"transformer\"\n",
            "__________________________________________________________________________________________________\n",
            " Layer (type)                   Output Shape         Param #     Connected to                     \n",
            "==================================================================================================\n",
            " inputs (InputLayer)            [(None, None)]       0           []                               \n",
            "                                                                                                  \n",
            " dec_inputs (InputLayer)        [(None, None)]       0           []                               \n",
            "                                                                                                  \n",
            " enc_padding_mask (Lambda)      (None, 1, 1, None)   0           ['inputs[0][0]']                 \n",
            "                                                                                                  \n",
            " encoder (Functional)           (None, None, 512)    13636096    ['inputs[0][0]',                 \n",
            "                                                                  'enc_padding_mask[0][0]']       \n",
            "                                                                                                  \n",
            " look_ahead_mask (Lambda)       (None, 1, None, Non  0           ['dec_inputs[0][0]']             \n",
            "                                e)                                                                \n",
            "                                                                                                  \n",
            " dec_padding_mask (Lambda)      (None, 1, 1, None)   0           ['inputs[0][0]']                 \n",
            "                                                                                                  \n",
            " decoder (Functional)           (None, None, 512)    19945984    ['dec_inputs[0][0]',             \n",
            "                                                                  'encoder[0][0]',                \n",
            "                                                                  'look_ahead_mask[0][0]',        \n",
            "                                                                  'dec_padding_mask[0][0]']       \n",
            "                                                                                                  \n",
            " outputs (Dense)                (None, None, 8141)   4176333     ['decoder[0][0]']                \n",
            "                                                                                                  \n",
            "==================================================================================================\n",
            "Total params: 37,758,413\n",
            "Trainable params: 37,758,413\n",
            "Non-trainable params: 0\n",
            "__________________________________________________________________________________________________\n"
          ]
        }
      ]
    },
    {
      "cell_type": "code",
      "source": [
        "learning_rate = CustomSchedule(D_MODEL)\n",
        "\n",
        "optimizer = tf.keras.optimizers.Adam(learning_rate, beta_1=0.9, beta_2=0.98, epsilon=1e-9)\n",
        "\n",
        "def accuracy(y_true, y_pred):\n",
        "    y_true = tf.reshape(y_true, shape=(-1, MAX_LENGTH - 1))\n",
        "    return tf.keras.metrics.sparse_categorical_accuracy(y_true, y_pred)\n",
        "\n",
        "model.compile(optimizer=optimizer, loss=loss_function, metrics=[accuracy])"
      ],
      "metadata": {
        "id": "pyht0yyGADPE"
      },
      "execution_count": 41,
      "outputs": []
    },
    {
      "cell_type": "code",
      "source": [
        "from keras.callbacks import EarlyStopping\n",
        "es = EarlyStopping(monitor='val_loss', patience=2, verbose=1)\n",
        "EPOCHS = 50\n",
        "early_stopping = EarlyStopping()\n",
        "model.fit(dataset, epochs=EPOCHS, verbose=1)"
      ],
      "metadata": {
        "id": "DqdnWViVAD5b",
        "colab": {
          "base_uri": "https://localhost:8080/"
        },
        "outputId": "0c7ba53e-e5e7-44fa-e09a-ef1c10fdb50c"
      },
      "execution_count": 42,
      "outputs": [
        {
          "output_type": "stream",
          "name": "stdout",
          "text": [
            "Epoch 1/50\n",
            "123/123 [==============================] - 25s 70ms/step - loss: 5.5782 - accuracy: 0.1021\n",
            "Epoch 2/50\n",
            "123/123 [==============================] - 9s 70ms/step - loss: 4.4945 - accuracy: 0.2043\n",
            "Epoch 3/50\n",
            "123/123 [==============================] - 9s 72ms/step - loss: 3.8972 - accuracy: 0.2404\n",
            "Epoch 4/50\n",
            "123/123 [==============================] - 9s 70ms/step - loss: 3.6696 - accuracy: 0.2430\n",
            "Epoch 5/50\n",
            "123/123 [==============================] - 9s 71ms/step - loss: 3.5312 - accuracy: 0.2490\n",
            "Epoch 6/50\n",
            "123/123 [==============================] - 9s 71ms/step - loss: 3.4323 - accuracy: 0.2526\n",
            "Epoch 7/50\n",
            "123/123 [==============================] - 9s 71ms/step - loss: 3.3335 - accuracy: 0.2574\n",
            "Epoch 8/50\n",
            "123/123 [==============================] - 9s 71ms/step - loss: 3.2309 - accuracy: 0.2629\n",
            "Epoch 9/50\n",
            "123/123 [==============================] - 9s 72ms/step - loss: 3.0788 - accuracy: 0.2713\n",
            "Epoch 10/50\n",
            "123/123 [==============================] - 9s 72ms/step - loss: 2.8969 - accuracy: 0.2854\n",
            "Epoch 11/50\n",
            "123/123 [==============================] - 9s 71ms/step - loss: 2.6889 - accuracy: 0.3026\n",
            "Epoch 12/50\n",
            "123/123 [==============================] - 9s 71ms/step - loss: 2.4647 - accuracy: 0.3222\n",
            "Epoch 13/50\n",
            "123/123 [==============================] - 9s 71ms/step - loss: 2.2335 - accuracy: 0.3470\n",
            "Epoch 14/50\n",
            "123/123 [==============================] - 9s 70ms/step - loss: 1.9887 - accuracy: 0.3759\n",
            "Epoch 15/50\n",
            "123/123 [==============================] - 9s 70ms/step - loss: 1.7595 - accuracy: 0.4052\n",
            "Epoch 16/50\n",
            "123/123 [==============================] - 9s 69ms/step - loss: 1.5294 - accuracy: 0.4393\n",
            "Epoch 17/50\n",
            "123/123 [==============================] - 9s 70ms/step - loss: 1.3090 - accuracy: 0.4734\n",
            "Epoch 18/50\n",
            "123/123 [==============================] - 9s 70ms/step - loss: 1.1057 - accuracy: 0.5064\n",
            "Epoch 19/50\n",
            "123/123 [==============================] - 9s 70ms/step - loss: 0.9227 - accuracy: 0.5389\n",
            "Epoch 20/50\n",
            "123/123 [==============================] - 9s 70ms/step - loss: 0.7608 - accuracy: 0.5669\n",
            "Epoch 21/50\n",
            "123/123 [==============================] - 9s 69ms/step - loss: 0.6336 - accuracy: 0.5889\n",
            "Epoch 22/50\n",
            "123/123 [==============================] - 9s 70ms/step - loss: 0.5321 - accuracy: 0.6053\n",
            "Epoch 23/50\n",
            "123/123 [==============================] - 9s 70ms/step - loss: 0.4535 - accuracy: 0.6205\n",
            "Epoch 24/50\n",
            "123/123 [==============================] - 9s 69ms/step - loss: 0.3904 - accuracy: 0.6320\n",
            "Epoch 25/50\n",
            "123/123 [==============================] - 9s 70ms/step - loss: 0.3438 - accuracy: 0.6398\n",
            "Epoch 26/50\n",
            "123/123 [==============================] - 9s 70ms/step - loss: 0.3210 - accuracy: 0.6425\n",
            "Epoch 27/50\n",
            "123/123 [==============================] - 9s 70ms/step - loss: 0.2947 - accuracy: 0.6456\n",
            "Epoch 28/50\n",
            "123/123 [==============================] - 9s 70ms/step - loss: 0.2796 - accuracy: 0.6484\n",
            "Epoch 29/50\n",
            "123/123 [==============================] - 9s 69ms/step - loss: 0.2750 - accuracy: 0.6479\n",
            "Epoch 30/50\n",
            "123/123 [==============================] - 9s 69ms/step - loss: 0.2502 - accuracy: 0.6525\n",
            "Epoch 31/50\n",
            "123/123 [==============================] - 9s 69ms/step - loss: 0.2513 - accuracy: 0.6530\n",
            "Epoch 32/50\n",
            "123/123 [==============================] - 9s 70ms/step - loss: 0.2410 - accuracy: 0.6543\n",
            "Epoch 33/50\n",
            "123/123 [==============================] - 10s 85ms/step - loss: 0.2437 - accuracy: 0.6526\n",
            "Epoch 34/50\n",
            "123/123 [==============================] - 9s 70ms/step - loss: 0.2171 - accuracy: 0.6584\n",
            "Epoch 35/50\n",
            "123/123 [==============================] - 9s 69ms/step - loss: 0.1913 - accuracy: 0.6656\n",
            "Epoch 36/50\n",
            "123/123 [==============================] - 9s 70ms/step - loss: 0.1802 - accuracy: 0.6669\n",
            "Epoch 37/50\n",
            "123/123 [==============================] - 9s 70ms/step - loss: 0.1755 - accuracy: 0.6693\n",
            "Epoch 38/50\n",
            "123/123 [==============================] - 9s 70ms/step - loss: 0.1519 - accuracy: 0.6749\n",
            "Epoch 39/50\n",
            "123/123 [==============================] - 9s 71ms/step - loss: 0.1411 - accuracy: 0.6783\n",
            "Epoch 40/50\n",
            "123/123 [==============================] - 9s 70ms/step - loss: 0.1447 - accuracy: 0.6777\n",
            "Epoch 41/50\n",
            "123/123 [==============================] - 9s 72ms/step - loss: 0.1130 - accuracy: 0.6849\n",
            "Epoch 42/50\n",
            "123/123 [==============================] - 9s 70ms/step - loss: 0.1139 - accuracy: 0.6848\n",
            "Epoch 43/50\n",
            "123/123 [==============================] - 9s 70ms/step - loss: 0.1110 - accuracy: 0.6853\n",
            "Epoch 44/50\n",
            "123/123 [==============================] - 9s 69ms/step - loss: 0.0990 - accuracy: 0.6887\n",
            "Epoch 45/50\n",
            "123/123 [==============================] - 9s 70ms/step - loss: 0.0939 - accuracy: 0.6899\n",
            "Epoch 46/50\n",
            "123/123 [==============================] - 9s 70ms/step - loss: 0.0915 - accuracy: 0.6906\n",
            "Epoch 47/50\n",
            "123/123 [==============================] - 9s 70ms/step - loss: 0.0876 - accuracy: 0.6916\n",
            "Epoch 48/50\n",
            "123/123 [==============================] - 9s 69ms/step - loss: 0.0802 - accuracy: 0.6935\n",
            "Epoch 49/50\n",
            "123/123 [==============================] - 9s 69ms/step - loss: 0.0740 - accuracy: 0.6945\n",
            "Epoch 50/50\n",
            "123/123 [==============================] - 9s 70ms/step - loss: 0.0716 - accuracy: 0.6959\n"
          ]
        },
        {
          "output_type": "execute_result",
          "data": {
            "text/plain": [
              "<keras.callbacks.History at 0x7f1ac0cd2050>"
            ]
          },
          "metadata": {},
          "execution_count": 42
        }
      ]
    },
    {
      "cell_type": "code",
      "source": [
        "sentence_generation('노래')"
      ],
      "metadata": {
        "id": "RIiuNppGHHMf",
        "colab": {
          "base_uri": "https://localhost:8080/",
          "height": 72
        },
        "outputId": "f8c854c1-f8f5-4137-824a-0bcf52ff6cab"
      },
      "execution_count": 44,
      "outputs": [
        {
          "output_type": "stream",
          "name": "stdout",
          "text": [
            "입력 : 노래\n",
            "출력 : 같이 들어봐요 .\n"
          ]
        },
        {
          "output_type": "execute_result",
          "data": {
            "application/vnd.google.colaboratory.intrinsic+json": {
              "type": "string"
            },
            "text/plain": [
              "'같이 들어봐요 .'"
            ]
          },
          "metadata": {},
          "execution_count": 44
        }
      ]
    },
    {
      "cell_type": "code",
      "source": [
        "sentence_generation('대머리')"
      ],
      "metadata": {
        "id": "7rnfcJN3HHPW",
        "colab": {
          "base_uri": "https://localhost:8080/",
          "height": 72
        },
        "outputId": "67678591-dcfe-4092-edab-09f3899775f4"
      },
      "execution_count": 45,
      "outputs": [
        {
          "output_type": "stream",
          "name": "stdout",
          "text": [
            "입력 : 대머리\n",
            "출력 : 바쁘면 좋을거죠 .\n"
          ]
        },
        {
          "output_type": "execute_result",
          "data": {
            "application/vnd.google.colaboratory.intrinsic+json": {
              "type": "string"
            },
            "text/plain": [
              "'바쁘면 좋을거죠 .'"
            ]
          },
          "metadata": {},
          "execution_count": 45
        }
      ]
    },
    {
      "cell_type": "code",
      "source": [
        "sentence_generation('점심메뉴 추천해주세요')"
      ],
      "metadata": {
        "colab": {
          "base_uri": "https://localhost:8080/",
          "height": 72
        },
        "id": "yoE8ibGv7Kju",
        "outputId": "a330ceef-c343-4207-ae97-fa08fe63f1a6"
      },
      "execution_count": 46,
      "outputs": [
        {
          "output_type": "stream",
          "name": "stdout",
          "text": [
            "입력 : 점심메뉴 추천해주세요\n",
            "출력 : 누구랑 먹는 냐에 따라 다르겠죠 .\n"
          ]
        },
        {
          "output_type": "execute_result",
          "data": {
            "application/vnd.google.colaboratory.intrinsic+json": {
              "type": "string"
            },
            "text/plain": [
              "'누구랑 먹는 냐에 따라 다르겠죠 .'"
            ]
          },
          "metadata": {},
          "execution_count": 46
        }
      ]
    },
    {
      "cell_type": "code",
      "source": [
        "sentence_generation('감자튀김 맛있다')"
      ],
      "metadata": {
        "colab": {
          "base_uri": "https://localhost:8080/",
          "height": 72
        },
        "id": "fPieqzC77Q1g",
        "outputId": "01284d38-6b2d-4933-9c8d-116f5f817a0e"
      },
      "execution_count": 47,
      "outputs": [
        {
          "output_type": "stream",
          "name": "stdout",
          "text": [
            "입력 : 감자튀김 맛있다\n",
            "출력 : 사랑한 만큼 땅만큼 보세요 .\n"
          ]
        },
        {
          "output_type": "execute_result",
          "data": {
            "application/vnd.google.colaboratory.intrinsic+json": {
              "type": "string"
            },
            "text/plain": [
              "'사랑한 만큼 땅만큼 보세요 .'"
            ]
          },
          "metadata": {},
          "execution_count": 47
        }
      ]
    },
    {
      "cell_type": "markdown",
      "source": [
        "#루브릭\n",
        "|평가문항||상세기준|\n",
        "|:--------||:---------|\n",
        "|1. 한국어 전처리를 통해 학습 데이터셋을 구축하였다.||공백과 특수문자 처리, 토크나이징, 병렬데이터 구축의 과정이 적절히 진행되었다.|\n",
        "|2. 트랜스포머 모델을 구현하여 한국어 챗봇 모델 학습을 정상적으로 진행하였다.||구현한 트랜스포머 모델이 한국어 병렬 데이터 학습 시 안정적으로 수렴하였다.|\n",
        "|3. 한국어 입력문장에 대해 한국어로 답변하는 함수를 구현하였다||한국어 입력문장에 그럴듯한 한국어로 답변을 리턴하였다.|"
      ],
      "metadata": {
        "id": "iN4bu-rD_2l9"
      }
    },
    {
      "cell_type": "markdown",
      "source": [
        "# 회고\n",
        "\n",
        "- 정확도 향상을 위해서 여러 하이퍼파라미터를 조절해보았지만 가장 극적인 차이는 문장 최대 길이 조절이었다.\n",
        "- 그래서 26, 15, 9로 각각 실행해본 결과는 0.25, 0.47, 0.70이었고 문장최대 길이를 짧게 만들수록 정확도가 높아진단 것을 알았다.\n",
        "- 저번 뉴스기사 요약하기에서 같은 단어를 반복하는 덜떨어진 문장을 만들어냈지만 이번은 답변데이터를 조합해서 새롭게 만들어내기도 하고 있는 문장 그대로 답변이 되기도 한다.\n",
        "- 그래서 말이 되는 듯 하지만 어딘가 이상하기도하고 질문자의 문맥을 파악하는 능력이 조금 떨어져보인다."
      ],
      "metadata": {
        "id": "XHtr33qYtUfW"
      }
    }
  ],
  "metadata": {
    "accelerator": "GPU",
    "colab": {
      "machine_shape": "hm",
      "name": "[E-12]transformer_chatbot",
      "provenance": []
    },
    "kernelspec": {
      "display_name": "Python 3",
      "name": "python3"
    },
    "language_info": {
      "name": "python"
    }
  },
  "nbformat": 4,
  "nbformat_minor": 0
}